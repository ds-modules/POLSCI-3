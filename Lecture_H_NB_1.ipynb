{
 "cells": [
  {
   "cell_type": "markdown",
   "metadata": {},
   "source": [
    "# Political Science 3 Lecture H: Descriptive Stats\n",
    "Professor: Jason Wittenberg  \n",
    "Author: William McEachen\n"
   ]
  },
  {
   "cell_type": "markdown",
   "metadata": {},
   "source": [
    "### Agenda:\n",
    "1) What are the types of data  \n",
    "2) Analyzing data  \n",
    "3) Distributions  \n",
    "4) Statisitcal Inference"
   ]
  },
  {
   "cell_type": "markdown",
   "metadata": {},
   "source": [
    "## Types of Data"
   ]
  },
  {
   "cell_type": "markdown",
   "metadata": {},
   "source": [
    "Once we have collected data, we need to understand the data better. Common questions might include, \"what is a \"normal\" value for this data?\" or \"is some of the data very different from the rest?\"\n",
    "\n",
    "Examples:   \n",
    "1) Scores on your midterm  \n",
    "2) Presidential election outcomes by party\n",
    "3) Gay marriage approval"
   ]
  },
  {
   "cell_type": "code",
   "execution_count": 1,
   "metadata": {},
   "outputs": [],
   "source": [
    "import numpy as np\n",
    "from scipy import stats\n",
    "from datascience import Table\n",
    "import pandas as pd\n",
    "from ipywidgets import *\n",
    "import seaborn as sns\n",
    "import matplotlib.pyplot as plt\n",
    "import warnings\n",
    "warnings.filterwarnings('ignore')"
   ]
  },
  {
   "cell_type": "code",
   "execution_count": 2,
   "metadata": {},
   "outputs": [
    {
     "data": {
      "text/html": [
       "<table border=\"1\" class=\"dataframe\">\n",
       "    <thead>\n",
       "        <tr>\n",
       "            <th>student id</th> <th>midterm grade</th>\n",
       "        </tr>\n",
       "    </thead>\n",
       "    <tbody>\n",
       "        <tr>\n",
       "            <td>312843048 </td> <td>82           </td>\n",
       "        </tr>\n",
       "        <tr>\n",
       "            <td>313877729 </td> <td>87           </td>\n",
       "        </tr>\n",
       "        <tr>\n",
       "            <td>311210423 </td> <td>87           </td>\n",
       "        </tr>\n",
       "        <tr>\n",
       "            <td>307985644 </td> <td>75           </td>\n",
       "        </tr>\n",
       "        <tr>\n",
       "            <td>327369862 </td> <td>77           </td>\n",
       "        </tr>\n",
       "        <tr>\n",
       "            <td>320014452 </td> <td>77           </td>\n",
       "        </tr>\n",
       "        <tr>\n",
       "            <td>339525493 </td> <td>73           </td>\n",
       "        </tr>\n",
       "        <tr>\n",
       "            <td>329671221 </td> <td>91           </td>\n",
       "        </tr>\n",
       "        <tr>\n",
       "            <td>316223887 </td> <td>78           </td>\n",
       "        </tr>\n",
       "        <tr>\n",
       "            <td>334518976 </td> <td>91           </td>\n",
       "        </tr>\n",
       "    </tbody>\n",
       "</table>\n",
       "<p>... (290 rows omitted)</p>"
      ],
      "text/plain": [
       "student id | midterm grade\n",
       "312843048  | 82\n",
       "313877729  | 87\n",
       "311210423  | 87\n",
       "307985644  | 75\n",
       "327369862  | 77\n",
       "320014452  | 77\n",
       "339525493  | 73\n",
       "329671221  | 91\n",
       "316223887  | 78\n",
       "334518976  | 91\n",
       "... (290 rows omitted)"
      ]
     },
     "execution_count": 2,
     "metadata": {},
     "output_type": "execute_result"
    }
   ],
   "source": [
    "class_size = 300\n",
    "\n",
    "grade_table = Table().with_columns(\n",
    "    'student id', np.random.randint(300000000, 350000000, class_size),\n",
    "    'midterm grade', np.random.randint(73, 93, class_size)\n",
    ")\n",
    "grade_table"
   ]
  },
  {
   "cell_type": "code",
   "execution_count": 3,
   "metadata": {},
   "outputs": [
    {
     "data": {
      "text/html": [
       "<div>\n",
       "<style scoped>\n",
       "    .dataframe tbody tr th:only-of-type {\n",
       "        vertical-align: middle;\n",
       "    }\n",
       "\n",
       "    .dataframe tbody tr th {\n",
       "        vertical-align: top;\n",
       "    }\n",
       "\n",
       "    .dataframe thead th {\n",
       "        text-align: right;\n",
       "    }\n",
       "</style>\n",
       "<table border=\"1\" class=\"dataframe\">\n",
       "  <thead>\n",
       "    <tr style=\"text-align: right;\">\n",
       "      <th></th>\n",
       "      <th>year</th>\n",
       "      <th>political party</th>\n",
       "    </tr>\n",
       "  </thead>\n",
       "  <tbody>\n",
       "    <tr>\n",
       "      <td>0</td>\n",
       "      <td>*1789*</td>\n",
       "      <td>no formally organized parties</td>\n",
       "    </tr>\n",
       "    <tr>\n",
       "      <td>1</td>\n",
       "      <td>*1792*</td>\n",
       "      <td>Federalist</td>\n",
       "    </tr>\n",
       "    <tr>\n",
       "      <td>2</td>\n",
       "      <td>*1796*</td>\n",
       "      <td>Federalist</td>\n",
       "    </tr>\n",
       "    <tr>\n",
       "      <td>3</td>\n",
       "      <td>*1800*</td>\n",
       "      <td>Democratic-Republican</td>\n",
       "    </tr>\n",
       "    <tr>\n",
       "      <td>4</td>\n",
       "      <td>*1804*</td>\n",
       "      <td>Democratic-Republican</td>\n",
       "    </tr>\n",
       "    <tr>\n",
       "      <td>5</td>\n",
       "      <td>*1808*</td>\n",
       "      <td>Democratic-Republican</td>\n",
       "    </tr>\n",
       "    <tr>\n",
       "      <td>6</td>\n",
       "      <td>*1812*</td>\n",
       "      <td>Democratic-Republican</td>\n",
       "    </tr>\n",
       "    <tr>\n",
       "      <td>7</td>\n",
       "      <td>*1816*</td>\n",
       "      <td>Democratic-Republican</td>\n",
       "    </tr>\n",
       "    <tr>\n",
       "      <td>8</td>\n",
       "      <td>*1820*</td>\n",
       "      <td>Democratic-Republican</td>\n",
       "    </tr>\n",
       "    <tr>\n",
       "      <td>9</td>\n",
       "      <td>*1824*</td>\n",
       "      <td>no distinct party designations</td>\n",
       "    </tr>\n",
       "  </tbody>\n",
       "</table>\n",
       "</div>"
      ],
      "text/plain": [
       "     year                 political party\n",
       "0  *1789*   no formally organized parties\n",
       "1  *1792*                      Federalist\n",
       "2  *1796*                      Federalist\n",
       "3  *1800*           Democratic-Republican\n",
       "4  *1804*           Democratic-Republican\n",
       "5  *1808*           Democratic-Republican\n",
       "6  *1812*           Democratic-Republican\n",
       "7  *1816*           Democratic-Republican\n",
       "8  *1820*           Democratic-Republican\n",
       "9  *1824*  no distinct party designations"
      ]
     },
     "execution_count": 3,
     "metadata": {},
     "output_type": "execute_result"
    }
   ],
   "source": [
    "election_table = pd.read_csv('data/pres_party.csv')\n",
    "election_table"
   ]
  },
  {
   "cell_type": "code",
   "execution_count": 4,
   "metadata": {},
   "outputs": [
    {
     "data": {
      "text/html": [
       "<table border=\"1\" class=\"dataframe\">\n",
       "    <thead>\n",
       "        <tr>\n",
       "            <th>student id</th> <th>policy approval</th>\n",
       "        </tr>\n",
       "    </thead>\n",
       "    <tbody>\n",
       "        <tr>\n",
       "            <td>307297948 </td> <td>Like            </td>\n",
       "        </tr>\n",
       "        <tr>\n",
       "            <td>322002647 </td> <td>Like            </td>\n",
       "        </tr>\n",
       "        <tr>\n",
       "            <td>341553270 </td> <td>Neutral         </td>\n",
       "        </tr>\n",
       "        <tr>\n",
       "            <td>318927121 </td> <td>Dislike Somewhat</td>\n",
       "        </tr>\n",
       "        <tr>\n",
       "            <td>316284626 </td> <td>Dislike         </td>\n",
       "        </tr>\n",
       "        <tr>\n",
       "            <td>334029576 </td> <td>Dislike         </td>\n",
       "        </tr>\n",
       "        <tr>\n",
       "            <td>344486226 </td> <td>Neutral         </td>\n",
       "        </tr>\n",
       "        <tr>\n",
       "            <td>310267176 </td> <td>Neutral         </td>\n",
       "        </tr>\n",
       "        <tr>\n",
       "            <td>322934876 </td> <td>Like            </td>\n",
       "        </tr>\n",
       "        <tr>\n",
       "            <td>324451090 </td> <td>Like            </td>\n",
       "        </tr>\n",
       "    </tbody>\n",
       "</table>"
      ],
      "text/plain": [
       "student id | policy approval\n",
       "307297948  | Like\n",
       "322002647  | Like\n",
       "341553270  | Neutral\n",
       "318927121  | Dislike Somewhat\n",
       "316284626  | Dislike\n",
       "334029576  | Dislike\n",
       "344486226  | Neutral\n",
       "310267176  | Neutral\n",
       "322934876  | Like\n",
       "324451090  | Like"
      ]
     },
     "execution_count": 4,
     "metadata": {},
     "output_type": "execute_result"
    }
   ],
   "source": [
    "%matplotlib inline\n",
    "ord_vals = ['Like','Like Somewhat','Neutral','Dislike Somewhat','Dislike']\n",
    "np.random.choice(ord_vals, 10)\n",
    "approval_table = Table().with_columns(\n",
    "    'student id', np.random.randint(300000000, 350000000, 10),\n",
    "    'policy approval', np.random.choice(ord_vals, 10)\n",
    ")\n",
    "approval_table"
   ]
  },
  {
   "cell_type": "markdown",
   "metadata": {},
   "source": [
    "### Measurement Metric\n",
    "\n",
    "Different sets of data, or variables, often have different kinds of values that the data/variable can hold. In the two examples above, the \"midterm grade\" data can have numeric values between 70 and 90, and \"political party\" can be any one of the political parties in US history.\n",
    "\n",
    "**How can we differentiate between these kinds of data?**\n",
    "\n",
    "The *measurement metric* of a variable is the type of value the variable can take on. Variables are one of three types: *categorical*, *ordinal*, and *continuous*. Let's take a look at each of these."
   ]
  },
  {
   "cell_type": "markdown",
   "metadata": {},
   "source": [
    "### Categorical Variables\n",
    "Categorical variables are variables that take on one of a finite, unordered, list of values. Above, the winning political party is a categorical variable because its values are from a finite set (Republican, Democrat, Whig, etc). Additionally, there is no ordering between these parties.\n",
    "\n",
    "Additional examples: religious identification, dog breed, colors.\n",
    "\n",
    "**Check Your Understanding:**\n",
    "Above, would midterm grades count as a categorical variable? Why or why not?"
   ]
  },
  {
   "cell_type": "markdown",
   "metadata": {},
   "source": [
    "### Ordinal Variables\n",
    "Ordinal variables are variables that take on one of a finite, *ordered*, list of values. Above, the approval rating is a categorical variable because its values are from a finite set (like, dislike, neutral, etc). Additionally, there is an ordering between the values: \"like\" has a higher ranking than \"neutral\" or \"dislike\".\n",
    "\n",
    "Additional examples: socioeconomic status (e.g middle class), health status (\"healthy\", \"somewhat sick\", etc).\n",
    "\n",
    "**Check Your Understanding:**\n",
    "Above, would midterm grades count as an ordinal variable? Why or why not? What about political party?"
   ]
  },
  {
   "cell_type": "markdown",
   "metadata": {},
   "source": [
    "### Continuous Variables\n",
    "Continuous variables are variables that take on one of a *potentially* infinite, ordered, list of values. Above, the midterm grade variable is continuous because its values are any numeric value between 70 and 90..\n",
    "\n",
    "Additional examples: income, age, temperature.\n",
    "\n",
    "What's the difference between continuous and ordinal variables? While it can appear that continuous and ordinal variables are the same, there is an important distinction: *equal unit difference*. For ordinal variables, the difference between each value does not have to be the same. For continuous variables, the difference must be the same. For example, if measuring socioeconomic status (an ordinal variable), the difference between \"lower class\" and \"middle class\" is not necessarily the same difference between \"middle class\" and \"upper class\". In contrast, units of age are equidistant: the difference between age 11 and 12 is the same as between 29 and 30.\n",
    "\n",
    "**Check Your Understanding:**\n",
    "Above, would approval rating count as a continuous variable? Why or why not?"
   ]
  },
  {
   "cell_type": "markdown",
   "metadata": {},
   "source": [
    "## Analyzing Data"
   ]
  },
  {
   "cell_type": "markdown",
   "metadata": {},
   "source": [
    "There are two ways to describe a variable: measures of *central tendency* and *variation* (or *dispersion*). \n",
    "\n"
   ]
  },
  {
   "cell_type": "markdown",
   "metadata": {},
   "source": [
    "### Central Tendency\n",
    "What are typical values of the variable?"
   ]
  },
  {
   "cell_type": "markdown",
   "metadata": {},
   "source": [
    "There are 3 ways of measuring central tendency: mode, mean, median.  \n",
    "1) *Mode*: the value that occurs most frequently in the data  \n",
    "2) *Mean*: the average value, calculated by adding all values of the variable together and dividing by the number of occurences of the variable.  \n",
    "3) *Median*: the middle value, calculated by ordering all values of the variable by their rank, and choosing the value in the middle."
   ]
  },
  {
   "cell_type": "markdown",
   "metadata": {},
   "source": [
    "#### Use Cases "
   ]
  },
  {
   "cell_type": "markdown",
   "metadata": {},
   "source": [
    "**Mode:**  \n",
    "Can we use mean or median for categorical variables? No! Because there is no rank system, no order, between values, we can not apply normal arithmetic operators such as addition or multiplication. Therefore, we must rely on mode for categorical variables. \n",
    "\n",
    "*Check Your Understanding*: What's the mode value of election_table below?"
   ]
  },
  {
   "cell_type": "code",
   "execution_count": 5,
   "metadata": {},
   "outputs": [
    {
     "data": {
      "text/html": [
       "<div>\n",
       "<style scoped>\n",
       "    .dataframe tbody tr th:only-of-type {\n",
       "        vertical-align: middle;\n",
       "    }\n",
       "\n",
       "    .dataframe tbody tr th {\n",
       "        vertical-align: top;\n",
       "    }\n",
       "\n",
       "    .dataframe thead th {\n",
       "        text-align: right;\n",
       "    }\n",
       "</style>\n",
       "<table border=\"1\" class=\"dataframe\">\n",
       "  <thead>\n",
       "    <tr style=\"text-align: right;\">\n",
       "      <th></th>\n",
       "      <th>year</th>\n",
       "      <th>political party</th>\n",
       "    </tr>\n",
       "  </thead>\n",
       "  <tbody>\n",
       "    <tr>\n",
       "      <td>0</td>\n",
       "      <td>*1789*</td>\n",
       "      <td>no formally organized parties</td>\n",
       "    </tr>\n",
       "    <tr>\n",
       "      <td>1</td>\n",
       "      <td>*1792*</td>\n",
       "      <td>Federalist</td>\n",
       "    </tr>\n",
       "    <tr>\n",
       "      <td>2</td>\n",
       "      <td>*1796*</td>\n",
       "      <td>Federalist</td>\n",
       "    </tr>\n",
       "    <tr>\n",
       "      <td>3</td>\n",
       "      <td>*1800*</td>\n",
       "      <td>Democratic-Republican</td>\n",
       "    </tr>\n",
       "    <tr>\n",
       "      <td>4</td>\n",
       "      <td>*1804*</td>\n",
       "      <td>Democratic-Republican</td>\n",
       "    </tr>\n",
       "    <tr>\n",
       "      <td>5</td>\n",
       "      <td>*1808*</td>\n",
       "      <td>Democratic-Republican</td>\n",
       "    </tr>\n",
       "    <tr>\n",
       "      <td>6</td>\n",
       "      <td>*1812*</td>\n",
       "      <td>Democratic-Republican</td>\n",
       "    </tr>\n",
       "    <tr>\n",
       "      <td>7</td>\n",
       "      <td>*1816*</td>\n",
       "      <td>Democratic-Republican</td>\n",
       "    </tr>\n",
       "    <tr>\n",
       "      <td>8</td>\n",
       "      <td>*1820*</td>\n",
       "      <td>Democratic-Republican</td>\n",
       "    </tr>\n",
       "    <tr>\n",
       "      <td>9</td>\n",
       "      <td>*1824*</td>\n",
       "      <td>no distinct party designations</td>\n",
       "    </tr>\n",
       "  </tbody>\n",
       "</table>\n",
       "</div>"
      ],
      "text/plain": [
       "     year                 political party\n",
       "0  *1789*   no formally organized parties\n",
       "1  *1792*                      Federalist\n",
       "2  *1796*                      Federalist\n",
       "3  *1800*           Democratic-Republican\n",
       "4  *1804*           Democratic-Republican\n",
       "5  *1808*           Democratic-Republican\n",
       "6  *1812*           Democratic-Republican\n",
       "7  *1816*           Democratic-Republican\n",
       "8  *1820*           Democratic-Republican\n",
       "9  *1824*  no distinct party designations"
      ]
     },
     "execution_count": 5,
     "metadata": {},
     "output_type": "execute_result"
    }
   ],
   "source": [
    "election_table"
   ]
  },
  {
   "cell_type": "markdown",
   "metadata": {},
   "source": [
    "**Median:**  \n",
    "We can use the median measurement for ordinal and continuous variables. \n",
    "\n",
    "How can we calculate the median value for an ordinal variable? Because ordinal variables have a ranking, we can find the middle value.\n",
    "\n",
    "*Check Your Understanding*: What's the median value of \"policy approval\" below?"
   ]
  },
  {
   "cell_type": "code",
   "execution_count": 6,
   "metadata": {},
   "outputs": [
    {
     "data": {
      "text/html": [
       "<table border=\"1\" class=\"dataframe\">\n",
       "    <thead>\n",
       "        <tr>\n",
       "            <th>student id</th> <th>policy approval</th>\n",
       "        </tr>\n",
       "    </thead>\n",
       "    <tbody>\n",
       "        <tr>\n",
       "            <td>307297948 </td> <td>Like            </td>\n",
       "        </tr>\n",
       "        <tr>\n",
       "            <td>322002647 </td> <td>Like            </td>\n",
       "        </tr>\n",
       "        <tr>\n",
       "            <td>341553270 </td> <td>Neutral         </td>\n",
       "        </tr>\n",
       "        <tr>\n",
       "            <td>318927121 </td> <td>Dislike Somewhat</td>\n",
       "        </tr>\n",
       "        <tr>\n",
       "            <td>316284626 </td> <td>Dislike         </td>\n",
       "        </tr>\n",
       "        <tr>\n",
       "            <td>334029576 </td> <td>Dislike         </td>\n",
       "        </tr>\n",
       "        <tr>\n",
       "            <td>344486226 </td> <td>Neutral         </td>\n",
       "        </tr>\n",
       "        <tr>\n",
       "            <td>310267176 </td> <td>Neutral         </td>\n",
       "        </tr>\n",
       "        <tr>\n",
       "            <td>322934876 </td> <td>Like            </td>\n",
       "        </tr>\n",
       "        <tr>\n",
       "            <td>324451090 </td> <td>Like            </td>\n",
       "        </tr>\n",
       "    </tbody>\n",
       "</table>"
      ],
      "text/plain": [
       "student id | policy approval\n",
       "307297948  | Like\n",
       "322002647  | Like\n",
       "341553270  | Neutral\n",
       "318927121  | Dislike Somewhat\n",
       "316284626  | Dislike\n",
       "334029576  | Dislike\n",
       "344486226  | Neutral\n",
       "310267176  | Neutral\n",
       "322934876  | Like\n",
       "324451090  | Like"
      ]
     },
     "execution_count": 6,
     "metadata": {},
     "output_type": "execute_result"
    }
   ],
   "source": [
    "approval_table"
   ]
  },
  {
   "cell_type": "markdown",
   "metadata": {},
   "source": [
    "**Mean:**  \n",
    "We can use the mean measurement for continuous variables. For a variable $X$, its mean, $\\overline{X}$, can be found thus:\n",
    "\n",
    "$$\\overline{X} = \\frac{\\sum_{i=1}^{n}X_i}{n}$$\n",
    "\n",
    "*Check Your Understanding*: What's the mean value of \"midterm grade\" below?"
   ]
  },
  {
   "cell_type": "code",
   "execution_count": 7,
   "metadata": {},
   "outputs": [
    {
     "data": {
      "text/html": [
       "<table border=\"1\" class=\"dataframe\">\n",
       "    <thead>\n",
       "        <tr>\n",
       "            <th>student id</th> <th>midterm grade</th>\n",
       "        </tr>\n",
       "    </thead>\n",
       "    <tbody>\n",
       "        <tr>\n",
       "            <td>312843048 </td> <td>82           </td>\n",
       "        </tr>\n",
       "        <tr>\n",
       "            <td>313877729 </td> <td>87           </td>\n",
       "        </tr>\n",
       "        <tr>\n",
       "            <td>311210423 </td> <td>87           </td>\n",
       "        </tr>\n",
       "        <tr>\n",
       "            <td>307985644 </td> <td>75           </td>\n",
       "        </tr>\n",
       "        <tr>\n",
       "            <td>327369862 </td> <td>77           </td>\n",
       "        </tr>\n",
       "        <tr>\n",
       "            <td>320014452 </td> <td>77           </td>\n",
       "        </tr>\n",
       "        <tr>\n",
       "            <td>339525493 </td> <td>73           </td>\n",
       "        </tr>\n",
       "        <tr>\n",
       "            <td>329671221 </td> <td>91           </td>\n",
       "        </tr>\n",
       "        <tr>\n",
       "            <td>316223887 </td> <td>78           </td>\n",
       "        </tr>\n",
       "        <tr>\n",
       "            <td>334518976 </td> <td>91           </td>\n",
       "        </tr>\n",
       "    </tbody>\n",
       "</table>"
      ],
      "text/plain": [
       "student id | midterm grade\n",
       "312843048  | 82\n",
       "313877729  | 87\n",
       "311210423  | 87\n",
       "307985644  | 75\n",
       "327369862  | 77\n",
       "320014452  | 77\n",
       "339525493  | 73\n",
       "329671221  | 91\n",
       "316223887  | 78\n",
       "334518976  | 91"
      ]
     },
     "execution_count": 7,
     "metadata": {},
     "output_type": "execute_result"
    }
   ],
   "source": [
    "grade_table.take[:10]"
   ]
  },
  {
   "cell_type": "markdown",
   "metadata": {},
   "source": [
    "### Using Python\n",
    "Python makes calculating measures of central tendency easy!  \n",
    "1) *Mode*: call <code>stats.mode()</code> on the table column of interest  \n",
    "2) *Median*: call <code>np.median()</code> on the table column of interest  \n",
    "3) *Mean*: call <code>np.mean()</code> on the table column of interest"
   ]
  },
  {
   "cell_type": "code",
   "execution_count": 8,
   "metadata": {},
   "outputs": [
    {
     "name": "stdout",
     "output_type": "stream",
     "text": [
      "Mode:  ModeResult(mode=array(['Like'], dtype='<U16'), count=array([4]))\n",
      "Median:  82.0\n",
      "Mean:  82.43\n"
     ]
    }
   ],
   "source": [
    "#Mode\n",
    "print(\"Mode: \", stats.mode(approval_table.column('policy approval')))\n",
    "#Median\n",
    "print(\"Median: \", np.median(grade_table.column('midterm grade')))\n",
    "# Mean\n",
    "print(\"Mean: \", np.mean(grade_table.column('midterm grade')))"
   ]
  },
  {
   "cell_type": "markdown",
   "metadata": {},
   "source": [
    "### Variation/Dispersion\n",
    "How much do the values of the variable vary? The most common measurement is the *standard deviation*, which is calculated by looking at the average difference between the average value and all actual values of the variable.\n",
    "$$Standard Deviation(X) = \\sqrt{(variance(X))}= \\sqrt{\\frac{\\sum_{i=1}^{n} (X_i - \\overline{X})^2}{n-1}}$$\n",
    "\n",
    "Let's take a look at an example with the midterm scores:"
   ]
  },
  {
   "cell_type": "code",
   "execution_count": 9,
   "metadata": {},
   "outputs": [
    {
     "data": {
      "text/html": [
       "<table border=\"1\" class=\"dataframe\">\n",
       "    <thead>\n",
       "        <tr>\n",
       "            <th>midterm grade</th>\n",
       "        </tr>\n",
       "    </thead>\n",
       "    <tbody>\n",
       "        <tr>\n",
       "            <td>82           </td>\n",
       "        </tr>\n",
       "        <tr>\n",
       "            <td>87           </td>\n",
       "        </tr>\n",
       "        <tr>\n",
       "            <td>87           </td>\n",
       "        </tr>\n",
       "        <tr>\n",
       "            <td>75           </td>\n",
       "        </tr>\n",
       "        <tr>\n",
       "            <td>77           </td>\n",
       "        </tr>\n",
       "        <tr>\n",
       "            <td>77           </td>\n",
       "        </tr>\n",
       "        <tr>\n",
       "            <td>73           </td>\n",
       "        </tr>\n",
       "        <tr>\n",
       "            <td>91           </td>\n",
       "        </tr>\n",
       "        <tr>\n",
       "            <td>78           </td>\n",
       "        </tr>\n",
       "        <tr>\n",
       "            <td>91           </td>\n",
       "        </tr>\n",
       "    </tbody>\n",
       "</table>"
      ],
      "text/plain": [
       "midterm grade\n",
       "82\n",
       "87\n",
       "87\n",
       "75\n",
       "77\n",
       "77\n",
       "73\n",
       "91\n",
       "78\n",
       "91"
      ]
     },
     "execution_count": 9,
     "metadata": {},
     "output_type": "execute_result"
    }
   ],
   "source": [
    "# The values\n",
    "grade_table.select('midterm grade').take[:10]"
   ]
  },
  {
   "cell_type": "code",
   "execution_count": 10,
   "metadata": {},
   "outputs": [
    {
     "data": {
      "text/plain": [
       "82.43"
      ]
     },
     "execution_count": 10,
     "metadata": {},
     "output_type": "execute_result"
    }
   ],
   "source": [
    "#The mean:\n",
    "np.mean(grade_table.column('midterm grade'))"
   ]
  },
  {
   "cell_type": "markdown",
   "metadata": {},
   "source": [
    "Given the two above, calculate the standard deviation!"
   ]
  },
  {
   "cell_type": "markdown",
   "metadata": {},
   "source": [
    "### Using Python\n",
    "Python makes calculating measures of variance easy!  \n",
    "1) *Standard Deviation*: call <code>np.std()</code> on the table column of interest  \n",
    "The above is a shorthand for the above calculation, which we can prove below:"
   ]
  },
  {
   "cell_type": "code",
   "execution_count": 11,
   "metadata": {},
   "outputs": [
    {
     "name": "stdout",
     "output_type": "stream",
     "text": [
      "5.6661362496854935\n",
      "5.6661362496854935\n",
      "5.6661362496854935\n"
     ]
    }
   ],
   "source": [
    "grades_list = grade_table.column('midterm grade')\n",
    "print(np.std(grades_list))\n",
    "print(np.sqrt(np.var(grades_list)))\n",
    "print(np.sqrt(sum((grades_list-np.mean(grades_list))**2)/(len(grades_list))))"
   ]
  },
  {
   "cell_type": "markdown",
   "metadata": {},
   "source": [
    "Let's review each of the functions used above:  \n",
    "* <code>np.std()</code>: calculate the standard deviation of a list  \n",
    "* <code>np.sqrt()</code>: calculate the square root of a value  \n",
    "* <code>np.var()</code>: calculate the variance of a list  \n",
    "* <code>len()</code>: calculate the number of items in a list (our *n*)"
   ]
  },
  {
   "cell_type": "markdown",
   "metadata": {},
   "source": [
    "## Distributions\n",
    "We have covered how to calculate the key statistics for a variable. Most often, these variables represent samples of larger distributions, or sets of values. Collecting data from an entire population is expensive, and so most data sets will be limited to samples of the population. However, a problem arises from this: we normally want the statistics for the overall population, not just the sample.\n",
    "\n",
    "For example, when determining presidential approval, surveys will create samples of 1-3,000 responses. However, we are rarely concerned with just the opinions of the survey respondents, but rather the broader American people. How can we determine the \"true\" statistical values for the population when we only have the sample values?"
   ]
  },
  {
   "cell_type": "markdown",
   "metadata": {},
   "source": [
    "Before we start, it's important to emphasize that distributions can truly take on any form. Therefore, if we can reliably produce distributions that share the same features, we have a potentially useful tool. Let's look at some other distributions to highlight how feature consistency can be valuable:"
   ]
  },
  {
   "cell_type": "code",
   "execution_count": 26,
   "metadata": {},
   "outputs": [
    {
     "ename": "SyntaxError",
     "evalue": "invalid syntax (<ipython-input-26-55cb22651253>, line 3)",
     "output_type": "error",
     "traceback": [
      "\u001b[1;36m  File \u001b[1;32m\"<ipython-input-26-55cb22651253>\"\u001b[1;36m, line \u001b[1;32m3\u001b[0m\n\u001b[1;33m    sns.distplot(nimport seaborn as sns\u001b[0m\n\u001b[1;37m                               ^\u001b[0m\n\u001b[1;31mSyntaxError\u001b[0m\u001b[1;31m:\u001b[0m invalid syntax\n"
     ]
    }
   ],
   "source": [
    "fig, axs = plt.subplots(1, 3, figsize=(20,10))\n",
    "sns.distplot(np.random.randint(100, size=1000), ax=axs[0])\n",
    "sns.distplot(nimport seaborn as sns\n",
    "p.random.gamma(2, 2, size=1000), ax=axs[1])\n",
    "sns.distplot(np.random.geometric(.7, size=1000), ax=axs[2])"
   ]
  },
  {
   "cell_type": "markdown",
   "metadata": {},
   "source": [
    "Before we start, we need to define a normal distribution:  \n",
    "A normal distribution is a distribution of data that is *symmetrical*: its mean, median, and mode, are the same. It follows the 68-95-99 rule: 68% of the distribution lies within 1 standard deviation of the mean, 95% within 2 standard deviations, and 99% within 3 standard deviations. *Many distributions are not normal*.  \n",
    "\n",
    "The cell below displays a normal distribution, with colored lines at the standard deviation boundaries. \n"
   ]
  },
  {
   "cell_type": "code",
   "execution_count": 16,
   "metadata": {},
   "outputs": [
    {
     "data": {
      "application/vnd.jupyter.widget-view+json": {
       "model_id": "699b353f11cb4d0ca88fd3fb7dd7bc4e",
       "version_major": 2,
       "version_minor": 0
      },
      "text/plain": [
       "interactive(children=(IntSlider(value=100, description='center', max=300, min=-100), IntSlider(value=3, descri…"
      ]
     },
     "metadata": {},
     "output_type": "display_data"
    },
    {
     "data": {
      "text/plain": [
       "<function __main__.normal_dist(center, standard_dev)>"
      ]
     },
     "execution_count": 16,
     "metadata": {},
     "output_type": "execute_result"
    }
   ],
   "source": [
    "#Normal Distributions\n",
    "def normal_dist(center, standard_dev):\n",
    "    x = np.random.normal(loc=center, scale=standard_dev, size=10000)\n",
    "    sns.distplot(x)\n",
    "    plt.xlim(90,110)\n",
    "    avg = np.mean(x)\n",
    "    std_dev = np.std(x)\n",
    "    std_devs = np.array([(avg - i*std_dev, avg + i*std_dev) for i in range(1,4)]).flatten()\n",
    "    for index, position in np.ndenumerate(std_devs):\n",
    "        index = index[0]\n",
    "        color = 'y' if index > 3 else 'b' if index > 1 else 'r'\n",
    "        plt.axvline(position, color=color)\n",
    "\n",
    "interact(normal_dist, center=100, standard_dev=(1,5), continuous_update=False)"
   ]
  },
  {
   "cell_type": "markdown",
   "metadata": {},
   "source": [
    "### Central Limit Theorem"
   ]
  },
  {
   "cell_type": "markdown",
   "metadata": {},
   "source": [
    "In order to understand the central limit theorem, we start with a simple example: rolling dice. A dice roll has an equal probability of landing on each of its sides. Below, you can use the widget to simulate rolling dice between 10 and 1,000 times and view the distribution of results. "
   ]
  },
  {
   "cell_type": "code",
   "execution_count": 17,
   "metadata": {
    "scrolled": false
   },
   "outputs": [
    {
     "data": {
      "application/vnd.jupyter.widget-view+json": {
       "model_id": "474f08cd615a48929ce44bf55289de62",
       "version_major": 2,
       "version_minor": 0
      },
      "text/plain": [
       "interactive(children=(IntSlider(value=505, description='num_rolls', max=1000, min=10), Output()), _dom_classes…"
      ]
     },
     "metadata": {},
     "output_type": "display_data"
    },
    {
     "data": {
      "text/plain": [
       "<function __main__.dice_rolls(num_rolls)>"
      ]
     },
     "execution_count": 17,
     "metadata": {},
     "output_type": "execute_result"
    }
   ],
   "source": [
    "#Dice rolling\n",
    "faces = [1,2,3,4,5,6]\n",
    "def dice_rolls(num_rolls):\n",
    "    outcomes = np.random.choice(faces, num_rolls)\n",
    "    sns.distplot(outcomes, kde=False, bins=6)\n",
    "    print(np.mean(outcomes))\n",
    "interact(dice_rolls, num_rolls=(10,1000))"
   ]
  },
  {
   "cell_type": "markdown",
   "metadata": {},
   "source": [
    "This is called a *uniform distribution*: each of the different outcomes (sides of the dice) have an equal chance of occuring. If the distribution isn't even, try running the cell again. What do you notice about the the distribution?"
   ]
  },
  {
   "cell_type": "markdown",
   "metadata": {},
   "source": [
    "*Check Your Understanding*:  \n",
    "If there is an equal likelihood for each of the sides, what is the mean outcome?  \n",
    "<details><summary>Answer</summary>  \n",
    "<p>\n",
    "$\\frac{1}{6}\\sum_{i=1}^6 i =\\frac{1}{6}(1)+\\frac{1}{6}(2)+\\frac{1}{6}(3)+\\frac{1}{6}(4)+\\frac{1}{6}(5)+ \\frac{1}{6}(6) = 3.5$\n",
    "</p>\n",
    "</details>"
   ]
  },
  {
   "cell_type": "markdown",
   "metadata": {},
   "source": [
    "If we rolled the dice 100 times and calculated the mean, it won't be the same as the true mean of 3.5. That's because with natural randomness, the likelihood that the outcomes are perfectly distributed is low! Above, notice how even with a large number of rolls, some sides of the die usually occurs more frequently."
   ]
  },
  {
   "cell_type": "markdown",
   "metadata": {},
   "source": [
    "*If we didn't know the underlying probability behind the outcome of the dice rolls, how can we determine what the true mean is?*"
   ]
  },
  {
   "cell_type": "markdown",
   "metadata": {},
   "source": [
    "If we repeatedly rolled the dice 100 times and recorded the mean, what should we expect? Would it look like the above distribution? The cell below rolls a dice 100 times, calculates the mean, and then repeats that between 100 and 10,000 times. The histogram represents the distribution of means, not the distribution of underlying values."
   ]
  },
  {
   "cell_type": "code",
   "execution_count": 18,
   "metadata": {},
   "outputs": [
    {
     "data": {
      "application/vnd.jupyter.widget-view+json": {
       "model_id": "321c490558c54455bc68de949969c8af",
       "version_major": 2,
       "version_minor": 0
      },
      "text/plain": [
       "interactive(children=(IntSlider(value=100, description='sample_size', max=1000, min=1), Output()), _dom_classe…"
      ]
     },
     "metadata": {},
     "output_type": "display_data"
    },
    {
     "data": {
      "text/plain": [
       "<function __main__.mean_distribution(sample_size=100)>"
      ]
     },
     "execution_count": 18,
     "metadata": {},
     "output_type": "execute_result"
    }
   ],
   "source": [
    "#Dice Rolling Average\n",
    "def mean_distribution(sample_size=100):\n",
    "    average_values = []\n",
    "    for _ in range(10000):\n",
    "        faces = [1,2,3,4,5,6]\n",
    "        rolls = np.random.choice(faces, sample_size)\n",
    "        average_value = np.mean(rolls)\n",
    "        average_values.append(average_value)\n",
    "    sns.distplot(average_values)\n",
    "    plt.xlim(2.5, 4.5)\n",
    "interact(mean_distribution, sample_size=(1,1000), continuous_update=False)"
   ]
  },
  {
   "cell_type": "markdown",
   "metadata": {},
   "source": [
    "*Review*: As you increase and decrease the sample size, what do you notice about the sampling distribution?"
   ]
  },
  {
   "cell_type": "markdown",
   "metadata": {},
   "source": [
    "The above distribution is centered around 3.5! The *sampling distribution*, the hypothetical distribution of sample means (dice roll average outcomes), is centered around the true population mean. This phenomenon is the basis of the Central Limit Theorem, which states that regardless of the underlying distribution of data, the sampling distribution for the data will be a normal distribution.  \n",
    "\n",
    "The distribution of sample means will have an average equal to the population mean, and has a standard deviation equal to: $$\\sigma_\\overline{Y}=\\frac{\\sigma_Y}{\\sqrt{n}}$$\n",
    "\n",
    "The sampling distribution standard deviation is the *standard error of the mean*. We can use it to make inferences about the overall population."
   ]
  },
  {
   "cell_type": "markdown",
   "metadata": {},
   "source": [
    "### Using Python\n",
    "Python makes calculating measures of variance easy!  \n",
    "1) *Standard Errors*: call <code>stats.sem()</code> on the table column of interest  "
   ]
  },
  {
   "cell_type": "markdown",
   "metadata": {},
   "source": [
    "## Statistical Inference"
   ]
  },
  {
   "cell_type": "markdown",
   "metadata": {},
   "source": [
    "The above properties enables us to determine features of the population distribution from the sample. We'll highlight this with an example from above, the grade_table data set."
   ]
  },
  {
   "cell_type": "code",
   "execution_count": 19,
   "metadata": {},
   "outputs": [
    {
     "data": {
      "text/html": [
       "<table border=\"1\" class=\"dataframe\">\n",
       "    <thead>\n",
       "        <tr>\n",
       "            <th>student id</th> <th>midterm grade</th>\n",
       "        </tr>\n",
       "    </thead>\n",
       "    <tbody>\n",
       "        <tr>\n",
       "            <td>312843048 </td> <td>82           </td>\n",
       "        </tr>\n",
       "        <tr>\n",
       "            <td>313877729 </td> <td>87           </td>\n",
       "        </tr>\n",
       "        <tr>\n",
       "            <td>311210423 </td> <td>87           </td>\n",
       "        </tr>\n",
       "        <tr>\n",
       "            <td>307985644 </td> <td>75           </td>\n",
       "        </tr>\n",
       "        <tr>\n",
       "            <td>327369862 </td> <td>77           </td>\n",
       "        </tr>\n",
       "        <tr>\n",
       "            <td>320014452 </td> <td>77           </td>\n",
       "        </tr>\n",
       "        <tr>\n",
       "            <td>339525493 </td> <td>73           </td>\n",
       "        </tr>\n",
       "        <tr>\n",
       "            <td>329671221 </td> <td>91           </td>\n",
       "        </tr>\n",
       "        <tr>\n",
       "            <td>316223887 </td> <td>78           </td>\n",
       "        </tr>\n",
       "        <tr>\n",
       "            <td>334518976 </td> <td>91           </td>\n",
       "        </tr>\n",
       "    </tbody>\n",
       "</table>\n",
       "<p>... (290 rows omitted)</p>"
      ],
      "text/plain": [
       "student id | midterm grade\n",
       "312843048  | 82\n",
       "313877729  | 87\n",
       "311210423  | 87\n",
       "307985644  | 75\n",
       "327369862  | 77\n",
       "320014452  | 77\n",
       "339525493  | 73\n",
       "329671221  | 91\n",
       "316223887  | 78\n",
       "334518976  | 91\n",
       "... (290 rows omitted)"
      ]
     },
     "execution_count": 19,
     "metadata": {},
     "output_type": "execute_result"
    }
   ],
   "source": [
    "#A quick reminder of the data\n",
    "grade_table"
   ]
  },
  {
   "cell_type": "markdown",
   "metadata": {},
   "source": [
    "This table has 300 students' scores. Suppose the class size is substantially larger (more than 5,000 students). It would be appropriate to use the standard error, the sampling distribution standard deviation, to determine the population mean."
   ]
  },
  {
   "cell_type": "markdown",
   "metadata": {},
   "source": [
    "To begin, we calculate the sample mean: $\\frac{\\sum_{i=1}^{n}Y_i}{n}$"
   ]
  },
  {
   "cell_type": "code",
   "execution_count": 20,
   "metadata": {},
   "outputs": [
    {
     "data": {
      "text/plain": [
       "82.43"
      ]
     },
     "execution_count": 20,
     "metadata": {},
     "output_type": "execute_result"
    }
   ],
   "source": [
    "sample_avg = np.mean(grades_list)\n",
    "sample_avg"
   ]
  },
  {
   "cell_type": "markdown",
   "metadata": {},
   "source": [
    "We then calculate the sample standard deviation: $\\sqrt{\\frac{\\sum_{i=1}^{n} (Y_i - \\overline{Y})^2}{n-1}}$"
   ]
  },
  {
   "cell_type": "code",
   "execution_count": 21,
   "metadata": {},
   "outputs": [
    {
     "data": {
      "text/plain": [
       "5.6661362496854935"
      ]
     },
     "execution_count": 21,
     "metadata": {},
     "output_type": "execute_result"
    }
   ],
   "source": [
    "sample_std_dev = np.std(grades_list)\n",
    "sample_std_dev"
   ]
  },
  {
   "cell_type": "markdown",
   "metadata": {},
   "source": [
    "We know the two statistics above with certainty! They are calculated with the data we already have, and so there is no possibility that they're inaccurate. However, once we start thinking about the overall population, we will no longer have that certainty. When we begin making claims about statistical measures without all of the underlying data, we can not make firm claims, just probabilities."
   ]
  },
  {
   "cell_type": "markdown",
   "metadata": {},
   "source": [
    "With the sample standard deviation, we can calculate the standard error: $\\frac{\\sigma_Y}{\\sqrt{n}}$"
   ]
  },
  {
   "cell_type": "code",
   "execution_count": 22,
   "metadata": {},
   "outputs": [
    {
     "data": {
      "text/plain": [
       "0.32768111997483135"
      ]
     },
     "execution_count": 22,
     "metadata": {},
     "output_type": "execute_result"
    }
   ],
   "source": [
    "std_err = stats.sem(grades_list)\n",
    "std_err"
   ]
  },
  {
   "cell_type": "markdown",
   "metadata": {},
   "source": [
    "With the standard error, we can begin to make claims about the overall population mean. We can create a *confidence interval* using the standard error and sample mean. Because the standard error is a measurement of the uncertainty of the population mean, by using it to create an interval around the sample mean, we can be 95% confident that the true population mean lies within this interval.\n",
    "\n",
    "Below, we can calculate the 95% confidence interval for the population midterm grade average.\n",
    "\n",
    "*Check Your Understanding*:  \n",
    "Why are we 95% confident when we create an interval using 2(standard error)?  \n",
    "<details><summary>Answer</summary>  \n",
    "<p>\n",
    "Because the standard error is the standard deviation for the sampling distribution, 2 standard deviations encapsulates 95% of the possible values.\n",
    "</p>\n",
    "</details>"
   ]
  },
  {
   "cell_type": "markdown",
   "metadata": {},
   "source": [
    "95% confidence interval = $\\overline{Y} \\pm 2(\\sigma_\\overline{Y})$"
   ]
  },
  {
   "cell_type": "code",
   "execution_count": 23,
   "metadata": {
    "scrolled": true
   },
   "outputs": [
    {
     "name": "stdout",
     "output_type": "stream",
     "text": [
      "95% Confidence Interval: 81.77463776005034 83.08536223994967\n"
     ]
    }
   ],
   "source": [
    "print(\"95% Confidence Interval:\", sample_avg-2*std_err, sample_avg + 2*std_err)"
   ]
  },
  {
   "cell_type": "markdown",
   "metadata": {},
   "source": [
    "Let's consider what happens to the confidence interval as we increase or decrease the sample size:"
   ]
  },
  {
   "cell_type": "code",
   "execution_count": 25,
   "metadata": {},
   "outputs": [
    {
     "data": {
      "application/vnd.jupyter.widget-view+json": {
       "model_id": "fc3604c82b794962853a07a45aaa6128",
       "version_major": 2,
       "version_minor": 0
      },
      "text/plain": [
       "interactive(children=(IntSlider(value=315, description='n', max=600, min=30), Output()), _dom_classes=('widget…"
      ]
     },
     "metadata": {},
     "output_type": "display_data"
    },
    {
     "data": {
      "text/plain": [
       "<function __main__.calc_stats(n)>"
      ]
     },
     "execution_count": 25,
     "metadata": {},
     "output_type": "execute_result"
    }
   ],
   "source": [
    "def calc_stats(n):\n",
    "    sample_dist = [np.mean(grade_table.sample(n).column('midterm grade')) for _ in range(10000)]\n",
    "    sns.distplot(sample_dist)\n",
    "    dist_avg = np.mean(sample_dist)\n",
    "    std_err = np.std(sample_dist)\n",
    "    plt.xlim(80, 84)\n",
    "    print(\"Sample size:\", n)\n",
    "    print('Standard Deviation:', np.around(np.std(sample_dist),3))\n",
    "    print(\"Standard Error:\", np.around(np.std(sample_dist), 3))\n",
    "    plt.axvline(dist_avg-2*std_err, ymax=.15, color='r')\n",
    "    plt.axvline(dist_avg+2*std_err, ymax=.15, color='r')\n",
    "    print(\"95% Confidence Interval:\", dist_avg-2*std_err, dist_avg + 2*std_err)\n",
    "interact(calc_stats, n=(30,600), continuous_update=False)"
   ]
  },
  {
   "cell_type": "markdown",
   "metadata": {},
   "source": [
    "How does the standard error change as you increase or decrease the sample size? Why would this be the case?"
   ]
  }
 ],
 "metadata": {
  "kernelspec": {
   "display_name": "Python 3",
   "language": "python",
   "name": "python3"
  },
  "language_info": {
   "codemirror_mode": {
    "name": "ipython",
    "version": 3
   },
   "file_extension": ".py",
   "mimetype": "text/x-python",
   "name": "python",
   "nbconvert_exporter": "python",
   "pygments_lexer": "ipython3",
   "version": "3.7.4"
  }
 },
 "nbformat": 4,
 "nbformat_minor": 2
}
