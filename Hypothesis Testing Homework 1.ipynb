{
 "cells": [
  {
   "cell_type": "markdown",
   "metadata": {},
   "source": [
    "# Hypothesis Testing Homework\n",
    "In this homework we will review different methods of testing hypotheses. These methods depend on the kinds of data we are working with: categorical or numeric. To start, let's consider when we have quantities of categorical variables."
   ]
  },
  {
   "cell_type": "markdown",
   "metadata": {},
   "source": [
    "## $\\chi^2$ Statistic"
   ]
  },
  {
   "cell_type": "markdown",
   "metadata": {},
   "source": [
    "Before we begin, we need to import several libaries:"
   ]
  },
  {
   "cell_type": "code",
   "execution_count": null,
   "metadata": {},
   "outputs": [],
   "source": [
    "from datascience import Table\n",
    "import scipy.stats as stats\n",
    "import numpy as np\n",
    "from questioner import question"
   ]
  },
  {
   "cell_type": "markdown",
   "metadata": {},
   "source": [
    "Before we begin, let's review: what is the purpose of calculating the $\\chi^2$ statistic?"
   ]
  },
  {
   "cell_type": "markdown",
   "metadata": {},
   "source": [
    "*YOUR ANSWER HERE"
   ]
  },
  {
   "cell_type": "markdown",
   "metadata": {},
   "source": [
    "In this example, we're going to use the relationship between union membership and 2016 presidential vote choice. Below, we have a table representing the number of voters in some poll who voted for Clinton or Trump, separated by union membership status."
   ]
  },
  {
   "cell_type": "code",
   "execution_count": null,
   "metadata": {},
   "outputs": [],
   "source": [
    "clinton_trump_union = Table().with_columns([\n",
    "    'Candidate', ['Clinton', 'Trump', 'Column Total'],\n",
    "    'Not Union', [1068, 1019, 2087],\n",
    "    'Union', [218, 157, 375],\n",
    "    'Row Total', [1286, 1176, 2462]\n",
    "])\n",
    "clinton_trump_union"
   ]
  },
  {
   "cell_type": "markdown",
   "metadata": {},
   "source": [
    "What are your initial impressions of how the data are distributed?"
   ]
  },
  {
   "cell_type": "markdown",
   "metadata": {},
   "source": [
    "*YOUR ANSWER HERE"
   ]
  },
  {
   "cell_type": "markdown",
   "metadata": {},
   "source": [
    "In order to determine if there is a relationship between union membership and presidential vote choice, we need to compare the real data to data generated under the *null hypothesis*. Under the null hypothesis, each cell's value will be equal to its proportion of the overall population. Therefore, we need a table where each cell value is $\\frac{\\text{column total + row total}}{\\text{population total}}$"
   ]
  },
  {
   "cell_type": "markdown",
   "metadata": {},
   "source": [
    "The first step is to calculate what percentage of the vote each candidate recieved overall: "
   ]
  },
  {
   "cell_type": "code",
   "execution_count": null,
   "metadata": {},
   "outputs": [],
   "source": [
    "clinton_percent = 1286/2462\n",
    "trump_percent = ...\n",
    "clinton_percent, trump_percent"
   ]
  },
  {
   "cell_type": "markdown",
   "metadata": {},
   "source": [
    "Now we can create lists representing the expected values for the \"Not Union\" and \"Union\" columns. As we saw above, this will equal the column total multiplied by the percent of the overall vote that the candidate received.  \n",
    "\n",
    "**NOTE:** In order to keep the Column Total row, each list will need to have the column total at the end of the list, i.e \\[clinton_expected, trump_expected, column_total\\]"
   ]
  },
  {
   "cell_type": "code",
   "execution_count": null,
   "metadata": {},
   "outputs": [],
   "source": [
    "not_union_expected = [2087*clinton_percent, 2087*trump_percent, 2087]\n",
    "union_expected = ...\n",
    "not_union_expected, union_expected"
   ]
  },
  {
   "cell_type": "markdown",
   "metadata": {},
   "source": [
    "Now that we have the expected values for the column, we can create a table to visualize the expectations for vote counts if there is no relationship."
   ]
  },
  {
   "cell_type": "code",
   "execution_count": null,
   "metadata": {},
   "outputs": [],
   "source": [
    "clinton_trump_expected = Table().with_columns([\n",
    "    'Candidate', ['Clinton', 'Trump', 'Column Total'],\n",
    "    'Not Union', not_union_expected,\n",
    "    'Union', union_expected,\n",
    "    'Row Total', [1286, 1176, 2462]\n",
    "])\n",
    "clinton_trump_expected"
   ]
  },
  {
   "cell_type": "markdown",
   "metadata": {},
   "source": [
    "How do we calculate the $\\chi^2$ statistic? Recall the formula: $$ \\chi^2 = \\sum \\frac{(Observed-Expected)^2}{Expected}$$\n",
    "Using our coding knowledge, we know we can solve this using lists of the expected and observed values. First, let's create observed_votes and expected_votes, lists where the first value is the value of Clinton votes for non-union voters, the second is the value of Trump votes for non-union voters, etc.\n",
    "\n",
    "**NOTE:** We need to wrap these lists in <code>np.array</code> in order to perform the calculations outlined above. This is accomplished with <code>np.array(list)</code>."
   ]
  },
  {
   "cell_type": "code",
   "execution_count": null,
   "metadata": {},
   "outputs": [],
   "source": [
    "observed_votes = np.array([1068, 1019, 218, 157])\n",
    "expected_votes = ...\n",
    "observed_votes, expected_votes"
   ]
  },
  {
   "cell_type": "markdown",
   "metadata": {},
   "source": [
    "Now that we have the the values as lists, we can calculate the $\\chi^2$ statistic. Some important reminders:    \n",
    "1) np.array() lists can be treated as single numbers in that we can subtract and add them to one another.  \n",
    "2) To square a value, we use $(value)**2$. For example, $3 ** 2 = 9$.  \n",
    "3) To add all values, use <code>sum(values)</code>. For example, <code>sum([1,2,3]) = 6</code>.\n",
    "  \n",
    "**NOTE:** The correct value is 6.172092136005482, but we want you to calculate this using Python"
   ]
  },
  {
   "cell_type": "code",
   "execution_count": null,
   "metadata": {},
   "outputs": [],
   "source": [
    "chi_squared = ...\n",
    "chi_squared"
   ]
  },
  {
   "cell_type": "markdown",
   "metadata": {},
   "source": [
    "We can now check that value in a $\\chi^2$ statistic table. You can find such a table [online](https://www.medcalc.org/manual/chi-square-table.php) or in your textbook. To determine the p-value for the relationship between union membership, we must first calculate the degrees of freedom. How many degrees of freedom does this relationship have?"
   ]
  },
  {
   "cell_type": "markdown",
   "metadata": {},
   "source": [
    "*YOUR ANSWER HERE*"
   ]
  },
  {
   "cell_type": "markdown",
   "metadata": {},
   "source": [
    "Now that we have the degrees of freedom, we can use the table to calculate the p-value.   \n",
    "1) What is the p-value?   \n",
    "2) What does that tell us about the relationship between the two variables?  \n",
    "3) Can we establish a causal connection?"
   ]
  },
  {
   "cell_type": "markdown",
   "metadata": {},
   "source": [
    "*YOUR ANSWERS HERE*"
   ]
  },
  {
   "cell_type": "markdown",
   "metadata": {},
   "source": [
    "## Difference of Means\n",
    "When we want to measure a continuous, numeric variable with different categories, e.g sales by product, we use a difference of means test. This allows us to compare the different categories, and determine the likelihood that the distributions of data from each category are from the same underlying distribution (the null hypothesis). In the example for this homework, you will be testing whether party control of the legislature has an impact on government longevity. Specifically, we want to see if there is a relationship between whether the minority party is in control (a categorical variable) and the length of time that the government lasts (a continuous variable)."
   ]
  },
  {
   "cell_type": "markdown",
   "metadata": {},
   "source": [
    "To start, we need to load in our data. To do that, we use the <code>Table.read_table()</code> method:"
   ]
  },
  {
   "cell_type": "code",
   "execution_count": null,
   "metadata": {
    "scrolled": true
   },
   "outputs": [],
   "source": [
    "govt_table = Table.read_table('jason_data/data/govts.csv')\n",
    "govt_table"
   ]
  },
  {
   "cell_type": "markdown",
   "metadata": {},
   "source": [
    "We need to split this table into two parts: the rows where the party in control was the minority (mingov = 1), and the rows where the party in control was not the minority (mingov = 0). To do this, we use the <code>table.where()</code> selector. Below, we create the minority party government table."
   ]
  },
  {
   "cell_type": "code",
   "execution_count": null,
   "metadata": {},
   "outputs": [],
   "source": [
    "minority_table = govt_table.where('mingov', 1) #selects the rows where mingov = 1\n",
    "minority_table"
   ]
  },
  {
   "cell_type": "markdown",
   "metadata": {},
   "source": [
    "Now, repeat the above but for when the party in control was not the minority:"
   ]
  },
  {
   "cell_type": "code",
   "execution_count": null,
   "metadata": {},
   "outputs": [],
   "source": [
    "majority_table = ... #selects the rows where mingov = 0\n",
    "majority_table"
   ]
  },
  {
   "cell_type": "markdown",
   "metadata": {},
   "source": [
    "Great! Now that we have the data separated by our categorical variable, we can calculate the relevant t-statistic: $$ t_{\\overline{y_1}-\\overline{y_2}} =\\frac{\\overline{Y_1}-\\overline{Y_2}}{\\sqrt{\\frac{\\hat{\\sigma}_1^2}{n_1}+\\frac{\\hat{\\sigma}_2^2}{n_2}}}$$\n",
    "In our case, this becomes:\n",
    "$$t_{\\overline{y_{majority}}-\\overline{y_{minority}}} = \\frac{\\overline{Y_{majority}}-\\overline{Y_{minority}}}{\\sqrt{\\frac{\\hat{\\sigma}_{majority}^2}{n_{majority}}+\\frac{\\hat{\\sigma}_{minority}^2}{n_{minority}}}}$$\n",
    "To perform this calculation, we need the mean and standard deviation of the two distributions of government longevity. These can be calculated using <code>np.std()</code> and <code>np.mean()</code>. Below, we have derived these measurements for the majority-party-controlled government. It is your responsibility to repeat this for the governments run by minority parties."
   ]
  },
  {
   "cell_type": "code",
   "execution_count": null,
   "metadata": {},
   "outputs": [],
   "source": [
    "majority_time = majority_table.column('govttime')\n",
    "majority_std = np.std(majority_time)\n",
    "majority_mean = np.mean(majority_time)\n",
    "majority_time, majority_std, majority_mean"
   ]
  },
  {
   "cell_type": "code",
   "execution_count": null,
   "metadata": {},
   "outputs": [],
   "source": [
    "minority_time = ...\n",
    "minority_std = ...\n",
    "minority_mean = ...\n",
    "minority_time, minority_std, minority_mean"
   ]
  },
  {
   "cell_type": "markdown",
   "metadata": {},
   "source": [
    "Great! We next need to calculate the difference of the means:"
   ]
  },
  {
   "cell_type": "code",
   "execution_count": null,
   "metadata": {},
   "outputs": [],
   "source": [
    "mean_difference = ...\n",
    "mean_difference"
   ]
  },
  {
   "cell_type": "markdown",
   "metadata": {},
   "source": [
    "Next, calculate the standard error of the difference of means, denoted SE(Y_1, Y_2), which is equal to $\\sqrt{(\\frac{\\hat{\\sigma}_1^2}{n_1})+(\\frac{\\hat{\\sigma}_2^2}{n_2})}$. To find the relevant n_i, use <code>len(time_list)</code> for each list of times."
   ]
  },
  {
   "cell_type": "code",
   "execution_count": null,
   "metadata": {},
   "outputs": [],
   "source": [
    "se_minority_majority = ...\n",
    "se_minority_majority"
   ]
  },
  {
   "cell_type": "markdown",
   "metadata": {},
   "source": [
    "Now that we have these two values, divide the mean difference by the standard error of the difference between the means to produce the t-statistic."
   ]
  },
  {
   "cell_type": "code",
   "execution_count": null,
   "metadata": {},
   "outputs": [],
   "source": [
    "t_stat = ...\n",
    "t_stat"
   ]
  },
  {
   "cell_type": "markdown",
   "metadata": {},
   "source": [
    "We can find the corresponding p-value using a table like above, which you can find in your textbook or [online](https://jimgrange.wordpress.com/2015/12/05/statistics-tables-where-do-the-numbers-come-from/).  \n",
    "1) *Review* What is our null hypothesis?  \n",
    "2) At what significance level can we reject the null hypothesis?  \n",
    "3) What does this rejection mean? What knowledge do we now have?   \n",
    "4) Can we establish a causal relationship?"
   ]
  },
  {
   "cell_type": "markdown",
   "metadata": {},
   "source": [
    "*YOUR ANSWER HERE*"
   ]
  },
  {
   "cell_type": "markdown",
   "metadata": {},
   "source": [
    "## Continuous Variables: Covariance\n",
    "When dealing with two continuous variables, we want to measure how much change (variation) in one variable coincides with variation in another (thus, covariation). In this example, we will consider the relationship between incumbent vote percentage and GDP growth. In the table below, the \"VOTE\" column represents the incumbent vote share and the \"GROWTH\" column represents GDP growth. "
   ]
  },
  {
   "cell_type": "code",
   "execution_count": null,
   "metadata": {},
   "outputs": [],
   "source": [
    "inc_gdp_table = Table.read_table('jason_data/data/fair.csv')\n",
    "inc_gdp_table"
   ]
  },
  {
   "cell_type": "markdown",
   "metadata": {},
   "source": [
    "Let's set two variables <code>votes</code> and <code>growths</code> using <code>table.column(\"column_name\")</code>. Additionally, let's set a value n equal to the number of observations, or the length of one of the columns. This can be determined with <code>len(list_name)</code>."
   ]
  },
  {
   "cell_type": "code",
   "execution_count": null,
   "metadata": {},
   "outputs": [],
   "source": [
    "votes = inc_gdp_table.column('VOTE')\n",
    "growths = ...\n",
    "n = len(votes)"
   ]
  },
  {
   "cell_type": "markdown",
   "metadata": {},
   "source": [
    "In order to calculate the covariance between two variables, we use the formula \n",
    "$$cov_{X,Y}=\\frac{\\sum_{i=1}^n (X_i - \\overline{X})(\\text{Y}_i - \\overline{Y})}{n}$$\n",
    "In our case, this becomes:$$cov_{GDP,\\text{Vote Share}}=\\frac{\\sum_{i=1}^n (GROWTH_i - \\overline{GROWTH})(\\text{Vote Share}_i - \\overline{\\text{Vote Share}})}{32}$$\n",
    "First, let's calculate the means for each variable:"
   ]
  },
  {
   "cell_type": "code",
   "execution_count": null,
   "metadata": {},
   "outputs": [],
   "source": [
    "votes_mean = np.mean(votes)\n",
    "growth_mean = ...\n",
    "votes_mean, growth_mean"
   ]
  },
  {
   "cell_type": "markdown",
   "metadata": {},
   "source": [
    "Now, let's calculate the covariance. Remember, we can subtract a value from each member of a list by writing <code>list_name - value</code>."
   ]
  },
  {
   "cell_type": "code",
   "execution_count": null,
   "metadata": {},
   "outputs": [],
   "source": [
    "covariance_growth_vote = sum((growths-growth_mean)*(votes-votes_mean))/n\n",
    "covariance_growth_vote"
   ]
  },
  {
   "cell_type": "markdown",
   "metadata": {},
   "source": [
    "Now that we have the covariance between the two variables, we can calculate Pearson's r, a value representing the linear correlation between two variables. This is done with the following formula: $$r=\\frac{cov_{XY}}{\\sqrt{var_Xvar_Y}}=\\frac{cov_{XY}}{\\sqrt{cov_{XX}cov_{YY}}}$$\n",
    "To start, let's create variables representing the covariance between each of the variables and themselves. This will follow the same formula as the covariance above, but by multiplying the same sum of differences. This is equivalent to finding the *variance* of a variable."
   ]
  },
  {
   "cell_type": "code",
   "execution_count": null,
   "metadata": {},
   "outputs": [],
   "source": [
    "covariance_growth_growth = ...\n",
    "covariance_vote_vote = ...\n",
    "covariance_growth_growth, covariance_vote_vote"
   ]
  },
  {
   "cell_type": "markdown",
   "metadata": {},
   "source": [
    "Now that we have these values, we can find the value for r, the correlation coefficent. This will be of the form $$\\frac{cov_{\\text{Growth}\\text{Vote Share}}}{\\sqrt{var_{\\text{Growth}}var_{\\text{Vote Share}}}}$$"
   ]
  },
  {
   "cell_type": "code",
   "execution_count": null,
   "metadata": {},
   "outputs": [],
   "source": [
    "r = ...\n",
    "r"
   ]
  },
  {
   "cell_type": "markdown",
   "metadata": {},
   "source": [
    "In order to determine if this sample r value is statistically significant, we need to calculate a t-statistic, which is found thus: $$t_r = \\sqrt{|r|*\\frac{n-2}{1-r^2}}$$\n",
    "In the cell below, calculate a t-statistic."
   ]
  },
  {
   "cell_type": "code",
   "execution_count": null,
   "metadata": {},
   "outputs": [],
   "source": [
    "t_r = np.sqrt(np.abs(r)*((n-1)/(1-r**2)))\n",
    "t_r"
   ]
  },
  {
   "cell_type": "markdown",
   "metadata": {},
   "source": [
    "Now that we have the t statistic, we can determine the p value, the likelihood that the r value we found could have happened by chance.   \n",
    "1) What does the p value represent?  \n",
    "2) What can we determine about the relationship between the two variables?  \n",
    "3) Can we declare a causal relationship?"
   ]
  },
  {
   "cell_type": "markdown",
   "metadata": {},
   "source": [
    "*YOUR ANSWER HERE*"
   ]
  },
  {
   "cell_type": "markdown",
   "metadata": {},
   "source": [
    "## Written HW"
   ]
  },
  {
   "cell_type": "markdown",
   "metadata": {},
   "source": [
    "**Question 1:** True or False, with a one sentence justification for each:"
   ]
  },
  {
   "cell_type": "markdown",
   "metadata": {},
   "source": [
    "Only a very small (&lt;5) percentage of measurements can be more than 2 standard\n",
    "deviations from the mean of the normal distribution."
   ]
  },
  {
   "cell_type": "markdown",
   "metadata": {},
   "source": [
    "*YOUR ANSWER HERE*"
   ]
  },
  {
   "cell_type": "markdown",
   "metadata": {},
   "source": [
    "Only a very small (&lt;5) percentage of measurements can be more than 2 standard\n",
    "deviations from the mean of the any distribution."
   ]
  },
  {
   "cell_type": "markdown",
   "metadata": {},
   "source": [
    "*YOUR ANSWER HERE*"
   ]
  },
  {
   "cell_type": "markdown",
   "metadata": {},
   "source": [
    "If we would reject a null hypothesis at the 5% level, we would also reject it at the 1%\n",
    "level."
   ]
  },
  {
   "cell_type": "markdown",
   "metadata": {},
   "source": [
    "*YOUR ANSWER HERE*"
   ]
  },
  {
   "cell_type": "markdown",
   "metadata": {},
   "source": [
    "If we would reject a null hypothesis at the 1% level, we would also reject it at the 5%\n",
    "level."
   ]
  },
  {
   "cell_type": "markdown",
   "metadata": {},
   "source": [
    "*YOUR ANSWER HERE*"
   ]
  },
  {
   "cell_type": "markdown",
   "metadata": {},
   "source": [
    "The p-value, which is the Type I error rate, is chosen by the investigator before a\n",
    "hypothesis test is conducted."
   ]
  },
  {
   "cell_type": "markdown",
   "metadata": {},
   "source": [
    "*YOUR ANSWER HERE*"
   ]
  },
  {
   "cell_type": "markdown",
   "metadata": {},
   "source": [
    "**Question 2:** For the following questions, use the below scenario:  \n",
    "*A recent poll asked people whether they supported passing a constitutional amendment\n",
    "to ban burning of the national flag using a 1 to 100 scale.”1” means that they do not\n",
    "support passing the amendment at all and “100” means they support it completely. The\n",
    "sample was random (from the population of US adults) and included 986 people, 400 of\n",
    "whom were women, and 586 were men. The mean score for women was 80.6, while the\n",
    "mean score for men was 77.6.*"
   ]
  },
  {
   "cell_type": "markdown",
   "metadata": {},
   "source": [
    "Is the difference in means test statistically significant at the 5% level?\n",
    "Assume the standard deviation for both men and women is 3.5.  \n",
    "\n",
    "Use the coding cell below to perform any calculations you may need to determine this"
   ]
  },
  {
   "cell_type": "code",
   "execution_count": null,
   "metadata": {
    "scrolled": true
   },
   "outputs": [],
   "source": [
    "## YOUR ANSWER HERE\n",
    "gender_flag_tstat = ...\n",
    "gender_flag_tstat"
   ]
  },
  {
   "cell_type": "code",
   "execution_count": null,
   "metadata": {},
   "outputs": [],
   "source": [
    "question('statistically significant at the 5% level')\n",
    "question('NOT statistically significant at the 5% level')"
   ]
  },
  {
   "cell_type": "markdown",
   "metadata": {},
   "source": [
    "If the standard deviation for men is 1.4 and the standard deviation for\n",
    "women is 1.2, is the difference in means statistically significant at the 5% level?  \n",
    "\n",
    "Use the coding cell below to perform any calculations you may need to determine this"
   ]
  },
  {
   "cell_type": "code",
   "execution_count": null,
   "metadata": {},
   "outputs": [],
   "source": [
    "## YOUR ANSWER HERE\n",
    "gender_flag_tstat_small_stddev = ...\n",
    "gender_flag_tstat_small_stddev"
   ]
  },
  {
   "cell_type": "code",
   "execution_count": null,
   "metadata": {},
   "outputs": [],
   "source": [
    "question('statistically significant at the 5% level')\n",
    "question('NOT statistically significant at the 5% level')"
   ]
  },
  {
   "cell_type": "markdown",
   "metadata": {},
   "source": [
    "**Question 3:** The following table is based on a random sample conducted of high school seniors and\n",
    "their parents by Jennings and Niemi, in which they explore the party identification of\n",
    "parents and their children."
   ]
  },
  {
   "cell_type": "code",
   "execution_count": null,
   "metadata": {},
   "outputs": [],
   "source": [
    "student_id_table = Table().with_columns(\n",
    "    'Parent Party ID', ['Democrat', 'Independent', 'Republican'],\n",
    "    'Democrat', [604, 130, 63],\n",
    "    'Independent', [245, 235, 180],\n",
    "    'Republican', [67, 76, 252]\n",
    ")\n",
    "student_id_table"
   ]
  },
  {
   "cell_type": "markdown",
   "metadata": {},
   "source": [
    "What is the percentage of students who share the same party identification as their\n",
    "parents? Show your work in the cell below"
   ]
  },
  {
   "cell_type": "code",
   "execution_count": null,
   "metadata": {},
   "outputs": [],
   "source": [
    "## YOUR ANSWER HERE\n",
    "sample_size = sum(student_id_table.column('Democrat'))+sum(student_id_table.column('Independent'))+sum(student_id_table.column('Republican'))\n",
    "democrat_same = 604\n",
    "independent_same = ...\n",
    "republican_same = ...\n",
    "same_percent = ...\n",
    "same_percent"
   ]
  },
  {
   "cell_type": "markdown",
   "metadata": {},
   "source": [
    "What percentage of Democrat parents have Republican children?"
   ]
  },
  {
   "cell_type": "code",
   "execution_count": null,
   "metadata": {},
   "outputs": [],
   "source": [
    "## YOUR ANSWER HERE\n",
    "dem_parent_rep_child = .../sum([604,245,67])\n",
    "dem_parent_rep_child"
   ]
  },
  {
   "cell_type": "markdown",
   "metadata": {},
   "source": [
    "Based on these data, can we say if the relationship is causal? Explain your answer."
   ]
  },
  {
   "cell_type": "markdown",
   "metadata": {},
   "source": [
    "*YOUR ANSWER HERE*"
   ]
  },
  {
   "cell_type": "markdown",
   "metadata": {},
   "source": [
    "Suppose you were exploring the hypothesis that there is a relationship between\n",
    "parents’ and children’s party identification. Would we be correct in inferring that such a\n",
    "relationship also exists in the population? Explain your answer."
   ]
  },
  {
   "cell_type": "markdown",
   "metadata": {},
   "source": [
    "*YOUR ANSWER HERE*"
   ]
  },
  {
   "cell_type": "markdown",
   "metadata": {},
   "source": [
    "**Question 4:** Tens of thousands of people die each year on America’s highways. How can the\n",
    "number of fatalities be reduced? In this question we explore trends in traffic fatalities\n",
    "across the 50 states and potential solutions to the problem. Consider the table below,\n",
    "indicating summary statistics of the number of traffic deaths per million miles driven\n",
    "across all 50 states, in 1985 and 1992. (Assume that these observations represent\n",
    "random samples of all years.)"
   ]
  },
  {
   "cell_type": "code",
   "execution_count": null,
   "metadata": {},
   "outputs": [],
   "source": [
    "traffic_table = Table().with_columns(\n",
    "    'Variable', ['traffic_1985', 'traffic_1992'],\n",
    "    'Observations', [50,50],\n",
    "    'Mean', [2.694, 1.844],\n",
    "    'Standard Deviation', [.6079104, .449108],\n",
    "    'Minimum Value', [1.9, 1],\n",
    "    'Maximum Value', [4.4, 2.7]\n",
    ")\n",
    "traffic_table"
   ]
  },
  {
   "cell_type": "markdown",
   "metadata": {},
   "source": [
    "What is the average change across states between 1985 and 1992 in\n",
    "traffic deaths per million miles driven?"
   ]
  },
  {
   "cell_type": "code",
   "execution_count": null,
   "metadata": {},
   "outputs": [],
   "source": [
    "## YOUR ANSWER HERE\n",
    "mean_traffic_death_diff = ... \n",
    "mean_traffic_death_diff"
   ]
  },
  {
   "cell_type": "markdown",
   "metadata": {},
   "source": [
    "How likely would we get the average change found in part a) if the true\n",
    "difference in the population were actually zero? Show your work in the cell below"
   ]
  },
  {
   "cell_type": "code",
   "execution_count": null,
   "metadata": {},
   "outputs": [],
   "source": [
    "## YOUR ANSWER HERE\n",
    "traffic_year_diff_mean_tstat = ...\n",
    "traffic_year_diff_mean_tstat"
   ]
  },
  {
   "cell_type": "markdown",
   "metadata": {},
   "source": [
    "Can we reasonably claim that there is a difference in traffic fatalities\n",
    "between 1985 and 1992? (Again, the samples can be treated as random.) Explain."
   ]
  },
  {
   "cell_type": "markdown",
   "metadata": {},
   "source": [
    "*YOUR ANSWER HERE*"
   ]
  },
  {
   "cell_type": "markdown",
   "metadata": {},
   "source": [
    "## Saving Your Notebook\n",
    "Now that you've finished the homework, we need to save it! To do this, click <code>File</code> $\\rightarrow$ <code>Download as</code> $\\rightarrow$ <code>PDF via Chrome</code>"
   ]
  },
  {
   "cell_type": "code",
   "execution_count": null,
   "metadata": {},
   "outputs": [],
   "source": []
  }
 ],
 "metadata": {
  "kernelspec": {
   "display_name": "Python 3",
   "language": "python",
   "name": "python3"
  },
  "language_info": {
   "codemirror_mode": {
    "name": "ipython",
    "version": 3
   },
   "file_extension": ".py",
   "mimetype": "text/x-python",
   "name": "python",
   "nbconvert_exporter": "python",
   "pygments_lexer": "ipython3",
   "version": "3.7.4"
  }
 },
 "nbformat": 4,
 "nbformat_minor": 2
}
