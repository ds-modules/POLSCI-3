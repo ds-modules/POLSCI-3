{
 "cells": [
  {
   "cell_type": "markdown",
   "metadata": {},
   "source": [
    "# Regression Homework\n",
    "In this homework we will review the process of generating an Ordinary Least Squares regression model. We will review the information that it can tell us about the relationship between variables."
   ]
  },
  {
   "cell_type": "markdown",
   "metadata": {},
   "source": [
    "Like always, we need to load in a few libaries first:"
   ]
  },
  {
   "cell_type": "code",
   "execution_count": 197,
   "metadata": {},
   "outputs": [],
   "source": [
    "import statsmodels.formula.api as smf\n",
    "import statsmodels.api as sm\n",
    "from datascience import Table\n",
    "from question_maker import question_maker "
   ]
  },
  {
   "cell_type": "markdown",
   "metadata": {},
   "source": [
    "Next, we need to load in our election data. This table represents presidential election outcomes from 1880 to now. In each row, we have collected information about different features during that year, such as inflation or the presence of a war."
   ]
  },
  {
   "cell_type": "code",
   "execution_count": 198,
   "metadata": {
    "scrolled": true
   },
   "outputs": [
    {
     "data": {
      "text/html": [
       "<table border=\"1\" class=\"dataframe\">\n",
       "    <thead>\n",
       "        <tr>\n",
       "            <th>YEAR</th> <th>VOTE</th> <th>PARTY</th> <th>PERSON</th> <th>DURATION</th> <th>WAR</th> <th>GROWTH</th> <th>INFLATION</th> <th>GOODNEWS</th>\n",
       "        </tr>\n",
       "    </thead>\n",
       "    <tbody>\n",
       "        <tr>\n",
       "            <td>1880</td> <td>50.22 </td> <td>-1   </td> <td>0     </td> <td>1.75    </td> <td>0   </td> <td>3.879  </td> <td>1.974    </td> <td>9       </td>\n",
       "        </tr>\n",
       "        <tr>\n",
       "            <td>1884</td> <td>49.846</td> <td>-1   </td> <td>0     </td> <td>2       </td> <td>0   </td> <td>1.589  </td> <td>1.055    </td> <td>2       </td>\n",
       "        </tr>\n",
       "        <tr>\n",
       "            <td>1888</td> <td>50.414</td> <td>1    </td> <td>1     </td> <td>0       </td> <td>0   </td> <td>-5.553 </td> <td>0.604    </td> <td>3       </td>\n",
       "        </tr>\n",
       "        <tr>\n",
       "            <td>1892</td> <td>48.268</td> <td>-1   </td> <td>1     </td> <td>0       </td> <td>0   </td> <td>2.763  </td> <td>2.274    </td> <td>7       </td>\n",
       "        </tr>\n",
       "        <tr>\n",
       "            <td>1896</td> <td>47.76 </td> <td>1    </td> <td>0     </td> <td>0       </td> <td>0   </td> <td>-10.024</td> <td>3.41     </td> <td>6       </td>\n",
       "        </tr>\n",
       "        <tr>\n",
       "            <td>1900</td> <td>53.171</td> <td>-1   </td> <td>1     </td> <td>0       </td> <td>0   </td> <td>-1.425 </td> <td>2.548    </td> <td>7       </td>\n",
       "        </tr>\n",
       "        <tr>\n",
       "            <td>1904</td> <td>60.006</td> <td>-1   </td> <td>0     </td> <td>1       </td> <td>0   </td> <td>-2.421 </td> <td>1.442    </td> <td>5       </td>\n",
       "        </tr>\n",
       "        <tr>\n",
       "            <td>1908</td> <td>54.483</td> <td>-1   </td> <td>0     </td> <td>1.25    </td> <td>0   </td> <td>-6.281 </td> <td>1.879    </td> <td>8       </td>\n",
       "        </tr>\n",
       "        <tr>\n",
       "            <td>1912</td> <td>54.708</td> <td>-1   </td> <td>1     </td> <td>1.5     </td> <td>0   </td> <td>4.164  </td> <td>2.172    </td> <td>8       </td>\n",
       "        </tr>\n",
       "        <tr>\n",
       "            <td>1916</td> <td>51.682</td> <td>1    </td> <td>1     </td> <td>0       </td> <td>0   </td> <td>2.229  </td> <td>4.252    </td> <td>3       </td>\n",
       "        </tr>\n",
       "    </tbody>\n",
       "</table>\n",
       "<p>... (22 rows omitted)</p>"
      ],
      "text/plain": [
       "YEAR | VOTE   | PARTY | PERSON | DURATION | WAR  | GROWTH  | INFLATION | GOODNEWS\n",
       "1880 | 50.22  | -1    | 0      | 1.75     | 0    | 3.879   | 1.974     | 9\n",
       "1884 | 49.846 | -1    | 0      | 2        | 0    | 1.589   | 1.055     | 2\n",
       "1888 | 50.414 | 1     | 1      | 0        | 0    | -5.553  | 0.604     | 3\n",
       "1892 | 48.268 | -1    | 1      | 0        | 0    | 2.763   | 2.274     | 7\n",
       "1896 | 47.76  | 1     | 0      | 0        | 0    | -10.024 | 3.41      | 6\n",
       "1900 | 53.171 | -1    | 1      | 0        | 0    | -1.425  | 2.548     | 7\n",
       "1904 | 60.006 | -1    | 0      | 1        | 0    | -2.421  | 1.442     | 5\n",
       "1908 | 54.483 | -1    | 0      | 1.25     | 0    | -6.281  | 1.879     | 8\n",
       "1912 | 54.708 | -1    | 1      | 1.5      | 0    | 4.164   | 2.172     | 8\n",
       "1916 | 51.682 | 1     | 1      | 0        | 0    | 2.229   | 4.252     | 3\n",
       "... (22 rows omitted)"
      ]
     },
     "execution_count": 198,
     "metadata": {},
     "output_type": "execute_result"
    }
   ],
   "source": [
    "elections = Table.read_table('jason_data/data/fair.csv')\n",
    "elections"
   ]
  },
  {
   "cell_type": "markdown",
   "metadata": {},
   "source": [
    "If we want to see the relationship between voteshare and a variable, such as economic growth, we use the <code>smf.ols('y_variables ~ x_variable', data=data_table).fit()</code> function. To see the result, we call <code>.summary()</code>. Below, we produce the regression results for the relationship between voteshare and inflation.  \n",
    "\n",
    "**NOTE:** Most of the results of this table are outside the scope of this course. The important values for you to consider are the R-squared value, and the coefficients and p-values associated with the different independent variables."
   ]
  },
  {
   "cell_type": "code",
   "execution_count": 199,
   "metadata": {},
   "outputs": [
    {
     "data": {
      "text/html": [
       "<table class=\"simpletable\">\n",
       "<caption>OLS Regression Results</caption>\n",
       "<tr>\n",
       "  <th>Dep. Variable:</th>          <td>VOTE</td>       <th>  R-squared:         </th> <td>   0.024</td>\n",
       "</tr>\n",
       "<tr>\n",
       "  <th>Model:</th>                   <td>OLS</td>       <th>  Adj. R-squared:    </th> <td>  -0.009</td>\n",
       "</tr>\n",
       "<tr>\n",
       "  <th>Method:</th>             <td>Least Squares</td>  <th>  F-statistic:       </th> <td>  0.7374</td>\n",
       "</tr>\n",
       "<tr>\n",
       "  <th>Date:</th>             <td>Sun, 22 Sep 2019</td> <th>  Prob (F-statistic):</th>  <td> 0.397</td> \n",
       "</tr>\n",
       "<tr>\n",
       "  <th>Time:</th>                 <td>21:20:21</td>     <th>  Log-Likelihood:    </th> <td> -102.22</td>\n",
       "</tr>\n",
       "<tr>\n",
       "  <th>No. Observations:</th>      <td>    32</td>      <th>  AIC:               </th> <td>   208.4</td>\n",
       "</tr>\n",
       "<tr>\n",
       "  <th>Df Residuals:</th>          <td>    30</td>      <th>  BIC:               </th> <td>   211.4</td>\n",
       "</tr>\n",
       "<tr>\n",
       "  <th>Df Model:</th>              <td>     1</td>      <th>                     </th>     <td> </td>   \n",
       "</tr>\n",
       "<tr>\n",
       "  <th>Covariance Type:</th>      <td>nonrobust</td>    <th>                     </th>     <td> </td>   \n",
       "</tr>\n",
       "</table>\n",
       "<table class=\"simpletable\">\n",
       "<tr>\n",
       "      <td></td>         <th>coef</th>     <th>std err</th>      <th>t</th>      <th>P>|t|</th>  <th>[0.025</th>    <th>0.975]</th>  \n",
       "</tr>\n",
       "<tr>\n",
       "  <th>Intercept</th> <td>   53.4353</td> <td>    1.733</td> <td>   30.839</td> <td> 0.000</td> <td>   49.897</td> <td>   56.974</td>\n",
       "</tr>\n",
       "<tr>\n",
       "  <th>INFLATION</th> <td>   -0.4385</td> <td>    0.511</td> <td>   -0.859</td> <td> 0.397</td> <td>   -1.481</td> <td>    0.604</td>\n",
       "</tr>\n",
       "</table>\n",
       "<table class=\"simpletable\">\n",
       "<tr>\n",
       "  <th>Omnibus:</th>       <td> 2.798</td> <th>  Durbin-Watson:     </th> <td>   2.575</td>\n",
       "</tr>\n",
       "<tr>\n",
       "  <th>Prob(Omnibus):</th> <td> 0.247</td> <th>  Jarque-Bera (JB):  </th> <td>   1.511</td>\n",
       "</tr>\n",
       "<tr>\n",
       "  <th>Skew:</th>          <td>-0.412</td> <th>  Prob(JB):          </th> <td>   0.470</td>\n",
       "</tr>\n",
       "<tr>\n",
       "  <th>Kurtosis:</th>      <td> 3.674</td> <th>  Cond. No.          </th> <td>    5.75</td>\n",
       "</tr>\n",
       "</table><br/><br/>Warnings:<br/>[1] Standard Errors assume that the covariance matrix of the errors is correctly specified."
      ],
      "text/plain": [
       "<class 'statsmodels.iolib.summary.Summary'>\n",
       "\"\"\"\n",
       "                            OLS Regression Results                            \n",
       "==============================================================================\n",
       "Dep. Variable:                   VOTE   R-squared:                       0.024\n",
       "Model:                            OLS   Adj. R-squared:                 -0.009\n",
       "Method:                 Least Squares   F-statistic:                    0.7374\n",
       "Date:                Sun, 22 Sep 2019   Prob (F-statistic):              0.397\n",
       "Time:                        21:20:21   Log-Likelihood:                -102.22\n",
       "No. Observations:                  32   AIC:                             208.4\n",
       "Df Residuals:                      30   BIC:                             211.4\n",
       "Df Model:                           1                                         \n",
       "Covariance Type:            nonrobust                                         \n",
       "==============================================================================\n",
       "                 coef    std err          t      P>|t|      [0.025      0.975]\n",
       "------------------------------------------------------------------------------\n",
       "Intercept     53.4353      1.733     30.839      0.000      49.897      56.974\n",
       "INFLATION     -0.4385      0.511     -0.859      0.397      -1.481       0.604\n",
       "==============================================================================\n",
       "Omnibus:                        2.798   Durbin-Watson:                   2.575\n",
       "Prob(Omnibus):                  0.247   Jarque-Bera (JB):                1.511\n",
       "Skew:                          -0.412   Prob(JB):                        0.470\n",
       "Kurtosis:                       3.674   Cond. No.                         5.75\n",
       "==============================================================================\n",
       "\n",
       "Warnings:\n",
       "[1] Standard Errors assume that the covariance matrix of the errors is correctly specified.\n",
       "\"\"\""
      ]
     },
     "execution_count": 199,
     "metadata": {},
     "output_type": "execute_result"
    }
   ],
   "source": [
    "vote_inflation_ols = smf.ols('VOTE ~ INFLATION', data=elections).fit()\n",
    "vote_inflation_ols.summary()"
   ]
  },
  {
   "cell_type": "markdown",
   "metadata": {},
   "source": [
    "In the table that is produced by the <code>.summary()</code> function, there is a row labeled \"INFLATION\".What does it tell us about the coefficient for the linear relationship between inflation and presidential vote share?"
   ]
  },
  {
   "cell_type": "markdown",
   "metadata": {},
   "source": [
    "*YOUR ANSWER HERE*"
   ]
  },
  {
   "cell_type": "markdown",
   "metadata": {},
   "source": [
    "Now, let's produce the OLS regression results for voteshare and economic growth (the \"GROWTH\" column): "
   ]
  },
  {
   "cell_type": "code",
   "execution_count": 200,
   "metadata": {},
   "outputs": [
    {
     "data": {
      "text/html": [
       "<table class=\"simpletable\">\n",
       "<caption>OLS Regression Results</caption>\n",
       "<tr>\n",
       "  <th>Dep. Variable:</th>          <td>VOTE</td>       <th>  R-squared:         </th> <td>   0.356</td>\n",
       "</tr>\n",
       "<tr>\n",
       "  <th>Model:</th>                   <td>OLS</td>       <th>  Adj. R-squared:    </th> <td>   0.334</td>\n",
       "</tr>\n",
       "<tr>\n",
       "  <th>Method:</th>             <td>Least Squares</td>  <th>  F-statistic:       </th> <td>   16.55</td>\n",
       "</tr>\n",
       "<tr>\n",
       "  <th>Date:</th>             <td>Sun, 22 Sep 2019</td> <th>  Prob (F-statistic):</th> <td>0.000316</td>\n",
       "</tr>\n",
       "<tr>\n",
       "  <th>Time:</th>                 <td>21:20:21</td>     <th>  Log-Likelihood:    </th> <td> -95.584</td>\n",
       "</tr>\n",
       "<tr>\n",
       "  <th>No. Observations:</th>      <td>    32</td>      <th>  AIC:               </th> <td>   195.2</td>\n",
       "</tr>\n",
       "<tr>\n",
       "  <th>Df Residuals:</th>          <td>    30</td>      <th>  BIC:               </th> <td>   198.1</td>\n",
       "</tr>\n",
       "<tr>\n",
       "  <th>Df Model:</th>              <td>     1</td>      <th>                     </th>     <td> </td>   \n",
       "</tr>\n",
       "<tr>\n",
       "  <th>Covariance Type:</th>      <td>nonrobust</td>    <th>                     </th>     <td> </td>   \n",
       "</tr>\n",
       "</table>\n",
       "<table class=\"simpletable\">\n",
       "<tr>\n",
       "      <td></td>         <th>coef</th>     <th>std err</th>      <th>t</th>      <th>P>|t|</th>  <th>[0.025</th>    <th>0.975]</th>  \n",
       "</tr>\n",
       "<tr>\n",
       "  <th>Intercept</th> <td>   51.8598</td> <td>    0.882</td> <td>   58.821</td> <td> 0.000</td> <td>   50.059</td> <td>   53.660</td>\n",
       "</tr>\n",
       "<tr>\n",
       "  <th>GROWTH</th>    <td>    0.6536</td> <td>    0.161</td> <td>    4.068</td> <td> 0.000</td> <td>    0.325</td> <td>    0.982</td>\n",
       "</tr>\n",
       "</table>\n",
       "<table class=\"simpletable\">\n",
       "<tr>\n",
       "  <th>Omnibus:</th>       <td> 1.495</td> <th>  Durbin-Watson:     </th> <td>   2.309</td>\n",
       "</tr>\n",
       "<tr>\n",
       "  <th>Prob(Omnibus):</th> <td> 0.473</td> <th>  Jarque-Bera (JB):  </th> <td>   1.128</td>\n",
       "</tr>\n",
       "<tr>\n",
       "  <th>Skew:</th>          <td> 0.211</td> <th>  Prob(JB):          </th> <td>   0.569</td>\n",
       "</tr>\n",
       "<tr>\n",
       "  <th>Kurtosis:</th>      <td> 2.183</td> <th>  Cond. No.          </th> <td>    5.53</td>\n",
       "</tr>\n",
       "</table><br/><br/>Warnings:<br/>[1] Standard Errors assume that the covariance matrix of the errors is correctly specified."
      ],
      "text/plain": [
       "<class 'statsmodels.iolib.summary.Summary'>\n",
       "\"\"\"\n",
       "                            OLS Regression Results                            \n",
       "==============================================================================\n",
       "Dep. Variable:                   VOTE   R-squared:                       0.356\n",
       "Model:                            OLS   Adj. R-squared:                  0.334\n",
       "Method:                 Least Squares   F-statistic:                     16.55\n",
       "Date:                Sun, 22 Sep 2019   Prob (F-statistic):           0.000316\n",
       "Time:                        21:20:21   Log-Likelihood:                -95.584\n",
       "No. Observations:                  32   AIC:                             195.2\n",
       "Df Residuals:                      30   BIC:                             198.1\n",
       "Df Model:                           1                                         \n",
       "Covariance Type:            nonrobust                                         \n",
       "==============================================================================\n",
       "                 coef    std err          t      P>|t|      [0.025      0.975]\n",
       "------------------------------------------------------------------------------\n",
       "Intercept     51.8598      0.882     58.821      0.000      50.059      53.660\n",
       "GROWTH         0.6536      0.161      4.068      0.000       0.325       0.982\n",
       "==============================================================================\n",
       "Omnibus:                        1.495   Durbin-Watson:                   2.309\n",
       "Prob(Omnibus):                  0.473   Jarque-Bera (JB):                1.128\n",
       "Skew:                           0.211   Prob(JB):                        0.569\n",
       "Kurtosis:                       2.183   Cond. No.                         5.53\n",
       "==============================================================================\n",
       "\n",
       "Warnings:\n",
       "[1] Standard Errors assume that the covariance matrix of the errors is correctly specified.\n",
       "\"\"\""
      ]
     },
     "execution_count": 200,
     "metadata": {},
     "output_type": "execute_result"
    }
   ],
   "source": [
    "vote_inflation_ols = smf.ols('VOTE ~ GROWTH', data=elections).fit()\n",
    "vote_inflation_ols.summary()"
   ]
  },
  {
   "cell_type": "markdown",
   "metadata": {},
   "source": [
    "Using the \"GROWTH\" row, we can review what we can determine about the relationship between growth and presidential vote share. Is the relationship statistically significant?"
   ]
  },
  {
   "cell_type": "markdown",
   "metadata": {},
   "source": [
    "*YOUR ANSWER HERE*"
   ]
  },
  {
   "cell_type": "markdown",
   "metadata": {},
   "source": [
    "To use multiple variables, we can modify how we interact with the original function like so: <code>smf.ols('dependent_variable ~ independent_var_1 + independent_var_2 + ...', data=data_table).fit()</code>. Below, we run the regression between the two independent variables economic growth and monetary inflation."
   ]
  },
  {
   "cell_type": "code",
   "execution_count": 201,
   "metadata": {},
   "outputs": [
    {
     "data": {
      "text/html": [
       "<table class=\"simpletable\">\n",
       "<caption>OLS Regression Results</caption>\n",
       "<tr>\n",
       "  <th>Dep. Variable:</th>          <td>VOTE</td>       <th>  R-squared:         </th> <td>   0.359</td>\n",
       "</tr>\n",
       "<tr>\n",
       "  <th>Model:</th>                   <td>OLS</td>       <th>  Adj. R-squared:    </th> <td>   0.315</td>\n",
       "</tr>\n",
       "<tr>\n",
       "  <th>Method:</th>             <td>Least Squares</td>  <th>  F-statistic:       </th> <td>   8.132</td>\n",
       "</tr>\n",
       "<tr>\n",
       "  <th>Date:</th>             <td>Sun, 22 Sep 2019</td> <th>  Prob (F-statistic):</th>  <td>0.00157</td>\n",
       "</tr>\n",
       "<tr>\n",
       "  <th>Time:</th>                 <td>21:20:21</td>     <th>  Log-Likelihood:    </th> <td> -95.490</td>\n",
       "</tr>\n",
       "<tr>\n",
       "  <th>No. Observations:</th>      <td>    32</td>      <th>  AIC:               </th> <td>   197.0</td>\n",
       "</tr>\n",
       "<tr>\n",
       "  <th>Df Residuals:</th>          <td>    29</td>      <th>  BIC:               </th> <td>   201.4</td>\n",
       "</tr>\n",
       "<tr>\n",
       "  <th>Df Model:</th>              <td>     2</td>      <th>                     </th>     <td> </td>   \n",
       "</tr>\n",
       "<tr>\n",
       "  <th>Covariance Type:</th>      <td>nonrobust</td>    <th>                     </th>     <td> </td>   \n",
       "</tr>\n",
       "</table>\n",
       "<table class=\"simpletable\">\n",
       "<tr>\n",
       "      <td></td>         <th>coef</th>     <th>std err</th>      <th>t</th>      <th>P>|t|</th>  <th>[0.025</th>    <th>0.975]</th>  \n",
       "</tr>\n",
       "<tr>\n",
       "  <th>Intercept</th> <td>   52.3341</td> <td>    1.456</td> <td>   35.954</td> <td> 0.000</td> <td>   49.357</td> <td>   55.311</td>\n",
       "</tr>\n",
       "<tr>\n",
       "  <th>INFLATION</th> <td>   -0.1760</td> <td>    0.426</td> <td>   -0.413</td> <td> 0.683</td> <td>   -1.048</td> <td>    0.696</td>\n",
       "</tr>\n",
       "<tr>\n",
       "  <th>GROWTH</th>    <td>    0.6428</td> <td>    0.165</td> <td>    3.896</td> <td> 0.001</td> <td>    0.305</td> <td>    0.980</td>\n",
       "</tr>\n",
       "</table>\n",
       "<table class=\"simpletable\">\n",
       "<tr>\n",
       "  <th>Omnibus:</th>       <td> 1.103</td> <th>  Durbin-Watson:     </th> <td>   2.329</td>\n",
       "</tr>\n",
       "<tr>\n",
       "  <th>Prob(Omnibus):</th> <td> 0.576</td> <th>  Jarque-Bera (JB):  </th> <td>   0.973</td>\n",
       "</tr>\n",
       "<tr>\n",
       "  <th>Skew:</th>          <td> 0.213</td> <th>  Prob(JB):          </th> <td>   0.615</td>\n",
       "</tr>\n",
       "<tr>\n",
       "  <th>Kurtosis:</th>      <td> 2.259</td> <th>  Cond. No.          </th> <td>    9.24</td>\n",
       "</tr>\n",
       "</table><br/><br/>Warnings:<br/>[1] Standard Errors assume that the covariance matrix of the errors is correctly specified."
      ],
      "text/plain": [
       "<class 'statsmodels.iolib.summary.Summary'>\n",
       "\"\"\"\n",
       "                            OLS Regression Results                            \n",
       "==============================================================================\n",
       "Dep. Variable:                   VOTE   R-squared:                       0.359\n",
       "Model:                            OLS   Adj. R-squared:                  0.315\n",
       "Method:                 Least Squares   F-statistic:                     8.132\n",
       "Date:                Sun, 22 Sep 2019   Prob (F-statistic):            0.00157\n",
       "Time:                        21:20:21   Log-Likelihood:                -95.490\n",
       "No. Observations:                  32   AIC:                             197.0\n",
       "Df Residuals:                      29   BIC:                             201.4\n",
       "Df Model:                           2                                         \n",
       "Covariance Type:            nonrobust                                         \n",
       "==============================================================================\n",
       "                 coef    std err          t      P>|t|      [0.025      0.975]\n",
       "------------------------------------------------------------------------------\n",
       "Intercept     52.3341      1.456     35.954      0.000      49.357      55.311\n",
       "INFLATION     -0.1760      0.426     -0.413      0.683      -1.048       0.696\n",
       "GROWTH         0.6428      0.165      3.896      0.001       0.305       0.980\n",
       "==============================================================================\n",
       "Omnibus:                        1.103   Durbin-Watson:                   2.329\n",
       "Prob(Omnibus):                  0.576   Jarque-Bera (JB):                0.973\n",
       "Skew:                           0.213   Prob(JB):                        0.615\n",
       "Kurtosis:                       2.259   Cond. No.                         9.24\n",
       "==============================================================================\n",
       "\n",
       "Warnings:\n",
       "[1] Standard Errors assume that the covariance matrix of the errors is correctly specified.\n",
       "\"\"\""
      ]
     },
     "execution_count": 201,
     "metadata": {},
     "output_type": "execute_result"
    }
   ],
   "source": [
    "vote_inflation_growth_ols = smf.ols('VOTE ~ INFLATION + GROWTH', data=elections).fit()\n",
    "vote_inflation_growth_ols.summary()"
   ]
  },
  {
   "cell_type": "markdown",
   "metadata": {},
   "source": [
    "Compare the coefficient and p-values for the two independent variables compared to when we just ran bivariate regression using each of them individually. How do these values change?"
   ]
  },
  {
   "cell_type": "markdown",
   "metadata": {},
   "source": [
    "*YOUR ANSWER HERE*"
   ]
  },
  {
   "cell_type": "markdown",
   "metadata": {},
   "source": [
    "Now, run the multivariate regression for the relationship between voteshare and \"GOODNEWS\" and \"WAR\":"
   ]
  },
  {
   "cell_type": "code",
   "execution_count": 202,
   "metadata": {},
   "outputs": [
    {
     "data": {
      "text/html": [
       "<table class=\"simpletable\">\n",
       "<caption>OLS Regression Results</caption>\n",
       "<tr>\n",
       "  <th>Dep. Variable:</th>          <td>VOTE</td>       <th>  R-squared:         </th> <td>   0.204</td>\n",
       "</tr>\n",
       "<tr>\n",
       "  <th>Model:</th>                   <td>OLS</td>       <th>  Adj. R-squared:    </th> <td>   0.149</td>\n",
       "</tr>\n",
       "<tr>\n",
       "  <th>Method:</th>             <td>Least Squares</td>  <th>  F-statistic:       </th> <td>   3.713</td>\n",
       "</tr>\n",
       "<tr>\n",
       "  <th>Date:</th>             <td>Sun, 22 Sep 2019</td> <th>  Prob (F-statistic):</th>  <td>0.0367</td> \n",
       "</tr>\n",
       "<tr>\n",
       "  <th>Time:</th>                 <td>21:20:21</td>     <th>  Log-Likelihood:    </th> <td> -98.965</td>\n",
       "</tr>\n",
       "<tr>\n",
       "  <th>No. Observations:</th>      <td>    32</td>      <th>  AIC:               </th> <td>   203.9</td>\n",
       "</tr>\n",
       "<tr>\n",
       "  <th>Df Residuals:</th>          <td>    29</td>      <th>  BIC:               </th> <td>   208.3</td>\n",
       "</tr>\n",
       "<tr>\n",
       "  <th>Df Model:</th>              <td>     2</td>      <th>                     </th>     <td> </td>   \n",
       "</tr>\n",
       "<tr>\n",
       "  <th>Covariance Type:</th>      <td>nonrobust</td>    <th>                     </th>     <td> </td>   \n",
       "</tr>\n",
       "</table>\n",
       "<table class=\"simpletable\">\n",
       "<tr>\n",
       "      <td></td>         <th>coef</th>     <th>std err</th>      <th>t</th>      <th>P>|t|</th>  <th>[0.025</th>    <th>0.975]</th>  \n",
       "</tr>\n",
       "<tr>\n",
       "  <th>Intercept</th> <td>   47.0359</td> <td>    2.781</td> <td>   16.913</td> <td> 0.000</td> <td>   41.348</td> <td>   52.724</td>\n",
       "</tr>\n",
       "<tr>\n",
       "  <th>GOODNEWS</th>  <td>    0.9843</td> <td>    0.443</td> <td>    2.224</td> <td> 0.034</td> <td>    0.079</td> <td>    1.890</td>\n",
       "</tr>\n",
       "<tr>\n",
       "  <th>WAR</th>       <td>    0.3851</td> <td>    4.265</td> <td>    0.090</td> <td> 0.929</td> <td>   -8.338</td> <td>    9.108</td>\n",
       "</tr>\n",
       "</table>\n",
       "<table class=\"simpletable\">\n",
       "<tr>\n",
       "  <th>Omnibus:</th>       <td> 0.615</td> <th>  Durbin-Watson:     </th> <td>   2.697</td>\n",
       "</tr>\n",
       "<tr>\n",
       "  <th>Prob(Omnibus):</th> <td> 0.735</td> <th>  Jarque-Bera (JB):  </th> <td>   0.718</td>\n",
       "</tr>\n",
       "<tr>\n",
       "  <th>Skew:</th>          <td>-0.225</td> <th>  Prob(JB):          </th> <td>   0.698</td>\n",
       "</tr>\n",
       "<tr>\n",
       "  <th>Kurtosis:</th>      <td> 2.420</td> <th>  Cond. No.          </th> <td>    28.9</td>\n",
       "</tr>\n",
       "</table><br/><br/>Warnings:<br/>[1] Standard Errors assume that the covariance matrix of the errors is correctly specified."
      ],
      "text/plain": [
       "<class 'statsmodels.iolib.summary.Summary'>\n",
       "\"\"\"\n",
       "                            OLS Regression Results                            \n",
       "==============================================================================\n",
       "Dep. Variable:                   VOTE   R-squared:                       0.204\n",
       "Model:                            OLS   Adj. R-squared:                  0.149\n",
       "Method:                 Least Squares   F-statistic:                     3.713\n",
       "Date:                Sun, 22 Sep 2019   Prob (F-statistic):             0.0367\n",
       "Time:                        21:20:21   Log-Likelihood:                -98.965\n",
       "No. Observations:                  32   AIC:                             203.9\n",
       "Df Residuals:                      29   BIC:                             208.3\n",
       "Df Model:                           2                                         \n",
       "Covariance Type:            nonrobust                                         \n",
       "==============================================================================\n",
       "                 coef    std err          t      P>|t|      [0.025      0.975]\n",
       "------------------------------------------------------------------------------\n",
       "Intercept     47.0359      2.781     16.913      0.000      41.348      52.724\n",
       "GOODNEWS       0.9843      0.443      2.224      0.034       0.079       1.890\n",
       "WAR            0.3851      4.265      0.090      0.929      -8.338       9.108\n",
       "==============================================================================\n",
       "Omnibus:                        0.615   Durbin-Watson:                   2.697\n",
       "Prob(Omnibus):                  0.735   Jarque-Bera (JB):                0.718\n",
       "Skew:                          -0.225   Prob(JB):                        0.698\n",
       "Kurtosis:                       2.420   Cond. No.                         28.9\n",
       "==============================================================================\n",
       "\n",
       "Warnings:\n",
       "[1] Standard Errors assume that the covariance matrix of the errors is correctly specified.\n",
       "\"\"\""
      ]
     },
     "execution_count": 202,
     "metadata": {},
     "output_type": "execute_result"
    }
   ],
   "source": [
    "vote_goodnews_war_ols = smf.ols('VOTE ~ GOODNEWS + WAR', data=elections).fit()\n",
    "vote_goodnews_war_ols.summary()"
   ]
  },
  {
   "cell_type": "markdown",
   "metadata": {},
   "source": [
    "**Coeffecient Review:**\n",
    "Using the coefficients for the intercept, GOODNEWS, and WAR variables, during peace time, how many months of good economic news is necessary for the incumbent to win?"
   ]
  },
  {
   "cell_type": "markdown",
   "metadata": {},
   "source": [
    "*YOUR ANSWER HERE*"
   ]
  },
  {
   "cell_type": "markdown",
   "metadata": {},
   "source": [
    "Is GOODNEWS statistically significant at the .05 level? What about at .01? What does this imply about positive economic news and incumbent voteshare?"
   ]
  },
  {
   "cell_type": "markdown",
   "metadata": {},
   "source": [
    "*YOUR ANSWER HERE*"
   ]
  },
  {
   "cell_type": "markdown",
   "metadata": {},
   "source": [
    "Let's practice generating confidence intervals. As we have seen in past lectures, the 95% confidence interval is calculated with $\\beta \\pm 1.96 * se(\\beta)$. From the table above, what is the standard error for the GOODNEWS variable?"
   ]
  },
  {
   "cell_type": "code",
   "execution_count": 203,
   "metadata": {},
   "outputs": [],
   "source": [
    "goodnews_se =  0.443"
   ]
  },
  {
   "cell_type": "markdown",
   "metadata": {},
   "source": [
    "Using the standard error, calculate the 95% confidence interval. In the cell below, fill out the values for the lower and upper bound of the interval. Does it match what the <code>.summary()</code> function returns?"
   ]
  },
  {
   "cell_type": "code",
   "execution_count": 204,
   "metadata": {},
   "outputs": [
    {
     "data": {
      "text/plain": [
       "(0.11602000000000001, 1.85258)"
      ]
     },
     "execution_count": 204,
     "metadata": {},
     "output_type": "execute_result"
    }
   ],
   "source": [
    "goodnews_lower =  0.9843 - 1.96*goodnews_se\n",
    "goodnews_upper = 0.9843 + 1.96*goodnews_se\n",
    "goodnews_lower, goodnews_upper"
   ]
  },
  {
   "cell_type": "code",
   "execution_count": null,
   "metadata": {},
   "outputs": [],
   "source": []
  },
  {
   "cell_type": "code",
   "execution_count": null,
   "metadata": {},
   "outputs": [],
   "source": []
  },
  {
   "cell_type": "markdown",
   "metadata": {},
   "source": [
    "## OLS Review: Population and Sample Models:\n",
    "In the following questions, the models in focus are bivariate, using the population model ${Y_i} = \\alpha + \\beta X_i+u_i$ and sample model ${Y_i} = \\hat{\\alpha} + \\hat{\\beta}X_i+\\hat{u_i}$"
   ]
  },
  {
   "cell_type": "markdown",
   "metadata": {},
   "source": [
    "Which of the following statements are accurate about the population regression model?"
   ]
  },
  {
   "cell_type": "code",
   "execution_count": 205,
   "metadata": {},
   "outputs": [
    {
     "data": {
      "application/vnd.jupyter.widget-view+json": {
       "model_id": "87a81c5c0780420bac8949002b62ad4f",
       "version_major": 2,
       "version_minor": 0
      },
      "text/plain": [
       "HBox(children=(Checkbox(value=False), Label(value='$u_i$ is the stochastic component of $Y_i$.', layout=Layout…"
      ]
     },
     "metadata": {},
     "output_type": "display_data"
    },
    {
     "data": {
      "application/vnd.jupyter.widget-view+json": {
       "model_id": "dfb941d531a24e35a6c50f3ee03d5ab2",
       "version_major": 2,
       "version_minor": 0
      },
      "text/plain": [
       "HBox(children=(Checkbox(value=False), Label(value='$\\\\hat{α}+\\\\hat{β}X_i$ is the systematic component of $Y_i$…"
      ]
     },
     "metadata": {},
     "output_type": "display_data"
    },
    {
     "data": {
      "application/vnd.jupyter.widget-view+json": {
       "model_id": "87554a9b22604137a0506d980bc70b1b",
       "version_major": 2,
       "version_minor": 0
      },
      "text/plain": [
       "HBox(children=(Checkbox(value=False), Label(value='Both (a) and (b) are correct', layout=Layout(margin='0 -5 0…"
      ]
     },
     "metadata": {},
     "output_type": "display_data"
    },
    {
     "data": {
      "application/vnd.jupyter.widget-view+json": {
       "model_id": "b0adfc2cf00048b8a0ff3655f1e39b52",
       "version_major": 2,
       "version_minor": 0
      },
      "text/plain": [
       "HBox(children=(Checkbox(value=False), Label(value='Neither (a) nor (b) are correct', layout=Layout(margin='0 -…"
      ]
     },
     "metadata": {},
     "output_type": "display_data"
    }
   ],
   "source": [
    "question_maker('$u_i$ is the stochastic component of $Y_i$.')\n",
    "question_maker('$\\hat{α}+\\hat{β}X_i$ is the systematic component of $Y_i$')\n",
    "question_maker('Both (a) and (b) are correct')\n",
    "question_maker('Neither (a) nor (b) are correct')"
   ]
  },
  {
   "cell_type": "markdown",
   "metadata": {},
   "source": [
    "Which of the following statements are accurate about the population regression model?"
   ]
  },
  {
   "cell_type": "code",
   "execution_count": 206,
   "metadata": {},
   "outputs": [
    {
     "data": {
      "application/vnd.jupyter.widget-view+json": {
       "model_id": "151a6ad0f0f6450499ca07a8a38de24f",
       "version_major": 2,
       "version_minor": 0
      },
      "text/plain": [
       "HBox(children=(Checkbox(value=False), Label(value='$\\\\hat{u}_i$ is an estimate of u_i', layout=Layout(margin='…"
      ]
     },
     "metadata": {},
     "output_type": "display_data"
    },
    {
     "data": {
      "application/vnd.jupyter.widget-view+json": {
       "model_id": "c8f20362161d4e45b119bd47c4f4a536",
       "version_major": 2,
       "version_minor": 0
      },
      "text/plain": [
       "HBox(children=(Checkbox(value=False), Label(value='$X_i$ is assumed to be measured without error', layout=Layo…"
      ]
     },
     "metadata": {},
     "output_type": "display_data"
    },
    {
     "data": {
      "application/vnd.jupyter.widget-view+json": {
       "model_id": "9acf0017e8974960a6305505532bdcde",
       "version_major": 2,
       "version_minor": 0
      },
      "text/plain": [
       "HBox(children=(Checkbox(value=False), Label(value='Both (a) and (b) are correct', layout=Layout(margin='0 -5 0…"
      ]
     },
     "metadata": {},
     "output_type": "display_data"
    },
    {
     "data": {
      "application/vnd.jupyter.widget-view+json": {
       "model_id": "57735d354e1849469de8fbfe2169fea0",
       "version_major": 2,
       "version_minor": 0
      },
      "text/plain": [
       "HBox(children=(Checkbox(value=False), Label(value='Neither (a) nor (b) are correct', layout=Layout(margin='0 -…"
      ]
     },
     "metadata": {},
     "output_type": "display_data"
    }
   ],
   "source": [
    "question_maker('$\\hat{u}_i$ is an estimate of u_i')\n",
    "question_maker('$X_i$ is assumed to be measured without error')\n",
    "question_maker('Both (a) and (b) are correct')\n",
    "question_maker('Neither (a) nor (b) are correct')"
   ]
  },
  {
   "cell_type": "markdown",
   "metadata": {},
   "source": [
    "Which of the statements are accurate?"
   ]
  },
  {
   "cell_type": "code",
   "execution_count": 207,
   "metadata": {},
   "outputs": [
    {
     "data": {
      "application/vnd.jupyter.widget-view+json": {
       "model_id": "dcb684a9979b4b0a8970f63247d1ed14",
       "version_major": 2,
       "version_minor": 0
      },
      "text/plain": [
       "HBox(children=(Checkbox(value=False), Label(value='By specifying a bivariate regression model we are assuming …"
      ]
     },
     "metadata": {},
     "output_type": "display_data"
    },
    {
     "data": {
      "application/vnd.jupyter.widget-view+json": {
       "model_id": "933c3aa7c9ad4305bd3f11506ae7429e",
       "version_major": 2,
       "version_minor": 0
      },
      "text/plain": [
       "HBox(children=(Checkbox(value=False), Label(value='By specifying a bivariate regression model we are assuming …"
      ]
     },
     "metadata": {},
     "output_type": "display_data"
    },
    {
     "data": {
      "application/vnd.jupyter.widget-view+json": {
       "model_id": "65aa707f58254ff68b9a4fa80d01270d",
       "version_major": 2,
       "version_minor": 0
      },
      "text/plain": [
       "HBox(children=(Checkbox(value=False), Label(value='Both (a) and (b) are correct', layout=Layout(margin='0 -5 0…"
      ]
     },
     "metadata": {},
     "output_type": "display_data"
    },
    {
     "data": {
      "application/vnd.jupyter.widget-view+json": {
       "model_id": "5416b6cbb9ab4c4b987b5d0a406aced6",
       "version_major": 2,
       "version_minor": 0
      },
      "text/plain": [
       "HBox(children=(Checkbox(value=False), Label(value='Neither (a) nor (b) are correct', layout=Layout(margin='0 -…"
      ]
     },
     "metadata": {},
     "output_type": "display_data"
    }
   ],
   "source": [
    "question_maker('By specifying a bivariate regression model we are assuming that the impact of a one unit increase in $X_i$ will always be β.')\n",
    "question_maker('By specifying a bivariate regression model we are assuming that there are no other variables that cause $Y_i$.')\n",
    "question_maker('Both (a) and (b) are correct')\n",
    "question_maker('Neither (a) nor (b) are correct')"
   ]
  }
 ],
 "metadata": {
  "kernelspec": {
   "display_name": "Python 3",
   "language": "python",
   "name": "python3"
  },
  "language_info": {
   "codemirror_mode": {
    "name": "ipython",
    "version": 3
   },
   "file_extension": ".py",
   "mimetype": "text/x-python",
   "name": "python",
   "nbconvert_exporter": "python",
   "pygments_lexer": "ipython3",
   "version": "3.7.4"
  }
 },
 "nbformat": 4,
 "nbformat_minor": 2
}
