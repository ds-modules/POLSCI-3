{
 "cells": [
  {
   "cell_type": "markdown",
   "metadata": {},
   "source": [
    "# Regression Homework\n",
    "In this homework we will review the process of generating an Ordinary Least Squares regression model. We will review the information that it can tell us about the relationship between variables."
   ]
  },
  {
   "cell_type": "markdown",
   "metadata": {},
   "source": [
    "Like always, we need to load in a few libaries first:"
   ]
  },
  {
   "cell_type": "code",
   "execution_count": null,
   "metadata": {},
   "outputs": [],
   "source": [
    "import statsmodels.formula.api as smf\n",
    "import statsmodels.api as sm\n",
    "from datascience import Table\n",
    "from questioner import question, multiple_choice"
   ]
  },
  {
   "cell_type": "markdown",
   "metadata": {},
   "source": [
    "Next, we need to load in our election data. This table represents presidential election outcomes from 1880 to now. In each row, we have collected information about different features during that year, such as inflation or the presence of a war."
   ]
  },
  {
   "cell_type": "code",
   "execution_count": null,
   "metadata": {
    "scrolled": true
   },
   "outputs": [],
   "source": [
    "elections = Table.read_table('jason_data/data/fair.csv')\n",
    "elections"
   ]
  },
  {
   "cell_type": "markdown",
   "metadata": {},
   "source": [
    "If we want to see the relationship between vote share and a variable, such as economic growth, we use the <code>smf.ols('y_variable ~ x_variable', data=data_table).fit()</code> function. To see the result, we call <code>.summary()</code>. Below, we produce the regression results for the relationship between vote share and inflation.  \n",
    "\n",
    "**NOTE:** Most of the results of this table are outside the scope of this course. The important values for you to consider are the number of observations, adjusted R-squared value and the coefficient, standard errors, t-statistics, and p-values associated with the different independent variables."
   ]
  },
  {
   "cell_type": "code",
   "execution_count": null,
   "metadata": {},
   "outputs": [],
   "source": [
    "vote_inflation_ols = smf.ols('VOTE ~ INFLATION', data=elections).fit()\n",
    "vote_inflation_ols.summary()"
   ]
  },
  {
   "cell_type": "markdown",
   "metadata": {},
   "source": [
    "In the table that is produced by the <code>.summary()</code> function, there is a row labeled \"INFLATION\".What does it tell us about the coefficient for the linear relationship between inflation and presidential vote share?"
   ]
  },
  {
   "cell_type": "markdown",
   "metadata": {},
   "source": [
    "*YOUR ANSWER HERE*"
   ]
  },
  {
   "cell_type": "markdown",
   "metadata": {},
   "source": [
    "Now, let's produce the OLS regression results for vote share and economic growth (the \"GROWTH\" column): "
   ]
  },
  {
   "cell_type": "code",
   "execution_count": null,
   "metadata": {},
   "outputs": [],
   "source": [
    "vote_inflation_ols = ...\n",
    "vote_inflation_ols.summary()"
   ]
  },
  {
   "cell_type": "markdown",
   "metadata": {},
   "source": [
    "Using the \"GROWTH\" row, we can review what we can determine about the relationship between growth and presidential vote share. Is the relationship statistically significant?"
   ]
  },
  {
   "cell_type": "markdown",
   "metadata": {},
   "source": [
    "*YOUR ANSWER HERE*"
   ]
  },
  {
   "cell_type": "markdown",
   "metadata": {},
   "source": [
    "To use multiple variables, we can modify how we interact with the original function like so: <code>smf.ols('dependent_variable ~ independent_var_1 + independent_var_2 + ...', data=data_table).fit()</code>. Below, we run the regression between the two independent variables economic growth and monetary inflation."
   ]
  },
  {
   "cell_type": "code",
   "execution_count": null,
   "metadata": {},
   "outputs": [],
   "source": [
    "vote_inflation_growth_ols = smf.ols('VOTE ~ INFLATION + GROWTH', data=elections).fit()\n",
    "vote_inflation_growth_ols.summary()"
   ]
  },
  {
   "cell_type": "markdown",
   "metadata": {},
   "source": [
    "Compare the coefficient and p-values for the two independent variables compared to when we just ran bivariate regression using each of them individually. How do these values change?"
   ]
  },
  {
   "cell_type": "markdown",
   "metadata": {},
   "source": [
    "*YOUR ANSWER HERE*"
   ]
  },
  {
   "cell_type": "markdown",
   "metadata": {},
   "source": [
    "Now, run the multivariate regression for the relationship between voteshare and \"GOODNEWS\" and \"WAR\":"
   ]
  },
  {
   "cell_type": "code",
   "execution_count": null,
   "metadata": {},
   "outputs": [],
   "source": [
    "vote_goodnews_war_ols = ...\n",
    "vote_goodnews_war_ols.summary()"
   ]
  },
  {
   "cell_type": "markdown",
   "metadata": {},
   "source": [
    "**Coeffecient Review:**\n",
    "Using the coefficients for the intercept, GOODNEWS, and WAR variables, during peace time, how many months of good economic news is necessary for the incumbent to win?"
   ]
  },
  {
   "cell_type": "markdown",
   "metadata": {},
   "source": [
    "*YOUR ANSWER HERE*"
   ]
  },
  {
   "cell_type": "markdown",
   "metadata": {},
   "source": [
    "Is GOODNEWS statistically significant at the .05 level? What about at .01? What does this imply about positive economic news and incumbent voteshare?"
   ]
  },
  {
   "cell_type": "markdown",
   "metadata": {},
   "source": [
    "*YOUR ANSWER HERE*"
   ]
  },
  {
   "cell_type": "markdown",
   "metadata": {},
   "source": [
    "Let's practice generating confidence intervals. As we have seen in past lectures, the 95% confidence interval is calculated with $\\beta \\pm t_{critical} * se(\\beta)$. Let's find the 95% confidence interval for the GOODNEWS coefficient."
   ]
  },
  {
   "cell_type": "markdown",
   "metadata": {},
   "source": [
    "Using the number of observations in the summary and the t-table in the back of your textbook, find the critical value of t, and store it in the variable below."
   ]
  },
  {
   "cell_type": "code",
   "execution_count": null,
   "metadata": {},
   "outputs": [],
   "source": [
    "t_critical = ...\n",
    "t_critical"
   ]
  },
  {
   "cell_type": "markdown",
   "metadata": {},
   "source": [
    "Next, use the summary table to store the standard error for the GOODNEWS coefficient."
   ]
  },
  {
   "cell_type": "code",
   "execution_count": null,
   "metadata": {},
   "outputs": [],
   "source": [
    "goodnews_se = ...\n",
    "goodnews_se"
   ]
  },
  {
   "cell_type": "markdown",
   "metadata": {},
   "source": [
    "Using the standard error, calculate the 95% confidence interval. In the cell below, fill out the values for the lower and upper bound of the interval. Does it match what the <code>.summary()</code> function returns?"
   ]
  },
  {
   "cell_type": "code",
   "execution_count": null,
   "metadata": {},
   "outputs": [],
   "source": [
    "goodnews_lower =  0.9843 - t_critical*goodnews_se\n",
    "goodnews_upper = ...\n",
    "goodnews_lower, goodnews_upper"
   ]
  },
  {
   "cell_type": "markdown",
   "metadata": {},
   "source": [
    "Interpret this confidence interval: what can we say about the effect of good news on incumbent vote share?"
   ]
  },
  {
   "cell_type": "markdown",
   "metadata": {},
   "source": [
    "*YOUR ANSWER HERE*"
   ]
  },
  {
   "cell_type": "markdown",
   "metadata": {},
   "source": [
    "## OLS Review: Population and Sample Models:\n",
    "In the following questions, the models in focus are bivariate, using the population model ${Y_i} = \\alpha + \\beta X_i+u_i$ and sample model ${Y_i} = \\hat{\\alpha} + \\hat{\\beta}X_i+\\hat{u_i}$  \n",
    "\n",
    "**NOTE: You need to run the cells for the questions to properly render. Once your answer has been selected, tap on the next cell if you want to use SHIFT-ENTER functionality.**"
   ]
  },
  {
   "cell_type": "markdown",
   "metadata": {},
   "source": [
    "Which of the following statements are accurate about the population regression model?"
   ]
  },
  {
   "cell_type": "code",
   "execution_count": null,
   "metadata": {},
   "outputs": [],
   "source": [
    "question('$u_i$ is the stochastic component of $Y_i$.')\n",
    "question('$\\hat{α}+\\hat{β}X_i$ is the systematic component of $Y_i$')\n",
    "question('Both (a) and (b) are correct')\n",
    "question('Neither (a) nor (b) are correct')"
   ]
  },
  {
   "cell_type": "markdown",
   "metadata": {},
   "source": [
    "Which of the following statements are accurate about the population regression model?"
   ]
  },
  {
   "cell_type": "code",
   "execution_count": null,
   "metadata": {},
   "outputs": [],
   "source": [
    "question('$\\hat{u}_i$ is an estimate of u_i')\n",
    "question('$X_i$ is assumed to be measured without error')\n",
    "question('Both (a) and (b) are correct')\n",
    "question('Neither (a) nor (b) are correct')"
   ]
  },
  {
   "cell_type": "markdown",
   "metadata": {},
   "source": [
    "Which of the statements are accurate?"
   ]
  },
  {
   "cell_type": "code",
   "execution_count": null,
   "metadata": {
    "scrolled": false
   },
   "outputs": [],
   "source": [
    "question('By specifying a bivariate regression model we are assuming that the impact of a one unit increase in $X_i$ will always be β.')\n",
    "question('By specifying a bivariate regression model we are assuming that there are no other variables that cause $Y_i$.')\n",
    "question('Both (a) and (b) are correct')\n",
    "question('Neither (a) nor (b) are correct')"
   ]
  },
  {
   "cell_type": "markdown",
   "metadata": {},
   "source": [
    "## Saving Your Notebook\n",
    "Now that you've finished the homework, we need to save it! To do this, click <code>File</code> $\\rightarrow$ <code>Download as</code> $\\rightarrow$ <code>PDF via Chrome</code>"
   ]
  }
 ],
 "metadata": {
  "kernelspec": {
   "display_name": "Python 3",
   "language": "python",
   "name": "python3"
  },
  "language_info": {
   "codemirror_mode": {
    "name": "ipython",
    "version": 3
   },
   "file_extension": ".py",
   "mimetype": "text/x-python",
   "name": "python",
   "nbconvert_exporter": "python",
   "pygments_lexer": "ipython3",
   "version": "3.7.4"
  }
 },
 "nbformat": 4,
 "nbformat_minor": 2
}
