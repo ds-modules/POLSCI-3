{
 "cells": [
  {
   "cell_type": "markdown",
   "metadata": {},
   "source": [
    "# Distributions Homework\n",
    "In this homework we will explore how distributions of data impact our ability to draw conclusions about observations. From weighted coins to polling responses, we will determine how much we can take away from our data.  \n",
    "\n",
    "**Outline:**  \n",
    "1) Generate distributions of data  \n",
    "2) Produce sampling distributions  \n",
    "3) Look at how any frequency distribution can produce a sampling distribution  \n",
    "4) Review concepts of sampling distributions  "
   ]
  },
  {
   "cell_type": "code",
   "execution_count": null,
   "metadata": {},
   "outputs": [],
   "source": [
    "import numpy as np\n",
    "import scipy.stats as stats\n",
    "import matplotlib.pyplot as plt\n",
    "from ipywidgets import *\n",
    "from questioner import question"
   ]
  },
  {
   "cell_type": "markdown",
   "metadata": {},
   "source": [
    "## Generating Distributions\n",
    "To start, let's consider a probabilistic distribution. While the example uses the flip of a coin, you will be using the roll of a die. Below, we can simulate flipping the coin once using <code>np.random.choice</code>. Below, there are two options for outcomes of a coin flip: a 0 signifying tails or a 1 signifying heads."
   ]
  },
  {
   "cell_type": "code",
   "execution_count": null,
   "metadata": {},
   "outputs": [],
   "source": [
    "coin_choices = [0, 1]\n",
    "coin_flip = np.random.choice(coin_choices)\n",
    "coin_flip"
   ]
  },
  {
   "cell_type": "markdown",
   "metadata": {},
   "source": [
    "In the cell below, reproduce the roll of a die: what happens when you repeatedly run the cell?"
   ]
  },
  {
   "cell_type": "code",
   "execution_count": null,
   "metadata": {},
   "outputs": [],
   "source": [
    "##Your Answer Here\n",
    "die_choices = [...]\n",
    "die_roll = ...\n",
    "die_roll"
   ]
  },
  {
   "cell_type": "markdown",
   "metadata": {},
   "source": [
    "By running the cell multiple times, you should see different outcomes: sometimes a 1, other times a 2, etc. We can reproduce this by adding a parameter to our previous function call: <code>size</code>. Below, we simulate flipping a coin 30 times."
   ]
  },
  {
   "cell_type": "code",
   "execution_count": null,
   "metadata": {},
   "outputs": [],
   "source": [
    "coin_flips = np.random.choice(coin_choices, size=30)\n",
    "coin_flips"
   ]
  },
  {
   "cell_type": "markdown",
   "metadata": {},
   "source": [
    "In the cell below, reproduce the roll of a die 100 times:"
   ]
  },
  {
   "cell_type": "code",
   "execution_count": null,
   "metadata": {},
   "outputs": [],
   "source": [
    "## Your Answer Here\n",
    "dice_rolls = ...\n",
    "dice_rolls"
   ]
  },
  {
   "cell_type": "markdown",
   "metadata": {},
   "source": [
    "To better understand our data, we will want to visualize it. The <code>plt.hist</code> function allows you to prduce a histogram of the data we produced. What do you notice about the ratio of heads to tails?\n",
    "\n",
    "**NOTE**: the histogram function ouputs a list of lists that are outside the scope of this course. Just focus on the histogram."
   ]
  },
  {
   "cell_type": "code",
   "execution_count": null,
   "metadata": {},
   "outputs": [],
   "source": [
    "plt.hist(coin_flips)"
   ]
  },
  {
   "cell_type": "markdown",
   "metadata": {},
   "source": [
    "In the cell below, reproduce the histogram above with dice rolls:"
   ]
  },
  {
   "cell_type": "code",
   "execution_count": null,
   "metadata": {},
   "outputs": [],
   "source": [
    "## Your Code Here:\n",
    "..."
   ]
  },
  {
   "cell_type": "markdown",
   "metadata": {},
   "source": [
    "## Producing a Sampling Distribution\n",
    "We just produced one sample. To be able to draw conclusions about what we observe in the sample, we need to create a *sampling distribution*. By repeatedly generating samples from the same underlying population, we can create a distribution of different statistics of the population. Statisticians traditionally use the mean as the statistic of interest (it has useful mathematical properties outside of the scope of this homework). Let's explore how to produce a sampling distribution."
   ]
  },
  {
   "cell_type": "markdown",
   "metadata": {},
   "source": [
    "To begin, we need to repeatedly generate samples. In the example, we need to repeat the process of flipping 30 coins 10,000 times. To achieve this, we can use a <code>for</code> loop. Every time the loop repeats, we need to follow several steps:  \n",
    "1) Reproduce the sample of coin flips like in the section above.  \n",
    "2) Calculate the mean using <code>np.mean</code>.  \n",
    "3) Add the mean to a list outside of the for loop with <code>list.append(mean)</code>."
   ]
  },
  {
   "cell_type": "code",
   "execution_count": null,
   "metadata": {
    "scrolled": true
   },
   "outputs": [],
   "source": [
    "sample_coin_means = []\n",
    "for _ in range(10000): #Process to repeat 10,000 times\n",
    "    sample_coin_flips = np.random.choice(coin_choices, size=30) ##Draw one sample of 30 coin flips\n",
    "    sample_flips_average = np.mean(sample_coin_flips) #Take the average of the coin flips\n",
    "    sample_coin_means.append(sample_flips_average) #Add average to a list\n",
    "sample_coin_means"
   ]
  },
  {
   "cell_type": "markdown",
   "metadata": {},
   "source": [
    "Below, follow the above steps, but with dice rolls rather than coin flips."
   ]
  },
  {
   "cell_type": "code",
   "execution_count": null,
   "metadata": {},
   "outputs": [],
   "source": [
    "##Your Code Here\n",
    "sample_die_means = ...\n",
    "for _ in range(10000): #Process to repeat 10,000 times\n",
    "    sample_die_rolls = ... ##Draw one sample of 30 die rolls\n",
    "    sample_die_average = ... #Take the average of the die rolls\n",
    "    sample_die_means.append(sample_die_average) #Add average to a list\n",
    "sample_die_means"
   ]
  },
  {
   "cell_type": "markdown",
   "metadata": {},
   "source": [
    "Now that we have our distributions, we can plot them using the <code>plt.hist()</code> function from above. Below, a histogram of the coin means:"
   ]
  },
  {
   "cell_type": "code",
   "execution_count": null,
   "metadata": {
    "scrolled": true
   },
   "outputs": [],
   "source": [
    "plt.hist(sample_coin_means)"
   ]
  },
  {
   "cell_type": "markdown",
   "metadata": {},
   "source": [
    "Using the cell above as a guide, plot a histogram of the sample means for the dice."
   ]
  },
  {
   "cell_type": "code",
   "execution_count": null,
   "metadata": {},
   "outputs": [],
   "source": [
    "##Your Code Here\n",
    "..."
   ]
  },
  {
   "cell_type": "markdown",
   "metadata": {},
   "source": [
    "What do you notice about the distribution of the sample means?  "
   ]
  },
  {
   "cell_type": "markdown",
   "metadata": {},
   "source": [
    "*Your answer here*\n"
   ]
  },
  {
   "cell_type": "markdown",
   "metadata": {},
   "source": [
    "## Sampling Distribution Universality\n",
    "Regardless of the underlying frequency distribution, we can generate a sampling distribution that holds the same properties as any other sampling distribution. To begin, let's look at several distributions (you don't need to know how the distribution is generated, just observe the shape of the distribution and the sampling distribution that it produces). The code will produce a distribution using a function you may not be familiar with, but that ist the point: even if we don't understand how our underlying frequency distribution is generated, we can still follow the same principles. "
   ]
  },
  {
   "cell_type": "markdown",
   "metadata": {},
   "source": [
    "The following distribution follows a sine function. Notice what happens when we produce a sampling distribution from this frequency function."
   ]
  },
  {
   "cell_type": "code",
   "execution_count": null,
   "metadata": {
    "scrolled": true
   },
   "outputs": [],
   "source": [
    "x = np.arange(1,10, step=.01)\n",
    "plt.hist(np.sin(x))"
   ]
  },
  {
   "cell_type": "markdown",
   "metadata": {},
   "source": [
    "Now, we can produce a sampling distribution for this frequency function. Notice how the code follows a similar procedure as above."
   ]
  },
  {
   "cell_type": "code",
   "execution_count": null,
   "metadata": {},
   "outputs": [],
   "source": [
    "sample_dist1_means = []\n",
    "\n",
    "for _ in range(10000):  \n",
    "    sample_dist1 = np.sin(np.random.uniform(10, size=30))\n",
    "    sample_dist1_average = np.mean(sample_dist1)\n",
    "    sample_dist1_means.append(sample_dist1_average)\n",
    "plt.hist(sample_dist1_means)"
   ]
  },
  {
   "cell_type": "markdown",
   "metadata": {},
   "source": [
    "Let's look at another example! In this example, we will use a quadratic function to produce our frequency distribution."
   ]
  },
  {
   "cell_type": "code",
   "execution_count": null,
   "metadata": {},
   "outputs": [],
   "source": [
    "x = np.arange(1,10, step=.01)\n",
    "plt.hist(x**2)"
   ]
  },
  {
   "cell_type": "markdown",
   "metadata": {},
   "source": [
    "Let's create a sampling distribution from this frequency distribution:"
   ]
  },
  {
   "cell_type": "code",
   "execution_count": null,
   "metadata": {},
   "outputs": [],
   "source": [
    "sample_dist1_means = []\n",
    "for _ in range(10000):  \n",
    "    sample_dist1 = np.random.uniform(10, size=30)**2\n",
    "    sample_dist1_average = np.mean(sample_dist1)\n",
    "    sample_dist1_means.append(sample_dist1_average)\n",
    "plt.hist(sample_dist1_means)"
   ]
  },
  {
   "cell_type": "markdown",
   "metadata": {},
   "source": [
    "What conclusions can you draw about how you can generate sampling distributions?"
   ]
  },
  {
   "cell_type": "markdown",
   "metadata": {},
   "source": [
    "*YOUR ANSWER HERE*"
   ]
  },
  {
   "cell_type": "markdown",
   "metadata": {},
   "source": [
    "## The Importance of Sample Size\n",
    "What impact does the sample size have on the sampling distribution. Recall that the sample size refers to the size of each of the individual samples, *not* how many samples you have in total. In the cell below, try several different sample sizes to see what effect you can have. "
   ]
  },
  {
   "cell_type": "code",
   "execution_count": null,
   "metadata": {},
   "outputs": [],
   "source": [
    "def sample_interact(sample_size):\n",
    "    sample_means = []\n",
    "    for _ in range(10000):\n",
    "        sample = np.random.choice(die_choices, size=sample_size)\n",
    "        sample_mean = np.mean(sample)\n",
    "        sample_means.append(sample_mean)\n",
    "    plt.hist(sample_means, bins=30)\n",
    "    plt.xlim(3,4)\n",
    "    std_dev = np.std(sample_means)\n",
    "    avg = np.mean(sample_means)\n",
    "    std_devs = np.array([(avg - i*std_dev, avg + i*std_dev) for i in range(1,4)]).flatten()\n",
    "    for index, position in np.ndenumerate(std_devs):\n",
    "        index = index[0]\n",
    "        color = 'y' if index > 3 else 'b' if index > 1 else 'r'\n",
    "        plt.axvline(position, color=color)\n",
    "interact(sample_interact, sample_size=(10,500), continuous_update=False)"
   ]
  },
  {
   "cell_type": "markdown",
   "metadata": {},
   "source": [
    "Now, we can use the above interactive to help us answer some questions:"
   ]
  },
  {
   "cell_type": "markdown",
   "metadata": {},
   "source": [
    "**QUESTION 1:** Decreasing the sample size, while holding the confidence level the same, will\n",
    "do what to the length of your confidence interval?"
   ]
  },
  {
   "cell_type": "code",
   "execution_count": null,
   "metadata": {},
   "outputs": [],
   "source": [
    "question('make it bigger')\n",
    "question('make it smaller')\n",
    "question('it will stay the same')\n",
    "question('cannot be determined from the given information')"
   ]
  },
  {
   "cell_type": "markdown",
   "metadata": {},
   "source": [
    "**QUESTION 2:** Decreasing the confidence level, while holding the sample size the same, will\n",
    "do what to the length of your confidence interval?"
   ]
  },
  {
   "cell_type": "code",
   "execution_count": null,
   "metadata": {},
   "outputs": [],
   "source": [
    "question('make it bigger')\n",
    "question('make it smaller')\n",
    "question('it will stay the same')\n",
    "question('cannot be determined from the given information')"
   ]
  },
  {
   "cell_type": "markdown",
   "metadata": {},
   "source": [
    "**QUESTION 3:** A 95% confidence interval for the mean number of televisions per American household\n",
    "is (Lower limit: 1.15, Upper limit 4.20). For each of the following statements about the\n",
    "above confidence interval, select the option if it is true, and leave it blank if it is false."
   ]
  },
  {
   "cell_type": "code",
   "execution_count": null,
   "metadata": {},
   "outputs": [],
   "source": [
    "question('We are 95% confident that the true mean number of televisions per American household is between 1.15 and 4.20.')\n",
    "question('95% of all American households have between 1.15 and 4.20 televisions.')\n",
    "question('Of 100 intervals calculated the same way (95%), we expect 95 of them to capture the population mean.')\n",
    "question('Of 100 intervals calculated the same way (95%), we expect 100 of them to capture the sample mean.')"
   ]
  },
  {
   "cell_type": "markdown",
   "metadata": {},
   "source": [
    "For the following questions, we will be using the below scenario:  \n",
    "*Researchers are concerned about the impact of students working while they are enrolled in classes, and they’d like to know if students work too much and therefore are spending less time on their classes than they should be. First, the researchers need to find out, on average, how many hours a week students are working. They know from previous studies\n",
    "that the standard deviation of this variable is about 5 hours.*"
   ]
  },
  {
   "cell_type": "markdown",
   "metadata": {},
   "source": [
    "**Question 4:** A survey of 225 students provides a sample mean of 7.10 hours worked. What is a 95% confidence interval based on this sample?"
   ]
  },
  {
   "cell_type": "code",
   "execution_count": null,
   "metadata": {},
   "outputs": [],
   "source": [
    "## YOUR ANSWER HERE\n",
    "lower_bound = 7.10 + 1.96 * (5/np.sqrt(225))\n",
    "upper_bound = ...\n",
    "lower_bound, upper_bound"
   ]
  },
  {
   "cell_type": "markdown",
   "metadata": {},
   "source": [
    "**Question 5:** Suppose that this confidence interval was (6.82, 7.38). Which of these is a\n",
    "valid interpretation of this confidence interval?"
   ]
  },
  {
   "cell_type": "code",
   "execution_count": null,
   "metadata": {},
   "outputs": [],
   "source": [
    "question('There is a 95% probability that a randomly selected student worked between 6.82 and 7.38 hours.')\n",
    "question('We are 95% confident that the average number of hours worked by students in our sample is between 6.82 and 7.38 hours.')\n",
    "question('We are 95% confident that the interval between 6.82 and 7.38 hours contains the average number of hours worked by all UF students.')"
   ]
  },
  {
   "cell_type": "markdown",
   "metadata": {},
   "source": [
    "**Question 6:** We have 95% confidence in our interval, instead of 100% confidence, because we need to account for the fact that:"
   ]
  },
  {
   "cell_type": "code",
   "execution_count": null,
   "metadata": {},
   "outputs": [],
   "source": [
    "question('the sample may not be truly random.')\n",
    "question('we have a sample, and not the whole population.')\n",
    "question('the distribution of hours worked may be skewed')\n",
    "question('all of the above')"
   ]
  },
  {
   "cell_type": "markdown",
   "metadata": {},
   "source": [
    "**Question 7:** The researchers are not satisfied with their confidence interval and want to do another study to find a shorter confidence interval. Which of the following best describes what they should do?"
   ]
  },
  {
   "cell_type": "code",
   "execution_count": null,
   "metadata": {},
   "outputs": [],
   "source": [
    "question('They should increase their confidence level and increase their sample size.')\n",
    "question('They should increase their confidence level or decrease their sample size.')\n",
    "question('They should decrease their confidence level or increase their sample size.')\n",
    "question('They should decrease their confidence level and decrease their sample size.')"
   ]
  },
  {
   "cell_type": "markdown",
   "metadata": {},
   "source": [
    "## Saving Your Notebook\n",
    "Now that you've finished the homework, we need to save it! To do this, click <code>File</code> $\\rightarrow$ <code>Download as</code> $\\rightarrow$ <code>PDF via Chrome</code>"
   ]
  },
  {
   "cell_type": "code",
   "execution_count": null,
   "metadata": {},
   "outputs": [],
   "source": []
  }
 ],
 "metadata": {
  "kernelspec": {
   "display_name": "Python 3",
   "language": "python",
   "name": "python3"
  },
  "language_info": {
   "codemirror_mode": {
    "name": "ipython",
    "version": 3
   },
   "file_extension": ".py",
   "mimetype": "text/x-python",
   "name": "python",
   "nbconvert_exporter": "python",
   "pygments_lexer": "ipython3",
   "version": "3.7.4"
  }
 },
 "nbformat": 4,
 "nbformat_minor": 2
}
