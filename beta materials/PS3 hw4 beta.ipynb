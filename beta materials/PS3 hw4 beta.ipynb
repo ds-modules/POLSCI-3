{
 "cells": [
  {
   "cell_type": "code",
<<<<<<< HEAD
   "execution_count": 16,
=======
   "execution_count": 2,
>>>>>>> 3ad3cd227d4ccdeb946003409f101d3d7e1e747d
   "metadata": {},
   "outputs": [],
   "source": [
    "from datascience import *\n",
    "import matplotlib.pyplot as plt\n",
    "import seaborn as sns\n",
    "%matplotlib inline\n",
    "import numpy as np\n",
    "from ipywidgets import *\n",
    "def show_dist(dist_func):\n",
    "    def normal_dist(center, sample_size):\n",
    "        x = dist_func(center, size=sample_size)\n",
    "        sns.distplot(x, hist=False)\n",
    "        avg = np.mean(x)\n",
    "        std_dev = np.std(x)\n",
    "        plt.axvline(x = avg + 2*std_dev)\n",
    "        plt.axvline(x = avg - 2*std_dev)\n",
    "        plt.show();\n",
    "    interact(normal_dist,center=(0,1000), sample_size=(1,1000))\n",
    "normal_distribution = np.random.normal\n",
    "any_distribution = np.random.randint"
   ]
  },
  {
   "cell_type": "markdown",
   "metadata": {},
   "source": [
    "# Section 1: True or False"
   ]
  },
  {
   "cell_type": "markdown",
   "metadata": {},
   "source": [
    "In the following, respond with True or False and one sentence justification."
   ]
  },
  {
   "cell_type": "markdown",
   "metadata": {},
   "source": [
    "## 1.1\n",
    "Only a very small (<5) percentage of measurements can be more than 2 standard \n",
    "deviations from the mean of the normal distribution. "
   ]
  },
  {
   "cell_type": "code",
<<<<<<< HEAD
   "execution_count": 21,
=======
   "execution_count": 3,
>>>>>>> 3ad3cd227d4ccdeb946003409f101d3d7e1e747d
   "metadata": {},
   "outputs": [
    {
     "data": {
      "application/vnd.jupyter.widget-view+json": {
<<<<<<< HEAD
       "model_id": "ee9cb89d012a4c68af95404ee6fb3bf9",
=======
       "model_id": "2ad97fd240dd405b98d4d077d099c62f",
>>>>>>> 3ad3cd227d4ccdeb946003409f101d3d7e1e747d
       "version_major": 2,
       "version_minor": 0
      },
      "text/plain": [
       "interactive(children=(IntSlider(value=500, description='center', max=1000), IntSlider(value=500, description='…"
      ]
     },
     "metadata": {},
     "output_type": "display_data"
    }
   ],
   "source": [
    "show_dist(normal_distribution)"
   ]
  },
  {
   "cell_type": "markdown",
   "metadata": {},
   "source": []
  },
  {
   "cell_type": "markdown",
   "metadata": {},
   "source": [
    "## 1.2\n",
    "Only a very small (<5) percentage of measurements can be more than 2 standard \n",
    "deviations from the mean of *any* distribution. "
   ]
  },
  {
   "cell_type": "code",
   "execution_count": 7,
   "metadata": {},
   "outputs": [
    {
     "data": {
      "application/vnd.jupyter.widget-view+json": {
       "model_id": "9842ce68f09343679694edcc38490304",
       "version_major": 2,
       "version_minor": 0
      },
      "text/plain": [
       "interactive(children=(IntSlider(value=500, description='center', max=1000), IntSlider(value=500, description='…"
      ]
     },
     "metadata": {},
     "output_type": "display_data"
    }
   ],
   "source": [
    "show_dist(any_distribution)"
   ]
  },
  {
   "cell_type": "markdown",
   "metadata": {},
   "source": []
  },
  {
   "cell_type": "markdown",
   "metadata": {},
   "source": [
    "## 1.3\n",
    "If we would reject a null hypothesis at the 5% level, we would also reject it at the 1% \n",
    "level.  "
   ]
  },
  {
   "cell_type": "markdown",
   "metadata": {},
   "source": [
    "TODO: t dist with confidence levels interactivity"
   ]
  },
  {
   "cell_type": "markdown",
   "metadata": {},
   "source": [
    "## 1.4\n",
    "If we would reject a null hypothesis at the 1% level, we would also reject it at the 5% \n",
    "level. "
   ]
  },
  {
   "cell_type": "markdown",
   "metadata": {},
   "source": []
  },
  {
   "cell_type": "markdown",
   "metadata": {},
   "source": [
    "## 1.5\n",
    "The p-value, which is the Type I error rate, is chosen by the investigator before a \n",
    "hypothesis test is conducted. "
   ]
  },
  {
   "cell_type": "markdown",
   "metadata": {},
   "source": []
  },
  {
   "cell_type": "markdown",
   "metadata": {},
   "source": [
    "# Section 2: Statistical Signifance"
   ]
  },
  {
   "cell_type": "markdown",
   "metadata": {},
   "source": [
    "A recent poll asked people whether they supported passing a constitutional \n",
    "amendment to ban burning of the national flag using a 1 to 100 scale.”1” means that \n",
    "they do not support passing the amendment at all and “100” means they support it \n",
    "completely. The sample was random (from the population of US adults) and included \n",
    "986 people, 400 of whom were women, and 586 were men. The mean score for women \n",
    "was 80.6, while the mean score for men was 77.6. "
   ]
  },
  {
   "cell_type": "markdown",
   "metadata": {},
   "source": [
    "## 2.1\n",
    "Is the difference in means test statistically significant at the 5% level? \n",
    "Assume the standard deviation for both men and women is 3.5. "
   ]
  },
  {
   "cell_type": "markdown",
   "metadata": {},
   "source": []
  },
  {
   "cell_type": "markdown",
   "metadata": {},
   "source": [
    "## 2.2\n",
    "If the standard deviation for men is 1.4 and the standard deviation for \n",
    "women is 1.2, is the difference in means statistically significant at the 5% level? "
   ]
  },
  {
   "cell_type": "markdown",
   "metadata": {},
   "source": []
  },
  {
   "cell_type": "markdown",
   "metadata": {},
   "source": [
    "# Section 3: Analyzing Tables"
   ]
  },
  {
   "cell_type": "markdown",
   "metadata": {},
   "source": [
    "The following table is based on a random sample conducted of high school seniors and \n",
    "their parents by Jennings and Niemi, in which they explore the party identification of \n",
    "parents and their children.  "
   ]
  },
  {
   "cell_type": "code",
   "execution_count": 13,
   "metadata": {},
   "outputs": [
    {
     "data": {
      "text/html": [
       "<table border=\"1\" class=\"dataframe\">\n",
       "    <thead>\n",
       "        <tr>\n",
       "            <th>Parent Party ID</th> <th>Democrat</th> <th>Independent</th> <th>Republican</th>\n",
       "        </tr>\n",
       "    </thead>\n",
       "    <tbody>\n",
       "        <tr>\n",
       "            <td>Democrat       </td> <td>604     </td> <td>245        </td> <td>67        </td>\n",
       "        </tr>\n",
       "        <tr>\n",
       "            <td>Independent    </td> <td>130     </td> <td>235        </td> <td>76        </td>\n",
       "        </tr>\n",
       "        <tr>\n",
       "            <td>Republican     </td> <td>63      </td> <td>180        </td> <td>252       </td>\n",
       "        </tr>\n",
       "    </tbody>\n",
       "</table>"
      ],
      "text/plain": [
       "Parent Party ID | Democrat | Independent | Republican\n",
       "Democrat        | 604      | 245         | 67\n",
       "Independent     | 130      | 235         | 76\n",
       "Republican      | 63       | 180         | 252"
      ]
     },
     "execution_count": 13,
     "metadata": {},
     "output_type": "execute_result"
    }
   ],
   "source": [
    "Table().with_columns([\"Parent Party ID\", [\"Democrat\", \"Independent\", \"Republican\"], \n",
    "                            \"Democrat\", [604, 130, 63], \n",
    "                            \"Independent\", [245, 235, 180],\n",
    "                            \"Republican\", [67, 76, 252]])"
   ]
  },
  {
   "cell_type": "markdown",
   "metadata": {},
   "source": [
    "## 3.1 \n",
    "What is the percentage of students who share the same party identification \n",
    "as their parents? Show your work below."
   ]
  },
  {
   "cell_type": "code",
   "execution_count": null,
   "metadata": {},
   "outputs": [],
   "source": []
  },
  {
   "cell_type": "markdown",
   "metadata": {},
   "source": [
    "## 3.2\n",
    "What is the relationship between students’ party identification and the \n",
    "party identification of their parents? "
   ]
  },
  {
   "cell_type": "markdown",
   "metadata": {},
   "source": []
  },
  {
   "cell_type": "markdown",
   "metadata": {},
   "source": [
    "## 3.3 \n",
    "Based on these data, can we say if the relationship is causal? Explain your \n",
    "answer. "
   ]
  },
  {
   "cell_type": "markdown",
   "metadata": {},
   "source": []
  },
  {
   "cell_type": "markdown",
   "metadata": {},
   "source": [
    "## 3.4\n",
    "Suppose you were exploring the hypothesis that there is a relationship \n",
    "between parents’ and children’s party identification. Would we be correct in \n",
    "inferring that such a relationship also exists in the population? Explain your answer. \n",
    "What is the probability that any relationship we found is due to pure chance? "
   ]
  },
  {
   "cell_type": "markdown",
   "metadata": {},
   "source": []
  },
  {
   "cell_type": "markdown",
   "metadata": {},
   "source": [
    "# Section 4: Analyzing Summary Tables"
   ]
  },
  {
   "cell_type": "markdown",
   "metadata": {},
   "source": [
    "Tens of thousands of people die each year on America’s highways. How can the \n",
    "number of fatalities be reduced?  In this question we explore trends in traffic fatalities \n",
    "across the 50 states and potential solutions to the problem. Consider the table below, \n",
    "indicating summary statistics of the number of traffic deaths per million miles driven \n",
    "across all 50 states, in 1985 and 1992. (Assume that these observations represent random \n",
    "samples of all years.) \n",
    "    "
   ]
  },
  {
   "cell_type": "code",
   "execution_count": 14,
   "metadata": {},
   "outputs": [
    {
     "data": {
      "text/html": [
       "<table border=\"1\" class=\"dataframe\">\n",
       "    <thead>\n",
       "        <tr>\n",
       "            <th>Variable</th> <th>Obs</th> <th>Mean</th> <th>Std. Dev</th> <th>Min</th> <th>Max</th>\n",
       "        </tr>\n",
       "    </thead>\n",
       "    <tbody>\n",
       "        <tr>\n",
       "            <td>traffic_1985</td> <td>50  </td> <td>2.694</td> <td>0.60791 </td> <td>1.9 </td> <td>4.4 </td>\n",
       "        </tr>\n",
       "        <tr>\n",
       "            <td>traffic_1992</td> <td>50  </td> <td>1.844</td> <td>0.449108</td> <td>1   </td> <td>2.7 </td>\n",
       "        </tr>\n",
       "    </tbody>\n",
       "</table>"
      ],
      "text/plain": [
       "Variable     | Obs  | Mean  | Std. Dev | Min  | Max\n",
       "traffic_1985 | 50   | 2.694 | 0.60791  | 1.9  | 4.4\n",
       "traffic_1992 | 50   | 1.844 | 0.449108 | 1    | 2.7"
      ]
     },
     "execution_count": 14,
     "metadata": {},
     "output_type": "execute_result"
    }
   ],
   "source": [
    "Table().with_columns(\n",
    "    \"Variable\",[\"traffic_1985\", \"traffic_1992\"],\n",
    "    \"Obs\", [50, 50],\n",
    "    \"Mean\", [2.694, 1.844],\n",
    "    \"Std. Dev\", [.6079104, .449108],\n",
    "    \"Min\", [1.9, 1],\n",
    "    \"Max\", [4.4, 2.7]\n",
    ")"
   ]
  },
  {
   "cell_type": "markdown",
   "metadata": {},
   "source": [
    "## 4.1 \n",
    "What is the average change across states between 1985 and 1992 in \n",
    "traffic deaths per million miles driven?"
   ]
  },
  {
   "cell_type": "code",
   "execution_count": null,
   "metadata": {},
   "outputs": [],
   "source": []
  },
  {
   "cell_type": "markdown",
   "metadata": {},
   "source": [
    "## 4.2 \n",
    "How likely would we get the average change found in part a) if the \n",
    "true difference in the population were actually zero? Show your work. "
   ]
  },
  {
   "cell_type": "code",
   "execution_count": null,
   "metadata": {},
   "outputs": [],
   "source": []
  },
  {
   "cell_type": "markdown",
   "metadata": {},
   "source": [
    "## 4.3 \n",
    "Can we reasonably claim that there is a difference in traffic fatalities \n",
    "between 1985 and 1992? (Again, the samples can be treated as random.) Explain"
   ]
  },
  {
   "cell_type": "markdown",
   "metadata": {},
   "source": []
  },
  {
   "cell_type": "markdown",
   "metadata": {},
   "source": [
    "# Section 5: Analyzing Correlations"
   ]
  },
  {
   "cell_type": "markdown",
   "metadata": {},
   "source": [
    "Continuing with your study of traffic fatalities, you have been charged with figuring \n",
    "out what policy would best curb the death rate. You discover that states have tried a \n",
    "number of solutions, including raising the drinking law to 21, mandating the use of seat \n",
    "belts and helmets, and setting a maximum speed limit of 65 miles per hour. However, \n",
    "you also wonder whether states that pass one of these measures are also more likely to \n",
    "pass another, and have constructed the following table indicating how many states have \n",
    "passed mandatory seat belt laws and/or have imposed a 65 mile per hour speed cap. \n",
    "(Note that the variable 65MPHAllowed takes on the value “yes” if a state does NOT have a \n",
    "speed limit law and the value “no” if the state DOES have a speed limit law. This variable takes \n",
    "on no other values than 0 or 1.)   "
   ]
  },
  {
   "cell_type": "code",
   "execution_count": 15,
   "metadata": {},
   "outputs": [
    {
     "data": {
      "text/html": [
       "<table border=\"1\" class=\"dataframe\">\n",
       "    <thead>\n",
       "        <tr>\n",
       "            <th>65 MPH Allowed</th> <th>No Mandatory Seatbelt Law</th> <th>Mandatory Seatbelt Law</th> <th>Total</th>\n",
       "        </tr>\n",
       "    </thead>\n",
       "    <tbody>\n",
       "        <tr>\n",
       "            <td>No            </td> <td>0                        </td> <td>8                     </td> <td>8    </td>\n",
       "        </tr>\n",
       "        <tr>\n",
       "            <td>Yes           </td> <td>8                        </td> <td>34                    </td> <td>42   </td>\n",
       "        </tr>\n",
       "        <tr>\n",
       "            <td>Total         </td> <td>8                        </td> <td>42                    </td> <td>50   </td>\n",
       "        </tr>\n",
       "    </tbody>\n",
       "</table>"
      ],
      "text/plain": [
       "65 MPH Allowed | No Mandatory Seatbelt Law | Mandatory Seatbelt Law | Total\n",
       "No             | 0                         | 8                      | 8\n",
       "Yes            | 8                         | 34                     | 42\n",
       "Total          | 8                         | 42                     | 50"
      ]
     },
     "execution_count": 15,
     "metadata": {},
     "output_type": "execute_result"
    }
   ],
   "source": [
    "Table().with_columns(\n",
    "    \"65 MPH Allowed\", [\"No\", \"Yes\", \"Total\"],\n",
    "    \"No Mandatory Seatbelt Law\", [0, 8, 8],\n",
    "    \"Mandatory Seatbelt Law\", [8, 34, 42],\n",
    "    \"Total\", [8, 42, 50]\n",
    ")"
   ]
  },
  {
   "cell_type": "markdown",
   "metadata": {},
   "source": [
    "## 5.1 \n",
    "What percentage of states has passed both seat belt laws and speed limit \n",
    "laws? "
   ]
  },
  {
   "cell_type": "code",
   "execution_count": null,
   "metadata": {},
   "outputs": [],
   "source": []
  },
  {
   "cell_type": "markdown",
   "metadata": {},
   "source": [
    "## 5.2 \n",
    "Of the states that have imposed a 65 MPH speed limit, what percentage \n",
    "does not mandate seat belts?"
   ]
  },
  {
   "cell_type": "code",
   "execution_count": null,
   "metadata": {},
   "outputs": [],
   "source": []
  },
  {
   "cell_type": "markdown",
   "metadata": {},
   "source": [
    "## 5.2 \n",
    "Test the claim that states which pass mandatory seat belt laws tend also to \n",
    "impose 65 MPH speed limits. Is there a relationship? Why or why not? "
   ]
  },
  {
   "cell_type": "code",
   "execution_count": null,
   "metadata": {},
   "outputs": [],
   "source": []
  },
  {
   "cell_type": "markdown",
   "metadata": {},
   "source": [
    "# Section 6: Performing Correlation Tests"
   ]
  },
  {
   "cell_type": "markdown",
   "metadata": {},
   "source": [
    "You are curious as to whether the law actually does reduce highway deaths. \n",
    "Using information in the table below, perform an appropriate test to determine whether \n",
    "speed limits are associated with lower traffic deaths (at a .01 significance level). Explain \n",
    "your reasoning."
   ]
  },
  {
   "cell_type": "code",
   "execution_count": 17,
   "metadata": {},
   "outputs": [
    {
     "data": {
      "text/html": [
       "<table border=\"1\" class=\"dataframe\">\n",
       "    <thead>\n",
       "        <tr>\n",
       "            <th>Variable</th> <th>Obs</th> <th>Mean</th> <th>Std. Dev</th> <th>Min</th> <th>Max</th>\n",
       "        </tr>\n",
       "    </thead>\n",
       "    <tbody>\n",
       "        <tr>\n",
       "            <td>traffic_1992_with_law   </td> <td>8   </td> <td>1.5    </td> <td>0.333809</td> <td>1.1 </td> <td>2.1 </td>\n",
       "        </tr>\n",
       "        <tr>\n",
       "            <td>traffic_1992_without_law</td> <td>42  </td> <td>1.90952</td> <td>0.441068</td> <td>1   </td> <td>2.7 </td>\n",
       "        </tr>\n",
       "    </tbody>\n",
       "</table>"
      ],
      "text/plain": [
       "Variable                 | Obs  | Mean    | Std. Dev | Min  | Max\n",
       "traffic_1992_with_law    | 8    | 1.5     | 0.333809 | 1.1  | 2.1\n",
       "traffic_1992_without_law | 42   | 1.90952 | 0.441068 | 1    | 2.7"
      ]
     },
     "execution_count": 17,
     "metadata": {},
     "output_type": "execute_result"
    }
   ],
   "source": [
    "Table().with_columns(\n",
    "    \"Variable\",[\"traffic_1992_with_law\", \"traffic_1992_without_law\"],\n",
    "    \"Obs\", [8, 42],\n",
    "    \"Mean\", [1.5, 1.909524],\n",
    "    \"Std. Dev\", [.3338092, .4410683],\n",
    "    \"Min\", [1.1, 1],\n",
    "    \"Max\", [2.1, 2.7]\n",
    ")"
   ]
  },
  {
   "cell_type": "code",
   "execution_count": null,
   "metadata": {},
   "outputs": [],
   "source": []
  }
 ],
 "metadata": {
  "kernelspec": {
   "display_name": "Python 3",
   "language": "python",
   "name": "python3"
  },
  "language_info": {
   "codemirror_mode": {
    "name": "ipython",
    "version": 3
   },
   "file_extension": ".py",
   "mimetype": "text/x-python",
   "name": "python",
   "nbconvert_exporter": "python",
   "pygments_lexer": "ipython3",
   "version": "3.7.3"
  }
 },
 "nbformat": 4,
 "nbformat_minor": 2
}
