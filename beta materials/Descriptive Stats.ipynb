{
 "cells": [
  {
   "cell_type": "code",
   "execution_count": 17,
   "metadata": {},
   "outputs": [],
   "source": [
    "## William's coding cell: export this away to another file\n",
    "import matplotlib.pyplot as plt\n",
    "import numpy as np\n",
    "import datascience\n",
    "def show_dist(dist_func):\n",
    "    def normal_dist(center, sample_size):\n",
    "        x = dist_func(center, size=sample_size)\n",
    "        sns.distplot(x, hist=False)\n",
    "        avg = np.mean(x)\n",
    "        std_dev = np.std(x)\n",
    "        plt.axvline(x = avg + 2*std_dev)\n",
    "        plt.axvline(x = avg - 2*std_dev)\n",
    "        plt.show();\n",
    "    interact(normal_dist,center=(0,1000), sample_size=(1,1000))\n",
    "def midterms():\n",
    "    plt.hist(np.random.normal(85, size=100))\n",
    "    plt.title(\"Midterm Grades\")\n",
    "    plt.xlabel('Grade Percentage')\n",
    "    plt.show()"
   ]
  },
  {
   "cell_type": "markdown",
   "metadata": {},
   "source": [
    "# Descriptive Statistics"
   ]
  },
  {
   "cell_type": "markdown",
   "metadata": {},
   "source": [
    "## What does the data look like?"
   ]
  },
  {
   "cell_type": "markdown",
   "metadata": {},
   "source": [
    "Data can take on many shapes! Let's look at some different groups:"
   ]
  },
  {
   "cell_type": "code",
   "execution_count": 18,
   "metadata": {},
   "outputs": [
    {
     "data": {
      "image/png": "[encoded data removed]",
      "text/plain": [
       "<Figure size 432x288 with 1 Axes>"
      ]
     },
     "metadata": {
      "needs_background": "light"
     },
     "output_type": "display_data"
    }
   ],
   "source": [
    "midterms()"
   ]
  },
  {
   "cell_type": "code",
   "execution_count": null,
   "metadata": {},
   "outputs": [],
   "source": []
  }
 ],
 "metadata": {
  "kernelspec": {
   "display_name": "Python 3",
   "language": "python",
   "name": "python3"
  },
  "language_info": {
   "codemirror_mode": {
    "name": "ipython",
    "version": 3
   },
   "file_extension": ".py",
   "mimetype": "text/x-python",
   "name": "python",
   "nbconvert_exporter": "python",
   "pygments_lexer": "ipython3",
   "version": "3.7.3"
  }
 },
 "nbformat": 4,
 "nbformat_minor": 2
}
