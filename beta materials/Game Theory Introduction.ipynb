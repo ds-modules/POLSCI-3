{
 "cells": [
  {
   "cell_type": "markdown",
   "metadata": {},
   "source": [
    "# Game Theory Introduction "
   ]
  },
  {
   "cell_type": "markdown",
   "metadata": {},
   "source": [
    "Welcome to Game Theory! This notebook's aim is to introduce you to the principals of game theory. Understanding the basics of game theory can be helpful in thinking about everything from international treaties to electorial results. By considering interactions between entities formally, we can create reasonable predictions about their behavior.\n",
    "\n",
    "In this notebook, you'll see several quintessential games. Through the course of the notebook, you'll become familar with the terminology of formal games and start predicting their outcomes"
   ]
  },
  {
   "cell_type": "markdown",
   "metadata": {},
   "source": [
    "## The Prisoner's Dilemma"
   ]
  },
  {
   "cell_type": "markdown",
   "metadata": {},
   "source": [
    "Imagine the following: you just robbed a bank with a partner. Both of you have been brought into the local police department for questioning. Without giving either of you time to talk, the detective on the case takes each of you into an interrogation room. She makes you an offer: you can tell her what you know (**defect**) or stay silent (**cooperate**). If you snitch, then your prison sentence will be drastically reduced. Here's the problem: the detective warns you she's offered the same to your partner, and if you both defect, your prison sentence will be higher than if you both stay silent. If just one of you defect, the defecter's sentence is eliminated. In the following table, players' *payoff* is the number of years they will serve based on their actions"
   ]
  },
  {
   "cell_type": "code",
   "execution_count": 49,
   "metadata": {},
   "outputs": [
    {
     "data": {
      "application/vnd.jupyter.widget-view+json": {
       "model_id": "64cb2a8c443545afb778169fd23f24ab",
       "version_major": 2,
       "version_minor": 0
      },
      "text/plain": [
       "interactive(children=(IntSlider(value=2, description='cc', max=6, min=-2), IntSlider(value=3, description='dc'…"
      ]
     },
     "metadata": {},
     "output_type": "display_data"
    },
    {
     "data": {
      "text/plain": [
       "<function __main__.prisoners_dilemma(cc, dc)>"
      ]
     },
     "execution_count": 49,
     "metadata": {},
     "output_type": "execute_result"
    }
   ],
   "source": [
    "from datascience import *\n",
    "import matplotlib.pyplot as plt\n",
    "import seaborn as sns\n",
    "%matplotlib inline\n",
    "import numpy as np\n",
    "import pandas as pd\n",
    "from ipywidgets import *\n",
    "def prisoners_dilemma(cc, dc):\n",
    "    prdl_df = pd.DataFrame({\n",
    "        \"\" : ['Player 1', \"\"],\n",
    "        \"Player 2\" : ['Cooperate', 'Defect'],\n",
    "        \"Cooperate\" : [f'{cc}, {cc}', f'{dc},0'],\n",
    "        \"Defect\" : [f'0,{dc}', '1,1'],\n",
    "    })\n",
    "    nash_find = lambda df: [\n",
    "    prdl_df.style.hide_index()\n",
    "    return prdl_df.style.apply(nash_find, axis=None)\n",
    "    return prdl_df\n",
    "#     return Table().with_columns([\n",
    "#         \"\",['Player 1', \"\"],\n",
    "#         \"Player 2\", ['Cooperate', 'Defect'],\n",
    "#         \"Cooperate\", ['-2,-2', '-3,0'],\n",
    "#         \"Defect\", ['0,-3', '-1,-1'],\n",
    "#     ])\n",
    "interact(prisoners_dilemma, cc= 2, dc=3)"
   ]
  },
  {
   "cell_type": "code",
   "execution_count": null,
   "metadata": {},
   "outputs": [],
   "source": []
  }
 ],
 "metadata": {
  "kernelspec": {
   "display_name": "Python 3",
   "language": "python",
   "name": "python3"
  },
  "language_info": {
   "codemirror_mode": {
    "name": "ipython",
    "version": 3
   },
   "file_extension": ".py",
   "mimetype": "text/x-python",
   "name": "python",
   "nbconvert_exporter": "python",
   "pygments_lexer": "ipython3",
   "version": "3.6.8"
  }
 },
 "nbformat": 4,
 "nbformat_minor": 2
}
