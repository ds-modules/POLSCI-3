{
 "cells": [
  {
   "cell_type": "markdown",
   "metadata": {},
   "source": [
    "# Political Science 3 Lecture I: Hypothesis Testing\n",
    "Professor: Jason Wittenberg  \n",
    "Author: William McEachen"
   ]
  },
  {
   "cell_type": "code",
   "execution_count": 2,
   "metadata": {},
   "outputs": [],
   "source": [
    "import numpy as np\n",
    "from scipy import stats\n",
    "from datascience import Table\n",
    "import pandas as pd\n",
    "from ipywidgets import *\n",
    "import seaborn as sns\n",
    "import matplotlib.pyplot as plt\n",
    "%matplotlib inline"
   ]
  },
  {
   "cell_type": "markdown",
   "metadata": {},
   "source": [
    "### Tabular Analysis  \n",
    "In the following example, we will explore how to determine if there is a relationship between two categorical variables. Given a table of how many people voted for the 2012 presidential candidate, can we establish a connection between gender and political affiliation?"
   ]
  },
  {
   "cell_type": "markdown",
   "metadata": {},
   "source": [
    "Suppose we know that 49.2% of the sample voted for Obama and 50.8% voted for Romney, regardless of gender. The table represents the values we should expect given the total number of people. "
   ]
  },
  {
   "cell_type": "code",
   "execution_count": 3,
   "metadata": {},
   "outputs": [
    {
     "data": {
      "text/html": [
       "<table border=\"1\" class=\"dataframe\">\n",
       "    <thead>\n",
       "        <tr>\n",
       "            <th>Politican</th> <th>Male</th> <th>Female</th> <th>Row Total</th>\n",
       "        </tr>\n",
       "    </thead>\n",
       "    <tbody>\n",
       "        <tr>\n",
       "            <td>Obama       </td> <td>0.492*374=184</td> <td>0.492*437=215</td> <td>399      </td>\n",
       "        </tr>\n",
       "        <tr>\n",
       "            <td>Romney      </td> <td>0.507*374=190</td> <td>0.508*437=222</td> <td>412      </td>\n",
       "        </tr>\n",
       "        <tr>\n",
       "            <td>Column Total</td> <td>374          </td> <td>437          </td> <td>811      </td>\n",
       "        </tr>\n",
       "    </tbody>\n",
       "</table>"
      ],
      "text/plain": [
       "Politican    | Male          | Female        | Row Total\n",
       "Obama        | 0.492*374=184 | 0.492*437=215 | 399\n",
       "Romney       | 0.507*374=190 | 0.508*437=222 | 412\n",
       "Column Total | 374           | 437           | 811"
      ]
     },
     "execution_count": 3,
     "metadata": {},
     "output_type": "execute_result"
    }
   ],
   "source": [
    "expected_table = Table().with_columns(\n",
    "                'Politican',['Obama', 'Romney', 'Column Total'],\n",
    "                'Male', ['0.492*374=184', '0.507*374=190', 374],\n",
    "                'Female', ['0.492*437=215', '0.508*437=222', 437],\n",
    "                'Row Total', [399, 412, 811]\n",
    "                )\n",
    "expected_table"
   ]
  },
  {
   "cell_type": "markdown",
   "metadata": {},
   "source": [
    "If there is no relationship between gender and voting decisions, the number of voters in each cell should be proportional to the overall frequency of that politician and the overall number of people of that gender. Because we know the total number of men and women that voted, we set the expected value for each gender/politician cell to that politician's frequency (49.2% or 50.8%) multiplied by the total number of the gender (374 or 437).\n",
    "\n",
    "Now that we have the expected values, let's check the real results:"
   ]
  },
  {
   "cell_type": "code",
   "execution_count": 4,
   "metadata": {},
   "outputs": [
    {
     "data": {
      "text/html": [
       "<table border=\"1\" class=\"dataframe\">\n",
       "    <thead>\n",
       "        <tr>\n",
       "            <th>Politican</th> <th>Male</th> <th>Female</th> <th>Row Total</th>\n",
       "        </tr>\n",
       "    </thead>\n",
       "    <tbody>\n",
       "        <tr>\n",
       "            <td>Obama       </td> <td>170 </td> <td>229   </td> <td>49%      </td>\n",
       "        </tr>\n",
       "        <tr>\n",
       "            <td>Romney      </td> <td>204 </td> <td>208   </td> <td>51%      </td>\n",
       "        </tr>\n",
       "        <tr>\n",
       "            <td>Column Total</td> <td>374 </td> <td>437   </td> <td>100%     </td>\n",
       "        </tr>\n",
       "    </tbody>\n",
       "</table>"
      ],
      "text/plain": [
       "Politican    | Male | Female | Row Total\n",
       "Obama        | 170  | 229    | 49%\n",
       "Romney       | 204  | 208    | 51%\n",
       "Column Total | 374  | 437    | 100%"
      ]
     },
     "execution_count": 4,
     "metadata": {},
     "output_type": "execute_result"
    }
   ],
   "source": [
    "respond_table = Table().with_columns(\n",
    "                'Politican',['Obama', 'Romney', 'Column Total'],\n",
    "                'Male', [170, 204, 374],\n",
    "                'Female', [229, 208, 437],\n",
    "                'Row Total', ['49%', '51%', '100%']\n",
    "                )\n",
    "respond_table"
   ]
  },
  {
   "cell_type": "markdown",
   "metadata": {},
   "source": [
    "How does this compare to the expected results?"
   ]
  },
  {
   "cell_type": "code",
   "execution_count": 5,
   "metadata": {},
   "outputs": [
    {
     "data": {
      "text/html": [
       "<table border=\"1\" class=\"dataframe\">\n",
       "    <thead>\n",
       "        <tr>\n",
       "            <th>Politican</th> <th>Male</th> <th>Female</th>\n",
       "        </tr>\n",
       "    </thead>\n",
       "    <tbody>\n",
       "        <tr>\n",
       "            <td>Obama    </td> <td>Expected: 184 Actual: 170</td> <td>Expected: 215 Actual: 229</td>\n",
       "        </tr>\n",
       "        <tr>\n",
       "            <td>Romney   </td> <td>Expected: 190 Actual: 204</td> <td>Expected: 222 Actual: 208</td>\n",
       "        </tr>\n",
       "    </tbody>\n",
       "</table>"
      ],
      "text/plain": [
       "Politican | Male                      | Female\n",
       "Obama     | Expected: 184 Actual: 170 | Expected: 215 Actual: 229\n",
       "Romney    | Expected: 190 Actual: 204 | Expected: 222 Actual: 208"
      ]
     },
     "execution_count": 5,
     "metadata": {},
     "output_type": "execute_result"
    }
   ],
   "source": [
    "compare_table = Table().with_columns(\n",
    "                'Politican',['Obama', 'Romney'],\n",
    "                'Male', ['Expected: 184 Actual: 170', 'Expected: 190 Actual: 204'],\n",
    "                'Female', ['Expected: 215 Actual: 229', 'Expected: 222 Actual: 208']\n",
    "                )\n",
    "compare_table"
   ]
  },
  {
   "cell_type": "markdown",
   "metadata": {},
   "source": [
    "*Review*: What differences do you see between the expected and reported values?  \n",
    "\n",
    "\n",
    "Given the expected and actual results, we can compute the *chi square* statistic for this table. The chi square statistic is the measure used for the significance of categorical varibales (in this case voting record and gender). It is calculated by taking the the sum difference between the observed values and the expected values squared, divided by the expected value.\n",
    "$$ \\chi^2 = \\sum \\frac{(O-E)^2}{E}$$.\n",
    "\n",
    "For the election and gender case, this reduces to the following:\n",
    "$$\\frac{(170-184)^2}{184}+\\frac{(229-215)^2}{215}+\\frac{(204-190)^2}{190}+\\frac{(208-222)^2}{222}=3.892$$\n",
    "\n",
    "Using a textbook appendix (or online tables), we can determine that the difference achieves a p-value under .05, making the relationship between gender and voting behavior statistically significant for this sample."
   ]
  },
  {
   "cell_type": "markdown",
   "metadata": {},
   "source": [
    "#### Using Python\n",
    "To automatically run a chi-squared test in python, create lists of the expected values and of the observed values, and run the following:  \n",
    "<code> stats.chisquare(observed_array, f_exp=epected_array)  </code>\n",
    "\n",
    "This will return the $\\chi^2$ statistic and the associated p-value. Below, we perform the calculation for the gender/vote relationship.\n",
    "\n",
    "NOTE: This command returns a Power_divergenceResult. This holds the statistic and p-value for the data."
   ]
  },
  {
   "cell_type": "code",
   "execution_count": 6,
   "metadata": {},
   "outputs": [
    {
     "data": {
      "text/plain": [
       "Power_divergenceResult(statistic=3.891307128532396, pvalue=0.04853663397499092)"
      ]
     },
     "execution_count": 6,
     "metadata": {},
     "output_type": "execute_result"
    }
   ],
   "source": [
    "#NOTE: The expected_table above uses strings, but we need numbers for the computation to be successful. \n",
    "#The new expected_table is the original expected_table's numeric values.\n",
    "\n",
    "expected_table = Table().with_columns(\n",
    "                'Politican',['Obama', 'Romney', 'Column Total'],\n",
    "                'Male', [184, 190, 374],\n",
    "                'Female', [215, 222, 437],\n",
    "                'Row Total', [399, 412, 811]\n",
    "                )\n",
    "expected = np.append(expected_table.column('Male')[:2], expected_table.column('Female')[:2])\n",
    "reported = np.append(respond_table.column('Male')[:2], respond_table.column('Female')[:2])\n",
    "stats.chisquare(reported, f_exp=expected, ddof=2)"
   ]
  },
  {
   "cell_type": "markdown",
   "metadata": {},
   "source": [
    "As we can see, we achieve a p-value of .0485, just below the .05 threshold. Therefore, the relationship is statistically significant."
   ]
  },
  {
   "cell_type": "markdown",
   "metadata": {},
   "source": [
    "## Difference of Means: Comparing Samples\n",
    "\n",
    "When we have a continuous variable categorized by a categorical variable, we can use a *difference of means* test to determine if there is a relationship between the categorical variable and the continuous variable. For example, we would use a difference of means test to determine if there was a relationship between ice cream flavor (a categorical variable) and sales revenue (a continuous variable). In the example below, we will determine if there is a relationship between party control majority and their governing time. In parliamentary systems, the party in control often is not the majority, just a plurality. When this happens, when the governing party is the minority, does it have shorter governing times? Let's find out!"
   ]
  },
  {
   "cell_type": "markdown",
   "metadata": {},
   "source": [
    "Below, we load in a table called <code>govts_df</code> that has 4 columns: <code>nation</code>, <code>govttime</code>, the amount of time the government is in control, and <code>mingov</code>, a binary categorical variable where 1 signifies that the party was the minority. Let's load the table first:"
   ]
  },
  {
   "cell_type": "code",
   "execution_count": 45,
   "metadata": {
    "scrolled": true
   },
   "outputs": [
    {
     "data": {
      "text/html": [
       "<div>\n",
       "<style scoped>\n",
       "    .dataframe tbody tr th:only-of-type {\n",
       "        vertical-align: middle;\n",
       "    }\n",
       "\n",
       "    .dataframe tbody tr th {\n",
       "        vertical-align: top;\n",
       "    }\n",
       "\n",
       "    .dataframe thead th {\n",
       "        text-align: right;\n",
       "    }\n",
       "</style>\n",
       "<table border=\"1\" class=\"dataframe\">\n",
       "  <thead>\n",
       "    <tr style=\"text-align: right;\">\n",
       "      <th></th>\n",
       "      <th>nation</th>\n",
       "      <th>govttime</th>\n",
       "      <th>mingov</th>\n",
       "    </tr>\n",
       "  </thead>\n",
       "  <tbody>\n",
       "    <tr>\n",
       "      <th>0</th>\n",
       "      <td>Italy</td>\n",
       "      <td>31.0</td>\n",
       "      <td>1.0</td>\n",
       "    </tr>\n",
       "    <tr>\n",
       "      <th>1</th>\n",
       "      <td>Denmark</td>\n",
       "      <td>42.0</td>\n",
       "      <td>1.0</td>\n",
       "    </tr>\n",
       "    <tr>\n",
       "      <th>2</th>\n",
       "      <td>Belgium</td>\n",
       "      <td>48.0</td>\n",
       "      <td>1.0</td>\n",
       "    </tr>\n",
       "    <tr>\n",
       "      <th>3</th>\n",
       "      <td>Belgium</td>\n",
       "      <td>49.0</td>\n",
       "      <td>0.0</td>\n",
       "    </tr>\n",
       "    <tr>\n",
       "      <th>4</th>\n",
       "      <td>Iceland</td>\n",
       "      <td>117.0</td>\n",
       "      <td>0.0</td>\n",
       "    </tr>\n",
       "    <tr>\n",
       "      <th>5</th>\n",
       "      <td>Belgium</td>\n",
       "      <td>134.0</td>\n",
       "      <td>1.0</td>\n",
       "    </tr>\n",
       "    <tr>\n",
       "      <th>6</th>\n",
       "      <td>Sweden</td>\n",
       "      <td>148.0</td>\n",
       "      <td>1.0</td>\n",
       "    </tr>\n",
       "    <tr>\n",
       "      <th>7</th>\n",
       "      <td>Denmark</td>\n",
       "      <td>148.0</td>\n",
       "      <td>1.0</td>\n",
       "    </tr>\n",
       "    <tr>\n",
       "      <th>8</th>\n",
       "      <td>Norway</td>\n",
       "      <td>164.0</td>\n",
       "      <td>1.0</td>\n",
       "    </tr>\n",
       "    <tr>\n",
       "      <th>9</th>\n",
       "      <td>Italy</td>\n",
       "      <td>170.0</td>\n",
       "      <td>1.0</td>\n",
       "    </tr>\n",
       "    <tr>\n",
       "      <th>10</th>\n",
       "      <td>Italy</td>\n",
       "      <td>221.0</td>\n",
       "      <td>1.0</td>\n",
       "    </tr>\n",
       "    <tr>\n",
       "      <th>11</th>\n",
       "      <td>Italy</td>\n",
       "      <td>230.0</td>\n",
       "      <td>0.0</td>\n",
       "    </tr>\n",
       "    <tr>\n",
       "      <th>12</th>\n",
       "      <td>Belgium</td>\n",
       "      <td>235.0</td>\n",
       "      <td>0.0</td>\n",
       "    </tr>\n",
       "    <tr>\n",
       "      <th>13</th>\n",
       "      <td>Portugal</td>\n",
       "      <td>238.0</td>\n",
       "      <td>0.0</td>\n",
       "    </tr>\n",
       "    <tr>\n",
       "      <th>14</th>\n",
       "      <td>Italy</td>\n",
       "      <td>243.0</td>\n",
       "      <td>1.0</td>\n",
       "    </tr>\n",
       "    <tr>\n",
       "      <th>15</th>\n",
       "      <td>Italy</td>\n",
       "      <td>251.0</td>\n",
       "      <td>0.0</td>\n",
       "    </tr>\n",
       "    <tr>\n",
       "      <th>16</th>\n",
       "      <td>Ireland</td>\n",
       "      <td>252.0</td>\n",
       "      <td>1.0</td>\n",
       "    </tr>\n",
       "    <tr>\n",
       "      <th>17</th>\n",
       "      <td>Denmark</td>\n",
       "      <td>253.0</td>\n",
       "      <td>1.0</td>\n",
       "    </tr>\n",
       "    <tr>\n",
       "      <th>18</th>\n",
       "      <td>Italy</td>\n",
       "      <td>259.0</td>\n",
       "      <td>0.0</td>\n",
       "    </tr>\n",
       "    <tr>\n",
       "      <th>19</th>\n",
       "      <td>Netherlands</td>\n",
       "      <td>260.0</td>\n",
       "      <td>0.0</td>\n",
       "    </tr>\n",
       "    <tr>\n",
       "      <th>20</th>\n",
       "      <td>Denmark</td>\n",
       "      <td>267.0</td>\n",
       "      <td>1.0</td>\n",
       "    </tr>\n",
       "    <tr>\n",
       "      <th>21</th>\n",
       "      <td>Ireland</td>\n",
       "      <td>280.0</td>\n",
       "      <td>1.0</td>\n",
       "    </tr>\n",
       "    <tr>\n",
       "      <th>22</th>\n",
       "      <td>Belgium</td>\n",
       "      <td>295.0</td>\n",
       "      <td>0.0</td>\n",
       "    </tr>\n",
       "    <tr>\n",
       "      <th>23</th>\n",
       "      <td>Italy</td>\n",
       "      <td>305.0</td>\n",
       "      <td>0.0</td>\n",
       "    </tr>\n",
       "    <tr>\n",
       "      <th>24</th>\n",
       "      <td>Switzerland</td>\n",
       "      <td>352.0</td>\n",
       "      <td>0.0</td>\n",
       "    </tr>\n",
       "    <tr>\n",
       "      <th>25</th>\n",
       "      <td>Switzerland</td>\n",
       "      <td>357.0</td>\n",
       "      <td>0.0</td>\n",
       "    </tr>\n",
       "    <tr>\n",
       "      <th>26</th>\n",
       "      <td>Denmark</td>\n",
       "      <td>360.0</td>\n",
       "      <td>1.0</td>\n",
       "    </tr>\n",
       "    <tr>\n",
       "      <th>27</th>\n",
       "      <td>Switzerland</td>\n",
       "      <td>364.0</td>\n",
       "      <td>0.0</td>\n",
       "    </tr>\n",
       "    <tr>\n",
       "      <th>28</th>\n",
       "      <td>Switzerland</td>\n",
       "      <td>364.0</td>\n",
       "      <td>0.0</td>\n",
       "    </tr>\n",
       "    <tr>\n",
       "      <th>29</th>\n",
       "      <td>Switzerland</td>\n",
       "      <td>364.0</td>\n",
       "      <td>0.0</td>\n",
       "    </tr>\n",
       "    <tr>\n",
       "      <th>...</th>\n",
       "      <td>...</td>\n",
       "      <td>...</td>\n",
       "      <td>...</td>\n",
       "    </tr>\n",
       "    <tr>\n",
       "      <th>147</th>\n",
       "      <td>Germany</td>\n",
       "      <td>1440.0</td>\n",
       "      <td>0.0</td>\n",
       "    </tr>\n",
       "    <tr>\n",
       "      <th>148</th>\n",
       "      <td>Netherlands</td>\n",
       "      <td>1442.0</td>\n",
       "      <td>0.0</td>\n",
       "    </tr>\n",
       "    <tr>\n",
       "      <th>149</th>\n",
       "      <td>Germany</td>\n",
       "      <td>1442.0</td>\n",
       "      <td>0.0</td>\n",
       "    </tr>\n",
       "    <tr>\n",
       "      <th>150</th>\n",
       "      <td>Belgium</td>\n",
       "      <td>1442.0</td>\n",
       "      <td>0.0</td>\n",
       "    </tr>\n",
       "    <tr>\n",
       "      <th>151</th>\n",
       "      <td>Austria</td>\n",
       "      <td>1444.0</td>\n",
       "      <td>0.0</td>\n",
       "    </tr>\n",
       "    <tr>\n",
       "      <th>152</th>\n",
       "      <td>Iceland</td>\n",
       "      <td>1454.0</td>\n",
       "      <td>0.0</td>\n",
       "    </tr>\n",
       "    <tr>\n",
       "      <th>153</th>\n",
       "      <td>Iceland</td>\n",
       "      <td>1455.0</td>\n",
       "      <td>0.0</td>\n",
       "    </tr>\n",
       "    <tr>\n",
       "      <th>154</th>\n",
       "      <td>Sweden</td>\n",
       "      <td>1456.0</td>\n",
       "      <td>1.0</td>\n",
       "    </tr>\n",
       "    <tr>\n",
       "      <th>155</th>\n",
       "      <td>Portugal</td>\n",
       "      <td>1457.0</td>\n",
       "      <td>1.0</td>\n",
       "    </tr>\n",
       "    <tr>\n",
       "      <th>156</th>\n",
       "      <td>Portugal</td>\n",
       "      <td>1462.0</td>\n",
       "      <td>0.0</td>\n",
       "    </tr>\n",
       "    <tr>\n",
       "      <th>157</th>\n",
       "      <td>Iceland</td>\n",
       "      <td>1463.0</td>\n",
       "      <td>0.0</td>\n",
       "    </tr>\n",
       "    <tr>\n",
       "      <th>158</th>\n",
       "      <td>Austria</td>\n",
       "      <td>1464.0</td>\n",
       "      <td>0.0</td>\n",
       "    </tr>\n",
       "    <tr>\n",
       "      <th>159</th>\n",
       "      <td>Sweden</td>\n",
       "      <td>1464.0</td>\n",
       "      <td>1.0</td>\n",
       "    </tr>\n",
       "    <tr>\n",
       "      <th>160</th>\n",
       "      <td>Sweden</td>\n",
       "      <td>1466.0</td>\n",
       "      <td>0.0</td>\n",
       "    </tr>\n",
       "    <tr>\n",
       "      <th>161</th>\n",
       "      <td>Austria</td>\n",
       "      <td>1468.0</td>\n",
       "      <td>0.0</td>\n",
       "    </tr>\n",
       "    <tr>\n",
       "      <th>162</th>\n",
       "      <td>Norway</td>\n",
       "      <td>1471.0</td>\n",
       "      <td>1.0</td>\n",
       "    </tr>\n",
       "    <tr>\n",
       "      <th>163</th>\n",
       "      <td>Austria</td>\n",
       "      <td>1475.0</td>\n",
       "      <td>0.0</td>\n",
       "    </tr>\n",
       "    <tr>\n",
       "      <th>164</th>\n",
       "      <td>Belgium</td>\n",
       "      <td>1480.0</td>\n",
       "      <td>0.0</td>\n",
       "    </tr>\n",
       "    <tr>\n",
       "      <th>165</th>\n",
       "      <td>Iceland</td>\n",
       "      <td>1496.0</td>\n",
       "      <td>0.0</td>\n",
       "    </tr>\n",
       "    <tr>\n",
       "      <th>166</th>\n",
       "      <td>Netherlands</td>\n",
       "      <td>1502.0</td>\n",
       "      <td>0.0</td>\n",
       "    </tr>\n",
       "    <tr>\n",
       "      <th>167</th>\n",
       "      <td>Iceland</td>\n",
       "      <td>1504.0</td>\n",
       "      <td>0.0</td>\n",
       "    </tr>\n",
       "    <tr>\n",
       "      <th>168</th>\n",
       "      <td>Belgium</td>\n",
       "      <td>1526.0</td>\n",
       "      <td>0.0</td>\n",
       "    </tr>\n",
       "    <tr>\n",
       "      <th>169</th>\n",
       "      <td>Netherlands</td>\n",
       "      <td>1527.0</td>\n",
       "      <td>0.0</td>\n",
       "    </tr>\n",
       "    <tr>\n",
       "      <th>170</th>\n",
       "      <td>Portugal</td>\n",
       "      <td>1533.0</td>\n",
       "      <td>0.0</td>\n",
       "    </tr>\n",
       "    <tr>\n",
       "      <th>171</th>\n",
       "      <td>Ireland</td>\n",
       "      <td>1547.0</td>\n",
       "      <td>0.0</td>\n",
       "    </tr>\n",
       "    <tr>\n",
       "      <th>172</th>\n",
       "      <td>Netherlands</td>\n",
       "      <td>1555.0</td>\n",
       "      <td>0.0</td>\n",
       "    </tr>\n",
       "    <tr>\n",
       "      <th>173</th>\n",
       "      <td>Belgium</td>\n",
       "      <td>1555.0</td>\n",
       "      <td>0.0</td>\n",
       "    </tr>\n",
       "    <tr>\n",
       "      <th>174</th>\n",
       "      <td>Ireland</td>\n",
       "      <td>1574.0</td>\n",
       "      <td>0.0</td>\n",
       "    </tr>\n",
       "    <tr>\n",
       "      <th>175</th>\n",
       "      <td>Netherlands</td>\n",
       "      <td>1683.0</td>\n",
       "      <td>0.0</td>\n",
       "    </tr>\n",
       "    <tr>\n",
       "      <th>176</th>\n",
       "      <td>Netherlands</td>\n",
       "      <td>1749.0</td>\n",
       "      <td>0.0</td>\n",
       "    </tr>\n",
       "  </tbody>\n",
       "</table>\n",
       "<p>177 rows × 3 columns</p>\n",
       "</div>"
      ],
      "text/plain": [
       "          nation  govttime  mingov\n",
       "0          Italy      31.0     1.0\n",
       "1        Denmark      42.0     1.0\n",
       "2        Belgium      48.0     1.0\n",
       "3        Belgium      49.0     0.0\n",
       "4        Iceland     117.0     0.0\n",
       "..           ...       ...     ...\n",
       "172  Netherlands    1555.0     0.0\n",
       "173      Belgium    1555.0     0.0\n",
       "174      Ireland    1574.0     0.0\n",
       "175  Netherlands    1683.0     0.0\n",
       "176  Netherlands    1749.0     0.0\n",
       "\n",
       "[177 rows x 3 columns]"
      ]
     },
     "execution_count": 45,
     "metadata": {},
     "output_type": "execute_result"
    }
   ],
   "source": [
    "govts_df = pd.read_csv('data/govts.csv').drop('govtdate', axis=1)\n",
    "govts_df"
   ]
  },
  {
   "cell_type": "markdown",
   "metadata": {},
   "source": [
    "Now, let's plot the distributions of <code>govttime</code>, separated by <code>mingov</code>."
   ]
  },
  {
   "cell_type": "code",
   "execution_count": 48,
   "metadata": {},
   "outputs": [
    {
     "data": {
      "text/plain": [
       "<matplotlib.axes._subplots.AxesSubplot at 0x7f31fc855240>"
      ]
     },
     "execution_count": 48,
     "metadata": {},
     "output_type": "execute_result"
    },
    {
     "data": {
      "image/png": "[encoded data removed]",
      "text/plain": [
       "<Figure size 432x288 with 1 Axes>"
      ]
     },
     "metadata": {
      "needs_background": "light"
     },
     "output_type": "display_data"
    }
   ],
   "source": [
    "sns.distplot(govts_df[govts_df.mingov==1]['govttime'], hist=False, label='minority')\n",
    "sns.distplot(govts_df[govts_df.mingov==0]['govttime'], hist=False, label='majority')"
   ]
  },
  {
   "cell_type": "markdown",
   "metadata": {},
   "source": [
    "What do you notice about the two distributions?"
   ]
  },
  {
   "cell_type": "markdown",
   "metadata": {},
   "source": [
    "To manually calculate the p-value for a statistically significant difference between the two distributions, we use the following formula, where $\\overline{Y_i}$ represents the mean for group i, $\\sigma_i$ is the standard deviation for group i, and $n_i$ is the number of rows/samples for group i:   \n",
    "$$\\frac{\\overline{Y_1}-\\overline{Y_2}}{\\sqrt{\\frac{\\sigma_1^2}{n_1}+\\frac{\\sigma_2^2}{n_2}}}$$\n",
    "\n",
    "Once we have calculated this statistic, we can use an online table or a textbook's appendix to determine if it meets the appropriate threshold for a p-value below .05."
   ]
  },
  {
   "cell_type": "markdown",
   "metadata": {},
   "source": [
    "#### Using Python\n",
    "In order to compare the distributions of values by a categorical variable, create an array for the continuous variable for each of the values of the categorical variable. Because <code>mingov</code> has 2 values, we will create 2 arrays. We then use <code>stats.ttest_ind(categorical_value_1_array, categorical_value_2_array)</code>  "
   ]
  },
  {
   "cell_type": "code",
   "execution_count": 8,
   "metadata": {},
   "outputs": [
    {
     "data": {
      "text/plain": [
       "Ttest_indResult(statistic=-3.4432201167704233, pvalue=0.0007192307610674558)"
      ]
     },
     "execution_count": 8,
     "metadata": {},
     "output_type": "execute_result"
    }
   ],
   "source": [
    "minority_arr = govts_df[govts_df.mingov==1]['govttime']\n",
    "majority_arr = govts_df[govts_df.mingov==0]['govttime']\n",
    "stats.ttest_ind(minority_arr,majority_arr)"
   ]
  },
  {
   "cell_type": "markdown",
   "metadata": {},
   "source": [
    "Above, we determined that the statistic's value was -3.44, which has a corresponding p-value of .0007, which is far under the threshold of .05. Therefore, the relationship is statistically significant."
   ]
  },
  {
   "cell_type": "markdown",
   "metadata": {},
   "source": [
    "### Interactive Visual\n",
    "Below, we visualize the sampling distribution for some random variable (the null distribution) and the mean for an alternative distribution (generated similarly to the null hypothesis, but with an offset). How does changing the difference in means between the null and alternative distributions change the p-value?"
   ]
  },
  {
   "cell_type": "code",
   "execution_count": 184,
   "metadata": {},
   "outputs": [
    {
     "data": {
      "application/vnd.jupyter.widget-view+json": {
       "model_id": "4620a5de0cdb48948a690e871ed0c730",
       "version_major": 2,
       "version_minor": 0
      },
      "text/plain": [
       "interactive(children=(IntSlider(value=100, description='center', max=300, min=-100), IntSlider(value=0, descri…"
      ]
     },
     "metadata": {},
     "output_type": "display_data"
    },
    {
     "data": {
      "text/plain": [
       "<function __main__.p_value_interactive(center, alt_offset)>"
      ]
     },
     "execution_count": 184,
     "metadata": {},
     "output_type": "execute_result"
    }
   ],
   "source": [
    "def p_value_interactive(center, alt_offset):\n",
    "    #Base Case/Null Array\n",
    "    null_arr = np.random.randint(center/2, (center/2)+center, size=300)\n",
    "    #Sampling distribution of above\n",
    "    sampling_dist = [np.mean(np.random.randint(center/2, (center/2)+center, size=300)) for _ in range(10000)]\n",
    "    #Alternative Array\n",
    "    alt_arr = np.random.randint((center/2)+alt_offset, center+(center/2)+alt_offset, size=300)\n",
    "    #Calculate p-value\n",
    "    print(stats.ttest_ind(null_arr, alt_arr))\n",
    "    #Plot distribution of sample means for null hypothesis\n",
    "    sns.distplot(sampling_dist, label='sampling distribution', hist=False)\n",
    "    plt.axvline(np.mean(alt_arr))\n",
    "    plt.legend()\n",
    "    \n",
    "interact(p_value_interactive, center=100, alt_offset=(-10,10))"
   ]
  },
  {
   "cell_type": "markdown",
   "metadata": {},
   "source": [
    "## Covariance and Pearson's r: Continuous Variables\n",
    "When both variables are continuous, we want to measure their *covariance*: the degree to which one of the variable's change in value coincides with a similar change in value in the other variable. In the following example, we shall explore the covariance of GDP and incumbent vote share."
   ]
  },
  {
   "cell_type": "markdown",
   "metadata": {},
   "source": [
    "First, we need to load in the data set from a CSV. This table has many different columns, but we are concerned with the \"VOTE\" and \"GROWTH\" columns. The \"VOTE\" column represents the percentage of the vote the incumbent received, and \"GROWTH\" represents the percent change in GDP that year."
   ]
  },
  {
   "cell_type": "code",
   "execution_count": 51,
   "metadata": {
    "scrolled": false
   },
   "outputs": [
    {
     "data": {
      "text/html": [
       "<div>\n",
       "<style scoped>\n",
       "    .dataframe tbody tr th:only-of-type {\n",
       "        vertical-align: middle;\n",
       "    }\n",
       "\n",
       "    .dataframe tbody tr th {\n",
       "        vertical-align: top;\n",
       "    }\n",
       "\n",
       "    .dataframe thead th {\n",
       "        text-align: right;\n",
       "    }\n",
       "</style>\n",
       "<table border=\"1\" class=\"dataframe\">\n",
       "  <thead>\n",
       "    <tr style=\"text-align: right;\">\n",
       "      <th></th>\n",
       "      <th>YEAR</th>\n",
       "      <th>VOTE</th>\n",
       "      <th>PARTY</th>\n",
       "      <th>PERSON</th>\n",
       "      <th>DURATION</th>\n",
       "      <th>WAR</th>\n",
       "      <th>GROWTH</th>\n",
       "      <th>INFLATION</th>\n",
       "      <th>GOODNEWS</th>\n",
       "    </tr>\n",
       "  </thead>\n",
       "  <tbody>\n",
       "    <tr>\n",
       "      <th>0</th>\n",
       "      <td>1880</td>\n",
       "      <td>50.220</td>\n",
       "      <td>-1</td>\n",
       "      <td>0</td>\n",
       "      <td>1.75</td>\n",
       "      <td>0</td>\n",
       "      <td>3.879</td>\n",
       "      <td>1.974</td>\n",
       "      <td>9</td>\n",
       "    </tr>\n",
       "    <tr>\n",
       "      <th>1</th>\n",
       "      <td>1884</td>\n",
       "      <td>49.846</td>\n",
       "      <td>-1</td>\n",
       "      <td>0</td>\n",
       "      <td>2.00</td>\n",
       "      <td>0</td>\n",
       "      <td>1.589</td>\n",
       "      <td>1.055</td>\n",
       "      <td>2</td>\n",
       "    </tr>\n",
       "    <tr>\n",
       "      <th>2</th>\n",
       "      <td>1888</td>\n",
       "      <td>50.414</td>\n",
       "      <td>1</td>\n",
       "      <td>1</td>\n",
       "      <td>0.00</td>\n",
       "      <td>0</td>\n",
       "      <td>-5.553</td>\n",
       "      <td>0.604</td>\n",
       "      <td>3</td>\n",
       "    </tr>\n",
       "    <tr>\n",
       "      <th>3</th>\n",
       "      <td>1892</td>\n",
       "      <td>48.268</td>\n",
       "      <td>-1</td>\n",
       "      <td>1</td>\n",
       "      <td>0.00</td>\n",
       "      <td>0</td>\n",
       "      <td>2.763</td>\n",
       "      <td>2.274</td>\n",
       "      <td>7</td>\n",
       "    </tr>\n",
       "    <tr>\n",
       "      <th>4</th>\n",
       "      <td>1896</td>\n",
       "      <td>47.760</td>\n",
       "      <td>1</td>\n",
       "      <td>0</td>\n",
       "      <td>0.00</td>\n",
       "      <td>0</td>\n",
       "      <td>-10.024</td>\n",
       "      <td>3.410</td>\n",
       "      <td>6</td>\n",
       "    </tr>\n",
       "    <tr>\n",
       "      <th>5</th>\n",
       "      <td>1900</td>\n",
       "      <td>53.171</td>\n",
       "      <td>-1</td>\n",
       "      <td>1</td>\n",
       "      <td>0.00</td>\n",
       "      <td>0</td>\n",
       "      <td>-1.425</td>\n",
       "      <td>2.548</td>\n",
       "      <td>7</td>\n",
       "    </tr>\n",
       "    <tr>\n",
       "      <th>6</th>\n",
       "      <td>1904</td>\n",
       "      <td>60.006</td>\n",
       "      <td>-1</td>\n",
       "      <td>0</td>\n",
       "      <td>1.00</td>\n",
       "      <td>0</td>\n",
       "      <td>-2.421</td>\n",
       "      <td>1.442</td>\n",
       "      <td>5</td>\n",
       "    </tr>\n",
       "    <tr>\n",
       "      <th>7</th>\n",
       "      <td>1908</td>\n",
       "      <td>54.483</td>\n",
       "      <td>-1</td>\n",
       "      <td>0</td>\n",
       "      <td>1.25</td>\n",
       "      <td>0</td>\n",
       "      <td>-6.281</td>\n",
       "      <td>1.879</td>\n",
       "      <td>8</td>\n",
       "    </tr>\n",
       "    <tr>\n",
       "      <th>8</th>\n",
       "      <td>1912</td>\n",
       "      <td>54.708</td>\n",
       "      <td>-1</td>\n",
       "      <td>1</td>\n",
       "      <td>1.50</td>\n",
       "      <td>0</td>\n",
       "      <td>4.164</td>\n",
       "      <td>2.172</td>\n",
       "      <td>8</td>\n",
       "    </tr>\n",
       "    <tr>\n",
       "      <th>9</th>\n",
       "      <td>1916</td>\n",
       "      <td>51.682</td>\n",
       "      <td>1</td>\n",
       "      <td>1</td>\n",
       "      <td>0.00</td>\n",
       "      <td>0</td>\n",
       "      <td>2.229</td>\n",
       "      <td>4.252</td>\n",
       "      <td>3</td>\n",
       "    </tr>\n",
       "    <tr>\n",
       "      <th>10</th>\n",
       "      <td>1920</td>\n",
       "      <td>36.119</td>\n",
       "      <td>1</td>\n",
       "      <td>0</td>\n",
       "      <td>1.00</td>\n",
       "      <td>1</td>\n",
       "      <td>-11.463</td>\n",
       "      <td>0.000</td>\n",
       "      <td>0</td>\n",
       "    </tr>\n",
       "    <tr>\n",
       "      <th>11</th>\n",
       "      <td>1924</td>\n",
       "      <td>58.244</td>\n",
       "      <td>-1</td>\n",
       "      <td>1</td>\n",
       "      <td>0.00</td>\n",
       "      <td>0</td>\n",
       "      <td>-3.872</td>\n",
       "      <td>5.161</td>\n",
       "      <td>10</td>\n",
       "    </tr>\n",
       "    <tr>\n",
       "      <th>12</th>\n",
       "      <td>1928</td>\n",
       "      <td>58.820</td>\n",
       "      <td>-1</td>\n",
       "      <td>0</td>\n",
       "      <td>1.00</td>\n",
       "      <td>0</td>\n",
       "      <td>4.623</td>\n",
       "      <td>0.183</td>\n",
       "      <td>7</td>\n",
       "    </tr>\n",
       "    <tr>\n",
       "      <th>13</th>\n",
       "      <td>1932</td>\n",
       "      <td>40.841</td>\n",
       "      <td>-1</td>\n",
       "      <td>1</td>\n",
       "      <td>1.25</td>\n",
       "      <td>0</td>\n",
       "      <td>-14.557</td>\n",
       "      <td>7.160</td>\n",
       "      <td>4</td>\n",
       "    </tr>\n",
       "    <tr>\n",
       "      <th>14</th>\n",
       "      <td>1936</td>\n",
       "      <td>62.458</td>\n",
       "      <td>1</td>\n",
       "      <td>1</td>\n",
       "      <td>0.00</td>\n",
       "      <td>0</td>\n",
       "      <td>11.677</td>\n",
       "      <td>2.454</td>\n",
       "      <td>9</td>\n",
       "    </tr>\n",
       "    <tr>\n",
       "      <th>15</th>\n",
       "      <td>1940</td>\n",
       "      <td>54.999</td>\n",
       "      <td>1</td>\n",
       "      <td>1</td>\n",
       "      <td>1.00</td>\n",
       "      <td>0</td>\n",
       "      <td>3.611</td>\n",
       "      <td>0.055</td>\n",
       "      <td>8</td>\n",
       "    </tr>\n",
       "    <tr>\n",
       "      <th>16</th>\n",
       "      <td>1944</td>\n",
       "      <td>53.774</td>\n",
       "      <td>1</td>\n",
       "      <td>1</td>\n",
       "      <td>1.25</td>\n",
       "      <td>1</td>\n",
       "      <td>4.433</td>\n",
       "      <td>0.000</td>\n",
       "      <td>0</td>\n",
       "    </tr>\n",
       "    <tr>\n",
       "      <th>17</th>\n",
       "      <td>1948</td>\n",
       "      <td>52.370</td>\n",
       "      <td>1</td>\n",
       "      <td>1</td>\n",
       "      <td>1.50</td>\n",
       "      <td>1</td>\n",
       "      <td>2.858</td>\n",
       "      <td>0.000</td>\n",
       "      <td>0</td>\n",
       "    </tr>\n",
       "    <tr>\n",
       "      <th>18</th>\n",
       "      <td>1952</td>\n",
       "      <td>44.595</td>\n",
       "      <td>1</td>\n",
       "      <td>0</td>\n",
       "      <td>1.75</td>\n",
       "      <td>0</td>\n",
       "      <td>0.840</td>\n",
       "      <td>2.316</td>\n",
       "      <td>6</td>\n",
       "    </tr>\n",
       "    <tr>\n",
       "      <th>19</th>\n",
       "      <td>1956</td>\n",
       "      <td>57.764</td>\n",
       "      <td>-1</td>\n",
       "      <td>1</td>\n",
       "      <td>0.00</td>\n",
       "      <td>0</td>\n",
       "      <td>-1.394</td>\n",
       "      <td>1.930</td>\n",
       "      <td>5</td>\n",
       "    </tr>\n",
       "    <tr>\n",
       "      <th>20</th>\n",
       "      <td>1960</td>\n",
       "      <td>49.913</td>\n",
       "      <td>-1</td>\n",
       "      <td>0</td>\n",
       "      <td>1.00</td>\n",
       "      <td>0</td>\n",
       "      <td>0.417</td>\n",
       "      <td>1.963</td>\n",
       "      <td>5</td>\n",
       "    </tr>\n",
       "    <tr>\n",
       "      <th>21</th>\n",
       "      <td>1964</td>\n",
       "      <td>61.344</td>\n",
       "      <td>1</td>\n",
       "      <td>1</td>\n",
       "      <td>0.00</td>\n",
       "      <td>0</td>\n",
       "      <td>5.109</td>\n",
       "      <td>1.267</td>\n",
       "      <td>10</td>\n",
       "    </tr>\n",
       "    <tr>\n",
       "      <th>22</th>\n",
       "      <td>1968</td>\n",
       "      <td>49.596</td>\n",
       "      <td>1</td>\n",
       "      <td>0</td>\n",
       "      <td>1.00</td>\n",
       "      <td>0</td>\n",
       "      <td>5.070</td>\n",
       "      <td>3.156</td>\n",
       "      <td>7</td>\n",
       "    </tr>\n",
       "    <tr>\n",
       "      <th>23</th>\n",
       "      <td>1972</td>\n",
       "      <td>61.789</td>\n",
       "      <td>-1</td>\n",
       "      <td>1</td>\n",
       "      <td>0.00</td>\n",
       "      <td>0</td>\n",
       "      <td>6.125</td>\n",
       "      <td>4.813</td>\n",
       "      <td>4</td>\n",
       "    </tr>\n",
       "    <tr>\n",
       "      <th>24</th>\n",
       "      <td>1976</td>\n",
       "      <td>48.948</td>\n",
       "      <td>-1</td>\n",
       "      <td>0</td>\n",
       "      <td>1.00</td>\n",
       "      <td>0</td>\n",
       "      <td>4.026</td>\n",
       "      <td>7.579</td>\n",
       "      <td>4</td>\n",
       "    </tr>\n",
       "    <tr>\n",
       "      <th>25</th>\n",
       "      <td>1980</td>\n",
       "      <td>44.697</td>\n",
       "      <td>1</td>\n",
       "      <td>1</td>\n",
       "      <td>0.00</td>\n",
       "      <td>0</td>\n",
       "      <td>-3.594</td>\n",
       "      <td>7.926</td>\n",
       "      <td>5</td>\n",
       "    </tr>\n",
       "    <tr>\n",
       "      <th>26</th>\n",
       "      <td>1984</td>\n",
       "      <td>59.170</td>\n",
       "      <td>-1</td>\n",
       "      <td>1</td>\n",
       "      <td>0.00</td>\n",
       "      <td>0</td>\n",
       "      <td>5.568</td>\n",
       "      <td>5.286</td>\n",
       "      <td>8</td>\n",
       "    </tr>\n",
       "    <tr>\n",
       "      <th>27</th>\n",
       "      <td>1988</td>\n",
       "      <td>53.902</td>\n",
       "      <td>-1</td>\n",
       "      <td>0</td>\n",
       "      <td>1.00</td>\n",
       "      <td>0</td>\n",
       "      <td>2.261</td>\n",
       "      <td>3.001</td>\n",
       "      <td>4</td>\n",
       "    </tr>\n",
       "    <tr>\n",
       "      <th>28</th>\n",
       "      <td>1992</td>\n",
       "      <td>46.545</td>\n",
       "      <td>-1</td>\n",
       "      <td>1</td>\n",
       "      <td>1.25</td>\n",
       "      <td>0</td>\n",
       "      <td>2.223</td>\n",
       "      <td>3.333</td>\n",
       "      <td>2</td>\n",
       "    </tr>\n",
       "    <tr>\n",
       "      <th>29</th>\n",
       "      <td>1996</td>\n",
       "      <td>54.736</td>\n",
       "      <td>1</td>\n",
       "      <td>1</td>\n",
       "      <td>0.00</td>\n",
       "      <td>0</td>\n",
       "      <td>2.712</td>\n",
       "      <td>2.146</td>\n",
       "      <td>4</td>\n",
       "    </tr>\n",
       "    <tr>\n",
       "      <th>30</th>\n",
       "      <td>2000</td>\n",
       "      <td>50.265</td>\n",
       "      <td>1</td>\n",
       "      <td>0</td>\n",
       "      <td>1.00</td>\n",
       "      <td>0</td>\n",
       "      <td>1.603</td>\n",
       "      <td>1.679</td>\n",
       "      <td>7</td>\n",
       "    </tr>\n",
       "    <tr>\n",
       "      <th>31</th>\n",
       "      <td>2004</td>\n",
       "      <td>51.200</td>\n",
       "      <td>-1</td>\n",
       "      <td>1</td>\n",
       "      <td>0.00</td>\n",
       "      <td>0</td>\n",
       "      <td>2.900</td>\n",
       "      <td>2.000</td>\n",
       "      <td>2</td>\n",
       "    </tr>\n",
       "  </tbody>\n",
       "</table>\n",
       "</div>"
      ],
      "text/plain": [
       "    YEAR    VOTE  PARTY  PERSON  DURATION  WAR  GROWTH  INFLATION  GOODNEWS\n",
       "0   1880  50.220     -1       0      1.75    0   3.879      1.974         9\n",
       "1   1884  49.846     -1       0      2.00    0   1.589      1.055         2\n",
       "2   1888  50.414      1       1      0.00    0  -5.553      0.604         3\n",
       "3   1892  48.268     -1       1      0.00    0   2.763      2.274         7\n",
       "4   1896  47.760      1       0      0.00    0 -10.024      3.410         6\n",
       "5   1900  53.171     -1       1      0.00    0  -1.425      2.548         7\n",
       "6   1904  60.006     -1       0      1.00    0  -2.421      1.442         5\n",
       "7   1908  54.483     -1       0      1.25    0  -6.281      1.879         8\n",
       "8   1912  54.708     -1       1      1.50    0   4.164      2.172         8\n",
       "9   1916  51.682      1       1      0.00    0   2.229      4.252         3\n",
       "10  1920  36.119      1       0      1.00    1 -11.463      0.000         0\n",
       "11  1924  58.244     -1       1      0.00    0  -3.872      5.161        10\n",
       "12  1928  58.820     -1       0      1.00    0   4.623      0.183         7\n",
       "13  1932  40.841     -1       1      1.25    0 -14.557      7.160         4\n",
       "14  1936  62.458      1       1      0.00    0  11.677      2.454         9\n",
       "15  1940  54.999      1       1      1.00    0   3.611      0.055         8\n",
       "16  1944  53.774      1       1      1.25    1   4.433      0.000         0\n",
       "17  1948  52.370      1       1      1.50    1   2.858      0.000         0\n",
       "18  1952  44.595      1       0      1.75    0   0.840      2.316         6\n",
       "19  1956  57.764     -1       1      0.00    0  -1.394      1.930         5\n",
       "20  1960  49.913     -1       0      1.00    0   0.417      1.963         5\n",
       "21  1964  61.344      1       1      0.00    0   5.109      1.267        10\n",
       "22  1968  49.596      1       0      1.00    0   5.070      3.156         7\n",
       "23  1972  61.789     -1       1      0.00    0   6.125      4.813         4\n",
       "24  1976  48.948     -1       0      1.00    0   4.026      7.579         4\n",
       "25  1980  44.697      1       1      0.00    0  -3.594      7.926         5\n",
       "26  1984  59.170     -1       1      0.00    0   5.568      5.286         8\n",
       "27  1988  53.902     -1       0      1.00    0   2.261      3.001         4\n",
       "28  1992  46.545     -1       1      1.25    0   2.223      3.333         2\n",
       "29  1996  54.736      1       1      0.00    0   2.712      2.146         4\n",
       "30  2000  50.265      1       0      1.00    0   1.603      1.679         7\n",
       "31  2004  51.200     -1       1      0.00    0   2.900      2.000         2"
      ]
     },
     "execution_count": 51,
     "metadata": {},
     "output_type": "execute_result"
    }
   ],
   "source": [
    "fair_df = pd.read_csv('data/fair.csv')\n",
    "fair_df"
   ]
  },
  {
   "cell_type": "markdown",
   "metadata": {},
   "source": [
    "Because our independent variable is GDP growth, we plot it on the x-axis.   \n",
    "What relationship between the two variables do you observe?"
   ]
  },
  {
   "cell_type": "code",
   "execution_count": 44,
   "metadata": {},
   "outputs": [
    {
     "data": {
      "text/plain": [
       "<matplotlib.axes._subplots.AxesSubplot at 0x7f31ed0d9470>"
      ]
     },
     "execution_count": 44,
     "metadata": {},
     "output_type": "execute_result"
    },
    {
     "data": {
      "image/png": "[encoded data removed]",
      "text/plain": [
       "<Figure size 432x288 with 1 Axes>"
      ]
     },
     "metadata": {
      "needs_background": "light"
     },
     "output_type": "display_data"
    }
   ],
   "source": [
    "sns.scatterplot('GROWTH', 'VOTE', data=fair_df)"
   ]
  },
  {
   "cell_type": "markdown",
   "metadata": {},
   "source": [
    "To calculate the covariance of these two variables, we use the following formula:\n",
    "$$cov_{XY}=\\frac{\\sum_{i=1}^n (X_i - \\overline{X})(Y_i - \\overline{Y})}{n}$$\n",
    "For this example, this is the following:\n",
    "$$cov_{GDP,Vote-Share}=\\frac{\\sum_{i=1}^n (GROWTH_i - \\overline{GROWTH})(Vote-Share_i - \\overline{Vote-Share})}{32}$$\n",
    "*Review*: As the values of X and Y increase or decrease relative to their means, what happens to the covariance?"
   ]
  },
  {
   "cell_type": "markdown",
   "metadata": {},
   "source": [
    "#### Using Python\n",
    "To calculate the covariance in Python, use <code>np.cov(X, Y)</code>. This returns a list of cov(X,X), cov(X,Y), cov(Y,X), cov(Y,Y). Because we care about the covariance between X and Y, let's use the second result. We calculate the covariance between GDP growth and incumbent vote share below:"
   ]
  },
  {
   "cell_type": "code",
   "execution_count": 54,
   "metadata": {},
   "outputs": [
    {
     "data": {
      "text/plain": [
       "20.052385838709675"
      ]
     },
     "execution_count": 54,
     "metadata": {},
     "output_type": "execute_result"
    }
   ],
   "source": [
    "np.cov(fair_df.GROWTH, fair_df.VOTE)[0][1] #The [0][1] indexes to cov(X,Y)"
   ]
  },
  {
   "cell_type": "markdown",
   "metadata": {},
   "source": [
    "Now that we have the covariance, we can calculate the correlation coefficient, *Pearson's r*: a value between -1 and 1 that represents the correlation between two variables. It is calculated thus:\n",
    "$$r=\\frac{cov_{XY}}{\\sqrt{var_Xvar_Y}}=\\frac{cov_{XY}}{\\sqrt{cov_{XX}cov_{YY}}}$$\n",
    "Given how the correlation coefficient is calculated, what must be the case when it is positive? What about it when it is close to 0?"
   ]
  },
  {
   "cell_type": "markdown",
   "metadata": {},
   "source": [
    "#### Using Python\n",
    "To caculate the correlation coefficient in Python, we use <code>stats.pearsonr(X,Y)</code>. This returns the r value, and the p-value representing the likelihood that the coinciding r value could have occurred by random. Below, we calculate the correlation coefficient for GDP and incumbent vote share:"
   ]
  },
  {
   "cell_type": "code",
   "execution_count": 55,
   "metadata": {
    "scrolled": true
   },
   "outputs": [
    {
     "data": {
      "text/plain": [
       "(0.5962706038173969, 0.00031645087038378904)"
      ]
     },
     "execution_count": 55,
     "metadata": {},
     "output_type": "execute_result"
    }
   ],
   "source": [
    "stats.pearsonr(fair_df.GROWTH, fair_df.VOTE)"
   ]
  },
  {
   "cell_type": "markdown",
   "metadata": {},
   "source": [
    "Given the above Pearson's r, what can we conclude about the relationsip between GDP growth and incumbent vote share?"
   ]
  },
  {
   "cell_type": "markdown",
   "metadata": {},
   "source": [
    "### Interactive Visual\n",
    "Below, we visualize two distributions and calculate the difference of means statistic and p-value for the likelihood that the two distributions are truly different."
   ]
  },
  {
   "cell_type": "code",
   "execution_count": 39,
   "metadata": {},
   "outputs": [
    {
     "data": {
      "application/vnd.jupyter.widget-view+json": {
       "model_id": "576a86f0863446ecba8d62e136ed3f63",
       "version_major": 2,
       "version_minor": 0
      },
      "text/plain": [
       "interactive(children=(FloatSlider(value=0.0, description='covariance', max=1.0, min=-1.0), Output()), _dom_cla…"
      ]
     },
     "metadata": {},
     "output_type": "display_data"
    },
    {
     "data": {
      "text/plain": [
       "<function __main__.cloud(covariance)>"
      ]
     },
     "execution_count": 39,
     "metadata": {},
     "output_type": "execute_result"
    }
   ],
   "source": [
    "def cloud(covariance):\n",
    "    X,Y = list(zip(*np.random.multivariate_normal([5,5], [[1,covariance],[covariance,1]], size=1000).tolist()))\n",
    "    sns.scatterplot(X, Y)\n",
    "    print(\"R-value:\",stats.pearsonr(X,Y)[0])\n",
    "\n",
    "interact(cloud, covariance=(-1.0,1.0))"
   ]
  }
 ],
 "metadata": {
  "kernelspec": {
   "display_name": "Python 3",
   "language": "python",
   "name": "python3"
  },
  "language_info": {
   "codemirror_mode": {
    "name": "ipython",
    "version": 3
   },
   "file_extension": ".py",
   "mimetype": "text/x-python",
   "name": "python",
   "nbconvert_exporter": "python",
   "pygments_lexer": "ipython3",
   "version": "3.7.3"
  }
 },
 "nbformat": 4,
 "nbformat_minor": 2
}
