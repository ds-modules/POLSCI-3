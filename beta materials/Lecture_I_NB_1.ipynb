{
 "cells": [
  {
   "cell_type": "code",
   "execution_count": 4,
   "metadata": {},
   "outputs": [],
   "source": [
    "from datascience import Table"
   ]
  },
  {
   "cell_type": "code",
   "execution_count": 11,
   "metadata": {},
   "outputs": [
    {
     "data": {
      "text/html": [
       "<table border=\"1\" class=\"dataframe\">\n",
       "    <thead>\n",
       "        <tr>\n",
       "            <th>Politican</th> <th>Male</th> <th>Female</th> <th>Row Total</th>\n",
       "        </tr>\n",
       "    </thead>\n",
       "    <tbody>\n",
       "        <tr>\n",
       "            <td>Obama       </td> <td>170 </td> <td>229   </td> <td>0.49     </td>\n",
       "        </tr>\n",
       "        <tr>\n",
       "            <td>Romney      </td> <td>204 </td> <td>208   </td> <td>0.51     </td>\n",
       "        </tr>\n",
       "        <tr>\n",
       "            <td>Column Total</td> <td>0.46</td> <td>0.54  </td> <td>1        </td>\n",
       "        </tr>\n",
       "    </tbody>\n",
       "</table>"
      ],
      "text/plain": [
       "Politican    | Male | Female | Row Total\n",
       "Obama        | 170  | 229    | 0.49\n",
       "Romney       | 204  | 208    | 0.51\n",
       "Column Total | 0.46 | 0.54   | 1"
      ]
     },
     "execution_count": 11,
     "metadata": {},
     "output_type": "execute_result"
    }
   ],
   "source": [
    "respond_table = Table().with_columns(\n",
    "                'Politican',['Obama', 'Romney', 'Column Total'],\n",
    "                'Male', [170, 204, .46],\n",
    "                'Female', [229, 208, .54],\n",
    "                'Row Total', [.49, .51, 1.0]\n",
    "                )\n",
    "respond_table"
   ]
  },
  {
   "cell_type": "code",
   "execution_count": null,
   "metadata": {},
   "outputs": [],
   "source": []
  }
 ],
 "metadata": {
  "kernelspec": {
   "display_name": "Python 3",
   "language": "python",
   "name": "python3"
  },
  "language_info": {
   "codemirror_mode": {
    "name": "ipython",
    "version": 3
   },
   "file_extension": ".py",
   "mimetype": "text/x-python",
   "name": "python",
   "nbconvert_exporter": "python",
   "pygments_lexer": "ipython3",
   "version": "3.7.3"
  }
 },
 "nbformat": 4,
 "nbformat_minor": 2
}
