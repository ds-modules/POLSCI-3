{
 "cells": [
  {
   "cell_type": "markdown",
   "metadata": {},
   "source": [
    "# Political Science 3 Lecture I: Hypothesis Testing\n",
    "Professor: Jason Wittenberg  \n",
    "Author: William McEachen"
   ]
  },
  {
   "cell_type": "code",
   "execution_count": 2,
   "metadata": {},
   "outputs": [],
   "source": [
    "import numpy as np\n",
    "from scipy import stats\n",
    "from datascience import Table\n",
    "import pandas as pd\n",
    "from ipywidgets import *\n",
    "import seaborn as sns\n",
    "import matplotlib.pyplot as plt\n",
    "%matplotlib inline"
   ]
  },
  {
   "cell_type": "markdown",
   "metadata": {},
   "source": [
    "### Tabular Analysis  \n",
    "In the following example, we will explore how to determine if there is a relationship between two categorical variables. Given a table of how many people voted for the 2012 presidential candidate, can we establish a connection between gender and political affiliation?"
   ]
  },
  {
   "cell_type": "markdown",
   "metadata": {},
   "source": [
    "Suppose we know that 49.2% of the sample voted for Obama and 50.8% voted for Romney, regardless of gender. The table represents the values we should expect given the total number of people. "
   ]
  },
  {
   "cell_type": "code",
   "execution_count": 11,
   "metadata": {},
   "outputs": [
    {
     "data": {
      "text/html": [
       "<table border=\"1\" class=\"dataframe\">\n",
       "    <thead>\n",
       "        <tr>\n",
       "            <th>Politican</th> <th>Male</th> <th>Female</th> <th>Row Total</th>\n",
       "        </tr>\n",
       "    </thead>\n",
       "    <tbody>\n",
       "        <tr>\n",
       "            <td>Obama       </td> <td>0.492*374=184</td> <td>0.492*437=215</td> <td>399      </td>\n",
       "        </tr>\n",
       "        <tr>\n",
       "            <td>Romney      </td> <td>0.507*374=190</td> <td>0.508*437=222</td> <td>412      </td>\n",
       "        </tr>\n",
       "        <tr>\n",
       "            <td>Column Total</td> <td>374          </td> <td>437          </td> <td>811      </td>\n",
       "        </tr>\n",
       "    </tbody>\n",
       "</table>"
      ],
      "text/plain": [
       "Politican    | Male          | Female        | Row Total\n",
       "Obama        | 0.492*374=184 | 0.492*437=215 | 399\n",
       "Romney       | 0.507*374=190 | 0.508*437=222 | 412\n",
       "Column Total | 374           | 437           | 811"
      ]
     },
     "execution_count": 11,
     "metadata": {},
     "output_type": "execute_result"
    }
   ],
   "source": [
    "expected_table = Table().with_columns(\n",
    "                'Politican',['Obama', 'Romney', 'Column Total'],\n",
    "                'Male', ['0.492*374=184', '0.507*374=190', 374],\n",
    "                'Female', ['0.492*437=215', '0.508*437=222', 437],\n",
    "                'Row Total', [399, 412, 811]\n",
    "                )\n",
    "expected_table"
   ]
  },
  {
   "cell_type": "markdown",
   "metadata": {},
   "source": [
    "If there is no relationship between gender and voting decisions, the number of voters in each cell should be proportional to the overall frequency of that politician and the overall number of people of that gender. Because we know the total number of men and women that voted, we set the expected value for each gender/politician cell to that politician's frequency (49.2% or 50.8%) multiplied by the total number of the gender (374 or 437).\n",
    "\n",
    "Now that we have the expected values, let's check the real results:"
   ]
  },
  {
   "cell_type": "code",
   "execution_count": 4,
   "metadata": {},
   "outputs": [
    {
     "data": {
      "text/html": [
       "<table border=\"1\" class=\"dataframe\">\n",
       "    <thead>\n",
       "        <tr>\n",
       "            <th>Politican</th> <th>Male</th> <th>Female</th> <th>Row Total</th>\n",
       "        </tr>\n",
       "    </thead>\n",
       "    <tbody>\n",
       "        <tr>\n",
       "            <td>Obama       </td> <td>170 </td> <td>229   </td> <td>49%      </td>\n",
       "        </tr>\n",
       "        <tr>\n",
       "            <td>Romney      </td> <td>204 </td> <td>208   </td> <td>51%      </td>\n",
       "        </tr>\n",
       "        <tr>\n",
       "            <td>Column Total</td> <td>374 </td> <td>437   </td> <td>100%     </td>\n",
       "        </tr>\n",
       "    </tbody>\n",
       "</table>"
      ],
      "text/plain": [
       "Politican    | Male | Female | Row Total\n",
       "Obama        | 170  | 229    | 49%\n",
       "Romney       | 204  | 208    | 51%\n",
       "Column Total | 374  | 437    | 100%"
      ]
     },
     "execution_count": 4,
     "metadata": {},
     "output_type": "execute_result"
    }
   ],
   "source": [
    "respond_table = Table().with_columns(\n",
    "                'Politican',['Obama', 'Romney', 'Column Total'],\n",
    "                'Male', [170, 204, 374],\n",
    "                'Female', [229, 208, 437],\n",
    "                'Row Total', ['49%', '51%', '100%']\n",
    "                )\n",
    "respond_table"
   ]
  },
  {
   "cell_type": "markdown",
   "metadata": {},
   "source": [
    "How does this compare to the expected results?"
   ]
  },
  {
   "cell_type": "code",
   "execution_count": 5,
   "metadata": {},
   "outputs": [
    {
     "data": {
      "text/html": [
       "<table border=\"1\" class=\"dataframe\">\n",
       "    <thead>\n",
       "        <tr>\n",
       "            <th>Politican</th> <th>Male</th> <th>Female</th>\n",
       "        </tr>\n",
       "    </thead>\n",
       "    <tbody>\n",
       "        <tr>\n",
       "            <td>Obama    </td> <td>Expected: 184 Actual: 170</td> <td>Expected: 215 Actual: 229</td>\n",
       "        </tr>\n",
       "        <tr>\n",
       "            <td>Romney   </td> <td>Expected: 190 Actual: 204</td> <td>Expected: 222 Actual: 208</td>\n",
       "        </tr>\n",
       "    </tbody>\n",
       "</table>"
      ],
      "text/plain": [
       "Politican | Male                      | Female\n",
       "Obama     | Expected: 184 Actual: 170 | Expected: 215 Actual: 229\n",
       "Romney    | Expected: 190 Actual: 204 | Expected: 222 Actual: 208"
      ]
     },
     "execution_count": 5,
     "metadata": {},
     "output_type": "execute_result"
    }
   ],
   "source": [
    "compare_table = Table().with_columns(\n",
    "                'Politican',['Obama', 'Romney'],\n",
    "                'Male', ['Expected: 184 Actual: 170', 'Expected: 190 Actual: 204'],\n",
    "                'Female', ['Expected: 215 Actual: 229', 'Expected: 222 Actual: 208']\n",
    "                )\n",
    "compare_table"
   ]
  },
  {
   "cell_type": "markdown",
   "metadata": {},
   "source": [
    "*Review*: What differences do you see between the expected and reported values?  \n",
    "\n",
    "\n",
    "Given the expected and actual results, we can compute the *chi square* statistic for this table. The chi square statistic is the measure used for the significance of categorical varibales (in this case voting record and gender). It is calculated by taking the the sum difference between the observed values and the expected values squared, divided by the expected value.\n",
    "$$ \\chi^2 = \\sum \\frac{(O-E)^2}{E}$$.\n",
    "\n",
    "For the election and gender case, this reduces to the following:\n",
    "$$\\frac{(170-184)^2}{184}+\\frac{(229-215)^2}{215}+\\frac{(204-190)^2}{190}+\\frac{(208-222)^2}{222}=3.892$$\n",
    "\n",
    "Using a textbook appendix (or online tables), we can determine that the difference achieves a p-value under .05, making the relationship between gender and voting behavior statistically significant for this sample."
   ]
  },
  {
   "cell_type": "markdown",
   "metadata": {},
   "source": [
    "#### Using Python\n",
    "To automatically run a chi-squared test in python, create lists of the expected values and of the observed values, and run the following:  \n",
    "<code> stats.chisquare(observed_array, f_exp=epected_array)  </code>\n",
    "\n",
    "This will return the $\\chi^2$ statistic and the associated p-value. Below, we perform the calculation for the gender/vote relationship.\n",
    "\n",
    "NOTE: This command returns a Power_divergenceResult. This holds the statistic and p-value for the data."
   ]
  },
  {
   "cell_type": "code",
   "execution_count": 9,
   "metadata": {},
   "outputs": [
    {
     "data": {
      "text/plain": [
       "Power_divergenceResult(statistic=3.891307128532396, pvalue=0.04853663397499092)"
      ]
     },
     "execution_count": 9,
     "metadata": {},
     "output_type": "execute_result"
    }
   ],
   "source": [
    "#NOTE: The expected_table above uses strings, but we need numbers for the computation to be successful. \n",
    "#The new expected_table is the original expected_table's numeric values.\n",
    "\n",
    "expected_table = Table().with_columns(\n",
    "                'Politican',['Obama', 'Romney', 'Column Total'],\n",
    "                'Male', [184, 190, 374],\n",
    "                'Female', [215, 222, 437],\n",
    "                'Row Total', [399, 412, 811]\n",
    "                )\n",
    "expected = np.append(expected_table.column('Male')[:2], expected_table.column('Female')[:2])\n",
    "reported = np.append(respond_table.column('Male')[:2], respond_table.column('Female')[:2])\n",
    "stats.chisquare(reported, f_exp=expected, ddof=2)"
   ]
  },
  {
   "cell_type": "markdown",
   "metadata": {},
   "source": [
    "As we can see, we achieve a p-value of .0485, just below the .05 threshold. Therefore, the relationship is statistically significant."
   ]
  },
  {
   "cell_type": "markdown",
   "metadata": {},
   "source": [
    "## Difference of Means: Comparing Samples\n",
    "\n",
    "When we have a continuous variable categorized by a categorical variable, we can use a *difference of means* test to determine if there is a relationship between the categorical variable and the continuous variable. For example, we would use a difference of means test to determine if there was a relationship between ice cream flavor (a categorical variable) and sales revenue (a continuous variable). In the example below, we will determine if there is a relationship between party control majority and their governing time. In parliamentary systems, the party in control often is not the majority, just a plurality. When this happens, when the governing party is the minority, does it have shorter governing times? Let's find out!"
   ]
  },
  {
   "cell_type": "markdown",
   "metadata": {},
   "source": [
    "Below, we load in a table called <code>govts_df</code> that has 4 columns: <code>nation</code>, <code>govttime</code>, the amount of time the government is in control, and <code>mingov</code>, a binary categorical variable where 1 signifies that the party was the minority. Let's load the table and plot <code>govttime</code>, separated by <code>mingov</code>."
   ]
  },
  {
   "cell_type": "code",
   "execution_count": 7,
   "metadata": {},
   "outputs": [
    {
     "name": "stdout",
     "output_type": "stream",
     "text": [
      "          nation  govttime  mingov\n",
      "0          Italy      31.0     1.0\n",
      "1        Denmark      42.0     1.0\n",
      "2        Belgium      48.0     1.0\n",
      "3        Belgium      49.0     0.0\n",
      "4        Iceland     117.0     0.0\n",
      "..           ...       ...     ...\n",
      "172  Netherlands    1555.0     0.0\n",
      "173      Belgium    1555.0     0.0\n",
      "174      Ireland    1574.0     0.0\n",
      "175  Netherlands    1683.0     0.0\n",
      "176  Netherlands    1749.0     0.0\n",
      "\n",
      "[177 rows x 3 columns]\n"
     ]
    },
    {
     "data": {
      "image/png": "[encoded data removed]",
      "text/plain": [
       "<Figure size 432x288 with 1 Axes>"
      ]
     },
     "metadata": {
      "needs_background": "light"
     },
     "output_type": "display_data"
    }
   ],
   "source": [
    "govts_df = pd.read_csv('data/govts.csv').drop('govtdate', axis=1)\n",
    "print(govts_df)\n",
    "sns.distplot(govts_df[govts_df.mingov==1]['govttime'], hist=False, label='minority')\n",
    "sns.distplot(govts_df[govts_df.mingov==0]['govttime'], hist=False, label='majority')\n",
    "# govts_df\n",
    "plt.show()"
   ]
  },
  {
   "cell_type": "markdown",
   "metadata": {},
   "source": [
    "What do you notice about the two distributions?"
   ]
  },
  {
   "cell_type": "markdown",
   "metadata": {},
   "source": [
    "To manually calculate the p-value for a statistically significant difference between the two distributions, we use the following formula, where $\\overline{Y_i}$ represents the mean for group i, $\\sigma_i$ is the standard deviation for group i, and $n_i$ is the number of rows/samples for group i:   \n",
    "$$\\frac{\\overline{Y_1}-\\overline{Y_2}}{\\sqrt{\\frac{\\sigma_1^2}{n_1}+\\frac{\\sigma_2^2}{n_2}}}$$\n",
    "\n",
    "Once we have calculated this statistic, we can use an online table or a textbook's appendix to determine if it meets the appropriate threshold for a p-value below .05."
   ]
  },
  {
   "cell_type": "markdown",
   "metadata": {},
   "source": [
    "#### Using Python\n",
    "In order to compare the distributions of values by a categorical variable, create an array for the continuous variable for each of the values of the categorical variable. Because <code>mingov</code> has 2 values, we will create 2 arrays. We then use <code>stats.ttest_ind(categorical_value_1_array, categorical_value_2_array)</code>  "
   ]
  },
  {
   "cell_type": "code",
   "execution_count": 8,
   "metadata": {},
   "outputs": [
    {
     "data": {
      "text/plain": [
       "Ttest_indResult(statistic=-3.4432201167704233, pvalue=0.0007192307610674558)"
      ]
     },
     "execution_count": 8,
     "metadata": {},
     "output_type": "execute_result"
    }
   ],
   "source": [
    "minority_arr = govts_df[govts_df.mingov==1]['govttime']\n",
    "majority_arr = govts_df[govts_df.mingov==0]['govttime']\n",
    "stats.ttest_ind(minority_arr,majority_arr)"
   ]
  },
  {
   "cell_type": "markdown",
   "metadata": {},
   "source": [
    "Above, we determined that the statistic's value was -3.44, which has a corresponding p-value of .0007, which is far under the threshold of .05. Therefore, the relationship is statistically significant."
   ]
  },
  {
   "cell_type": "markdown",
   "metadata": {},
   "source": [
    "### Interactive Visual\n",
    "Below, we visualize two distributions and calculate the difference of means statistic and p-value for the likelihood that the two distributions are truly different."
   ]
  },
  {
   "cell_type": "code",
   "execution_count": 18,
   "metadata": {
    "scrolled": false
   },
   "outputs": [
    {
     "data": {
      "application/vnd.jupyter.widget-view+json": {
       "model_id": "a6d06636e82e43128722b64b84e6f3a5",
       "version_major": 2,
       "version_minor": 0
      },
      "text/plain": [
       "interactive(children=(FloatSlider(value=5.0, description='center_diff', max=10.0), IntSlider(value=3, descript…"
      ]
     },
     "metadata": {},
     "output_type": "display_data"
    },
    {
     "data": {
      "text/plain": [
       "<function __main__.difference_plt(center_diff, dist_width)>"
      ]
     },
     "execution_count": 18,
     "metadata": {},
     "output_type": "execute_result"
    }
   ],
   "source": [
    "def difference_plt(center_diff, dist_width):\n",
    "    null_arr = np.random.randint(0,100,size=300)\n",
    "    alt_arr = np.random.randint(0,100+center_diff,size=300)\n",
    "    sns.distplot(null_arr, hist=False)\n",
    "    sns.distplot(alt_arr, hist=False)\n",
    "    print(stats.ttest_ind(null_arr, alt_arr))\n",
    "interact(difference_plt, center_diff=(0,10.0), dist_width=(1,5))"
   ]
  },
  {
   "cell_type": "markdown",
   "metadata": {},
   "source": [
    "## Covariance and Pearson's r: Continuous Variables\n"
   ]
  },
  {
   "cell_type": "markdown",
   "metadata": {},
   "source": []
  },
  {
   "cell_type": "code",
   "execution_count": 35,
   "metadata": {},
   "outputs": [
    {
     "data": {
      "text/plain": [
       "(0.5962706038173969, 0.00031645087038378904)"
      ]
     },
     "execution_count": 35,
     "metadata": {},
     "output_type": "execute_result"
    },
    {
     "data": {
      "image/png": "[encoded data removed]",
      "text/plain": [
       "<Figure size 432x288 with 1 Axes>"
      ]
     },
     "metadata": {
      "needs_background": "light"
     },
     "output_type": "display_data"
    }
   ],
   "source": [
    "fair_df = pd.read_csv('data/fair.csv')\n",
    "sns.scatterplot('GROWTH', 'VOTE', data=fair_df, color='black')\n",
    "stats.pearsonr(fair_df.GROWTH, fair_df.VOTE)"
   ]
  },
  {
   "cell_type": "markdown",
   "metadata": {},
   "source": []
  },
  {
   "cell_type": "code",
   "execution_count": 62,
   "metadata": {},
   "outputs": [
    {
     "data": {
      "text/plain": [
       "array([[ 5.30464115,  7.26570256],\n",
       "       [ 3.88405795, -0.75367051],\n",
       "       [ 4.8232762 , 17.51780082],\n",
       "       ...,\n",
       "       [ 6.02940438, 12.46285716],\n",
       "       [ 5.33705608,  5.87749915],\n",
       "       [ 5.61607586, 22.02758837]])"
      ]
     },
     "execution_count": 62,
     "metadata": {},
     "output_type": "execute_result"
    },
    {
     "data": {
      "image/png": "[encoded data removed]",
      "text/plain": [
       "<Figure size 432x288 with 1 Axes>"
      ]
     },
     "metadata": {
      "needs_background": "light"
     },
     "output_type": "display_data"
    }
   ],
   "source": [
    "def cloud():\n",
    "    sns.scatterplot(np.arange(10, step=.01), np.random.multivariate_normal([5,5], [[1,0],[0,100]], size=10000)[1].T[1])\n",
    "cloud()\n",
    "np.random.multivariate_normal([5,5], [[1,0],[0,100]], size=10000)\n"
   ]
  }
 ],
 "metadata": {
  "kernelspec": {
   "display_name": "Python 3",
   "language": "python",
   "name": "python3"
  },
  "language_info": {
   "codemirror_mode": {
    "name": "ipython",
    "version": 3
   },
   "file_extension": ".py",
   "mimetype": "text/x-python",
   "name": "python",
   "nbconvert_exporter": "python",
   "pygments_lexer": "ipython3",
   "version": "3.7.3"
  }
 },
 "nbformat": 4,
 "nbformat_minor": 2
}
