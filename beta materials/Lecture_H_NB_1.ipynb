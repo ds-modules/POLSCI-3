{
 "cells": [
  {
   "cell_type": "markdown",
   "metadata": {},
   "source": [
    "# Descriptive Statistics\n",
    "### Agenda:\n",
    "1) What are the types of data  \n",
    "2) Analyzing data?  \n",
    "3) Distributions **FIX Maybe?**  \n",
    "4) Inference **FIX**"
   ]
  },
  {
   "cell_type": "markdown",
   "metadata": {},
   "source": [
    "## Types of Data"
   ]
  },
  {
   "cell_type": "markdown",
   "metadata": {},
   "source": [
    "Once we have collected data, we need to understand the data better. Common questions might include, \"what is a \"normal\" value for this data?\" or \"is some of the data very different from the rest?\"\n",
    "\n",
    "Examples:   \n",
    "1) Scores on your midterm  \n",
    "2) Presidential election outcomes by party\n",
    "3) Gay marriage approval"
   ]
  },
  {
   "cell_type": "code",
   "execution_count": 150,
   "metadata": {},
   "outputs": [
    {
     "data": {
      "text/html": [
       "<table border=\"1\" class=\"dataframe\">\n",
       "    <thead>\n",
       "        <tr>\n",
       "            <th>student id</th> <th>midterm grade</th>\n",
       "        </tr>\n",
       "    </thead>\n",
       "    <tbody>\n",
       "        <tr>\n",
       "            <td>342109301 </td> <td>82           </td>\n",
       "        </tr>\n",
       "        <tr>\n",
       "            <td>334421680 </td> <td>86           </td>\n",
       "        </tr>\n",
       "        <tr>\n",
       "            <td>305650146 </td> <td>78           </td>\n",
       "        </tr>\n",
       "        <tr>\n",
       "            <td>323466177 </td> <td>80           </td>\n",
       "        </tr>\n",
       "        <tr>\n",
       "            <td>328982125 </td> <td>86           </td>\n",
       "        </tr>\n",
       "        <tr>\n",
       "            <td>305709526 </td> <td>80           </td>\n",
       "        </tr>\n",
       "        <tr>\n",
       "            <td>345744825 </td> <td>83           </td>\n",
       "        </tr>\n",
       "        <tr>\n",
       "            <td>329704956 </td> <td>71           </td>\n",
       "        </tr>\n",
       "        <tr>\n",
       "            <td>336314572 </td> <td>77           </td>\n",
       "        </tr>\n",
       "        <tr>\n",
       "            <td>316896098 </td> <td>75           </td>\n",
       "        </tr>\n",
       "    </tbody>\n",
       "</table>\n",
       "<p>... (290 rows omitted)</p>"
      ],
      "text/plain": [
       "student id | midterm grade\n",
       "342109301  | 82\n",
       "334421680  | 86\n",
       "305650146  | 78\n",
       "323466177  | 80\n",
       "328982125  | 86\n",
       "305709526  | 80\n",
       "345744825  | 83\n",
       "329704956  | 71\n",
       "336314572  | 77\n",
       "316896098  | 75\n",
       "... (290 rows omitted)"
      ]
     },
     "execution_count": 150,
     "metadata": {},
     "output_type": "execute_result"
    }
   ],
   "source": [
    "import numpy as np\n",
    "from scipy import stats\n",
    "from datascience import Table\n",
    "class_size = 300\n",
    "grade_table = Table().with_columns(\n",
    "    'student id', np.random.randint(300000000, 350000000, class_size),\n",
    "    'midterm grade', np.random.randint(70, 90, class_size)\n",
    ")\n",
    "grade_table"
   ]
  },
  {
   "cell_type": "code",
   "execution_count": 151,
   "metadata": {},
   "outputs": [
    {
     "data": {
      "text/html": [
       "<div>\n",
       "<style scoped>\n",
       "    .dataframe tbody tr th:only-of-type {\n",
       "        vertical-align: middle;\n",
       "    }\n",
       "\n",
       "    .dataframe tbody tr th {\n",
       "        vertical-align: top;\n",
       "    }\n",
       "\n",
       "    .dataframe thead th {\n",
       "        text-align: right;\n",
       "    }\n",
       "</style>\n",
       "<table border=\"1\" class=\"dataframe\">\n",
       "  <thead>\n",
       "    <tr style=\"text-align: right;\">\n",
       "      <th></th>\n",
       "      <th>year</th>\n",
       "      <th>political party</th>\n",
       "    </tr>\n",
       "  </thead>\n",
       "  <tbody>\n",
       "    <tr>\n",
       "      <th>0</th>\n",
       "      <td>*1789*</td>\n",
       "      <td>no formally organized parties</td>\n",
       "    </tr>\n",
       "    <tr>\n",
       "      <th>13</th>\n",
       "      <td>*1792*</td>\n",
       "      <td>Federalist</td>\n",
       "    </tr>\n",
       "    <tr>\n",
       "      <th>18</th>\n",
       "      <td>*1796*</td>\n",
       "      <td>Federalist</td>\n",
       "    </tr>\n",
       "    <tr>\n",
       "      <th>31</th>\n",
       "      <td>*1800*</td>\n",
       "      <td>Democratic-Republican</td>\n",
       "    </tr>\n",
       "    <tr>\n",
       "      <th>36</th>\n",
       "      <td>*1804*</td>\n",
       "      <td>Democratic-Republican</td>\n",
       "    </tr>\n",
       "    <tr>\n",
       "      <th>38</th>\n",
       "      <td>*1808*</td>\n",
       "      <td>Democratic-Republican</td>\n",
       "    </tr>\n",
       "    <tr>\n",
       "      <th>42</th>\n",
       "      <td>*1812*</td>\n",
       "      <td>Democratic-Republican</td>\n",
       "    </tr>\n",
       "    <tr>\n",
       "      <th>45</th>\n",
       "      <td>*1816*</td>\n",
       "      <td>Democratic-Republican</td>\n",
       "    </tr>\n",
       "    <tr>\n",
       "      <th>48</th>\n",
       "      <td>*1820*</td>\n",
       "      <td>Democratic-Republican</td>\n",
       "    </tr>\n",
       "    <tr>\n",
       "      <th>51</th>\n",
       "      <td>*1824*</td>\n",
       "      <td>no distinct party designations</td>\n",
       "    </tr>\n",
       "  </tbody>\n",
       "</table>\n",
       "</div>"
      ],
      "text/plain": [
       "      year                 political party\n",
       "0   *1789*   no formally organized parties\n",
       "13  *1792*                      Federalist\n",
       "18  *1796*                      Federalist\n",
       "31  *1800*           Democratic-Republican\n",
       "36  *1804*           Democratic-Republican\n",
       "38  *1808*           Democratic-Republican\n",
       "42  *1812*           Democratic-Republican\n",
       "45  *1816*           Democratic-Republican\n",
       "48  *1820*           Democratic-Republican\n",
       "51  *1824*  no distinct party designations"
      ]
     },
     "execution_count": 151,
     "metadata": {},
     "output_type": "execute_result"
    }
   ],
   "source": [
    "import pandas as pd\n",
    "election_table = pd.read_excel('data/desc_stats.xlsx', sheet_name=\"Sheet2\")[['year','political party']].dropna().head(10)\n",
    "election_table"
   ]
  },
  {
   "cell_type": "code",
   "execution_count": 152,
   "metadata": {},
   "outputs": [
    {
     "data": {
      "text/html": [
       "<table border=\"1\" class=\"dataframe\">\n",
       "    <thead>\n",
       "        <tr>\n",
       "            <th>student id</th> <th>policy approval</th>\n",
       "        </tr>\n",
       "    </thead>\n",
       "    <tbody>\n",
       "        <tr>\n",
       "            <td>320155890 </td> <td>Dislike Somewhat</td>\n",
       "        </tr>\n",
       "        <tr>\n",
       "            <td>336041432 </td> <td>Dislike Somewhat</td>\n",
       "        </tr>\n",
       "        <tr>\n",
       "            <td>330715288 </td> <td>Dislike Somewhat</td>\n",
       "        </tr>\n",
       "        <tr>\n",
       "            <td>341898187 </td> <td>Like Somewhat   </td>\n",
       "        </tr>\n",
       "        <tr>\n",
       "            <td>328506613 </td> <td>Dislike         </td>\n",
       "        </tr>\n",
       "        <tr>\n",
       "            <td>342713283 </td> <td>Like Somewhat   </td>\n",
       "        </tr>\n",
       "        <tr>\n",
       "            <td>341441587 </td> <td>Neutral         </td>\n",
       "        </tr>\n",
       "        <tr>\n",
       "            <td>314689299 </td> <td>Neutral         </td>\n",
       "        </tr>\n",
       "        <tr>\n",
       "            <td>305115159 </td> <td>Dislike Somewhat</td>\n",
       "        </tr>\n",
       "        <tr>\n",
       "            <td>341054602 </td> <td>Neutral         </td>\n",
       "        </tr>\n",
       "    </tbody>\n",
       "</table>"
      ],
      "text/plain": [
       "student id | policy approval\n",
       "320155890  | Dislike Somewhat\n",
       "336041432  | Dislike Somewhat\n",
       "330715288  | Dislike Somewhat\n",
       "341898187  | Like Somewhat\n",
       "328506613  | Dislike\n",
       "342713283  | Like Somewhat\n",
       "341441587  | Neutral\n",
       "314689299  | Neutral\n",
       "305115159  | Dislike Somewhat\n",
       "341054602  | Neutral"
      ]
     },
     "execution_count": 152,
     "metadata": {},
     "output_type": "execute_result"
    }
   ],
   "source": [
    "%matplotlib inline\n",
    "ord_vals = ['Like','Like Somewhat','Neutral','Dislike Somewhat','Dislike']\n",
    "np.random.choice(ord_vals, 10)\n",
    "approval_table = Table().with_columns(\n",
    "    'student id', np.random.randint(300000000, 350000000, 10),\n",
    "    'policy approval', np.random.choice(ord_vals, 10)\n",
    ")\n",
    "approval_table"
   ]
  },
  {
   "cell_type": "markdown",
   "metadata": {},
   "source": [
    "### Measurement Metric\n",
    "\n",
    "Different sets of data, or variables, often have different kinds of values that the data/variable can hold. In the two examples above, the \"midterm grade\" data can have numeric values between 70 and 90, and \"political party\" can be any one of the political parties in US history.\n",
    "\n",
    "**How can we differentiate between these kinds of data?**\n",
    "\n",
    "The *measurement metric* of a variable is the type of value the variable can take on. Variables are one of three types: *categorical*, *ordinal*, and *continuous*. Let's take a look at each of these."
   ]
  },
  {
   "cell_type": "markdown",
   "metadata": {},
   "source": [
    "### Categorical Variables\n",
    "Categorical variables are variables that take on one of a finite, unordered, list of values. Above, the winning political party is a categorical variable because its values are from a finite set (Republican, Democrat, Whig, etc). Additionally, there is no ordering between these parties.\n",
    "\n",
    "Additional examples: religious identification, dog breed, colors.\n",
    "\n",
    "**Check Your Understanding:**\n",
    "Above, would midterm grades count as a categorical variable? Why or why not?"
   ]
  },
  {
   "cell_type": "markdown",
   "metadata": {},
   "source": [
    "### Ordinal Variables\n",
    "Ordinal variables are variables that take on one of a finite, *ordered*, list of values. Above, the approval rating is a categorical variable because its values are from a finite set (like, dislike, neutral, etc). Additionally, there is an ordering between the values: \"like\" has a higher ranking than \"neutral\" or \"dislike\".\n",
    "\n",
    "Additional examples: socioeconomic status (e.g middle class), health status (\"healthy\", \"somewhat sick\", etc).\n",
    "\n",
    "**Check Your Understanding:**\n",
    "Above, would midterm grades count as an ordinal variable? Why or why not? What about political party?"
   ]
  },
  {
   "cell_type": "markdown",
   "metadata": {},
   "source": [
    "### Continuous Variables\n",
    "Continuous variables are variables that take on one of a *potentially* infinite, ordered, list of values. Above, the midterm grade variable is continuous because its values are any numeric value between 70 and 90..\n",
    "\n",
    "Additional examples: income, age, temperature.\n",
    "\n",
    "What's the difference between continuous and ordinal variables? While it can appear that continuous and ordinal variables are the same, there is an important distinction: *equal unit difference*. For ordinal variables, the difference between each value does not have to be the same. For continuous variables, the difference must be the same. For example, if measuring socioeconomic status (an ordinal variable), the difference between \"lower class\" and \"middle class\" is not necessarily the same difference between \"middle class\" and \"upper class\". In contrast, units of age are equidistant: the difference between age 11 and 12 is the same as between 29 and 30.\n",
    "\n",
    "**Check Your Understanding:**\n",
    "Above, would approval rating count as a continuous variable? Why or why not?"
   ]
  },
  {
   "cell_type": "markdown",
   "metadata": {},
   "source": [
    "## Analyzing Data"
   ]
  },
  {
   "cell_type": "markdown",
   "metadata": {},
   "source": [
    "There are two ways to describe a variable: measures of *central tendency* and *variation* (or *dispersion*). \n",
    "\n"
   ]
  },
  {
   "cell_type": "markdown",
   "metadata": {},
   "source": [
    "### Central Tendency\n",
    "What are typical values of the variable?"
   ]
  },
  {
   "cell_type": "markdown",
   "metadata": {},
   "source": [
    "There are 3 ways of measuring central tendency: mode, mean, median.  \n",
    "1) *Mode*: the value that occurs most frequently in the data  \n",
    "2) *Mean*: the average value, calculated by adding all values of the variable together and dividing by the number of occurences of the variable.  \n",
    "3) *Median*: the middle value, calculated by ordering all values of the variable by their rank, and choosing the value in the middle."
   ]
  },
  {
   "cell_type": "markdown",
   "metadata": {},
   "source": [
    "#### Use Cases "
   ]
  },
  {
   "cell_type": "markdown",
   "metadata": {},
   "source": [
    "**Mode:**  \n",
    "Can we use mean or median for categorical variables? No! Because there is no rank system, no order, between values, we can not apply normal arithmetic operators such as addition or multiplication. Therefore, we must rely on mode for categorical variables. \n",
    "\n",
    "*Check Your Understanding*: What's the mode value of election_table below?"
   ]
  },
  {
   "cell_type": "code",
   "execution_count": 153,
   "metadata": {},
   "outputs": [
    {
     "data": {
      "text/html": [
       "<div>\n",
       "<style scoped>\n",
       "    .dataframe tbody tr th:only-of-type {\n",
       "        vertical-align: middle;\n",
       "    }\n",
       "\n",
       "    .dataframe tbody tr th {\n",
       "        vertical-align: top;\n",
       "    }\n",
       "\n",
       "    .dataframe thead th {\n",
       "        text-align: right;\n",
       "    }\n",
       "</style>\n",
       "<table border=\"1\" class=\"dataframe\">\n",
       "  <thead>\n",
       "    <tr style=\"text-align: right;\">\n",
       "      <th></th>\n",
       "      <th>year</th>\n",
       "      <th>political party</th>\n",
       "    </tr>\n",
       "  </thead>\n",
       "  <tbody>\n",
       "    <tr>\n",
       "      <th>0</th>\n",
       "      <td>*1789*</td>\n",
       "      <td>no formally organized parties</td>\n",
       "    </tr>\n",
       "    <tr>\n",
       "      <th>13</th>\n",
       "      <td>*1792*</td>\n",
       "      <td>Federalist</td>\n",
       "    </tr>\n",
       "    <tr>\n",
       "      <th>18</th>\n",
       "      <td>*1796*</td>\n",
       "      <td>Federalist</td>\n",
       "    </tr>\n",
       "    <tr>\n",
       "      <th>31</th>\n",
       "      <td>*1800*</td>\n",
       "      <td>Democratic-Republican</td>\n",
       "    </tr>\n",
       "    <tr>\n",
       "      <th>36</th>\n",
       "      <td>*1804*</td>\n",
       "      <td>Democratic-Republican</td>\n",
       "    </tr>\n",
       "    <tr>\n",
       "      <th>38</th>\n",
       "      <td>*1808*</td>\n",
       "      <td>Democratic-Republican</td>\n",
       "    </tr>\n",
       "    <tr>\n",
       "      <th>42</th>\n",
       "      <td>*1812*</td>\n",
       "      <td>Democratic-Republican</td>\n",
       "    </tr>\n",
       "    <tr>\n",
       "      <th>45</th>\n",
       "      <td>*1816*</td>\n",
       "      <td>Democratic-Republican</td>\n",
       "    </tr>\n",
       "    <tr>\n",
       "      <th>48</th>\n",
       "      <td>*1820*</td>\n",
       "      <td>Democratic-Republican</td>\n",
       "    </tr>\n",
       "    <tr>\n",
       "      <th>51</th>\n",
       "      <td>*1824*</td>\n",
       "      <td>no distinct party designations</td>\n",
       "    </tr>\n",
       "  </tbody>\n",
       "</table>\n",
       "</div>"
      ],
      "text/plain": [
       "      year                 political party\n",
       "0   *1789*   no formally organized parties\n",
       "13  *1792*                      Federalist\n",
       "18  *1796*                      Federalist\n",
       "31  *1800*           Democratic-Republican\n",
       "36  *1804*           Democratic-Republican\n",
       "38  *1808*           Democratic-Republican\n",
       "42  *1812*           Democratic-Republican\n",
       "45  *1816*           Democratic-Republican\n",
       "48  *1820*           Democratic-Republican\n",
       "51  *1824*  no distinct party designations"
      ]
     },
     "execution_count": 153,
     "metadata": {},
     "output_type": "execute_result"
    }
   ],
   "source": [
    "election_table"
   ]
  },
  {
   "cell_type": "markdown",
   "metadata": {},
   "source": [
    "**Median:**  \n",
    "We can use the median measurement for ordinal and continuous variables. \n",
    "\n",
    "How can we calculate the median value for an ordinal variable? Because ordinal variables have a ranking, we can find the middle value.\n",
    "\n",
    "*Check Your Understanding*: What's the median value of \"policy approval\" below?"
   ]
  },
  {
   "cell_type": "code",
   "execution_count": 154,
   "metadata": {},
   "outputs": [
    {
     "data": {
      "text/html": [
       "<table border=\"1\" class=\"dataframe\">\n",
       "    <thead>\n",
       "        <tr>\n",
       "            <th>student id</th> <th>policy approval</th>\n",
       "        </tr>\n",
       "    </thead>\n",
       "    <tbody>\n",
       "        <tr>\n",
       "            <td>320155890 </td> <td>Dislike Somewhat</td>\n",
       "        </tr>\n",
       "        <tr>\n",
       "            <td>336041432 </td> <td>Dislike Somewhat</td>\n",
       "        </tr>\n",
       "        <tr>\n",
       "            <td>330715288 </td> <td>Dislike Somewhat</td>\n",
       "        </tr>\n",
       "        <tr>\n",
       "            <td>341898187 </td> <td>Like Somewhat   </td>\n",
       "        </tr>\n",
       "        <tr>\n",
       "            <td>328506613 </td> <td>Dislike         </td>\n",
       "        </tr>\n",
       "        <tr>\n",
       "            <td>342713283 </td> <td>Like Somewhat   </td>\n",
       "        </tr>\n",
       "        <tr>\n",
       "            <td>341441587 </td> <td>Neutral         </td>\n",
       "        </tr>\n",
       "        <tr>\n",
       "            <td>314689299 </td> <td>Neutral         </td>\n",
       "        </tr>\n",
       "        <tr>\n",
       "            <td>305115159 </td> <td>Dislike Somewhat</td>\n",
       "        </tr>\n",
       "        <tr>\n",
       "            <td>341054602 </td> <td>Neutral         </td>\n",
       "        </tr>\n",
       "    </tbody>\n",
       "</table>"
      ],
      "text/plain": [
       "student id | policy approval\n",
       "320155890  | Dislike Somewhat\n",
       "336041432  | Dislike Somewhat\n",
       "330715288  | Dislike Somewhat\n",
       "341898187  | Like Somewhat\n",
       "328506613  | Dislike\n",
       "342713283  | Like Somewhat\n",
       "341441587  | Neutral\n",
       "314689299  | Neutral\n",
       "305115159  | Dislike Somewhat\n",
       "341054602  | Neutral"
      ]
     },
     "execution_count": 154,
     "metadata": {},
     "output_type": "execute_result"
    }
   ],
   "source": [
    "approval_table"
   ]
  },
  {
   "cell_type": "markdown",
   "metadata": {},
   "source": [
    "**Mean:**  \n",
    "We can use the mean measurement for continuous variables. For a variable $X$, its mean, $\\overline{X}$, can be found thus:\n",
    "\n",
    "$$\\overline{X} = \\frac{\\sum_{i=1}^{n}X_i}{n}$$\n",
    "\n",
    "*Check Your Understanding*: What's the mean value of \"midterm grade\" below?"
   ]
  },
  {
   "cell_type": "code",
   "execution_count": 155,
   "metadata": {},
   "outputs": [
    {
     "data": {
      "text/html": [
       "<table border=\"1\" class=\"dataframe\">\n",
       "    <thead>\n",
       "        <tr>\n",
       "            <th>student id</th> <th>midterm grade</th>\n",
       "        </tr>\n",
       "    </thead>\n",
       "    <tbody>\n",
       "        <tr>\n",
       "            <td>342109301 </td> <td>82           </td>\n",
       "        </tr>\n",
       "        <tr>\n",
       "            <td>334421680 </td> <td>86           </td>\n",
       "        </tr>\n",
       "        <tr>\n",
       "            <td>305650146 </td> <td>78           </td>\n",
       "        </tr>\n",
       "        <tr>\n",
       "            <td>323466177 </td> <td>80           </td>\n",
       "        </tr>\n",
       "        <tr>\n",
       "            <td>328982125 </td> <td>86           </td>\n",
       "        </tr>\n",
       "        <tr>\n",
       "            <td>305709526 </td> <td>80           </td>\n",
       "        </tr>\n",
       "        <tr>\n",
       "            <td>345744825 </td> <td>83           </td>\n",
       "        </tr>\n",
       "        <tr>\n",
       "            <td>329704956 </td> <td>71           </td>\n",
       "        </tr>\n",
       "        <tr>\n",
       "            <td>336314572 </td> <td>77           </td>\n",
       "        </tr>\n",
       "        <tr>\n",
       "            <td>316896098 </td> <td>75           </td>\n",
       "        </tr>\n",
       "    </tbody>\n",
       "</table>"
      ],
      "text/plain": [
       "student id | midterm grade\n",
       "342109301  | 82\n",
       "334421680  | 86\n",
       "305650146  | 78\n",
       "323466177  | 80\n",
       "328982125  | 86\n",
       "305709526  | 80\n",
       "345744825  | 83\n",
       "329704956  | 71\n",
       "336314572  | 77\n",
       "316896098  | 75"
      ]
     },
     "execution_count": 155,
     "metadata": {},
     "output_type": "execute_result"
    }
   ],
   "source": [
    "grade_table.take[:10]"
   ]
  },
  {
   "cell_type": "markdown",
   "metadata": {},
   "source": [
    "### Using Python\n",
    "Python makes calculating measures of central tendency easy!  \n",
    "1) *Mode*: call stats.mode() on the table column of interest  \n",
    "2) *Median*: call np.median() on the table column of interest  \n",
    "3) *Mean*: call np.mean() on the table column of interest"
   ]
  },
  {
   "cell_type": "code",
   "execution_count": 156,
   "metadata": {},
   "outputs": [
    {
     "name": "stdout",
     "output_type": "stream",
     "text": [
      "Mode:  ModeResult(mode=array(['Dislike Somewhat'], dtype='<U16'), count=array([4]))\n",
      "Median:  79.5\n",
      "Mean:  79.44333333333333\n"
     ]
    }
   ],
   "source": [
    "#Mode\n",
    "print(\"Mode: \", stats.mode(approval_table.column('policy approval')))\n",
    "#Median\n",
    "print(\"Median: \", np.median(grade_table.column('midterm grade')))\n",
    "# Mean\n",
    "print(\"Mean: \", np.mean(grade_table.column('midterm grade')))"
   ]
  },
  {
   "cell_type": "markdown",
   "metadata": {},
   "source": [
    "### Variation/Dispersion\n",
    "How much do the values of the variable vary? The most common measurement is the *standard deviation*, which is calculated by looking at the average difference between the average value and all actual values of the variable.\n",
    "$$Standard Deviation(X) = \\sqrt{(variance(X))}= \\sqrt{\\frac{\\sum_{i=1}^{n} (X_i - \\overline{X})^2}{n-1}}$$\n",
    "\n",
    "Let's take a look at an example with the midterm scores:"
   ]
  },
  {
   "cell_type": "code",
   "execution_count": 159,
   "metadata": {},
   "outputs": [
    {
     "data": {
      "text/html": [
       "<table border=\"1\" class=\"dataframe\">\n",
       "    <thead>\n",
       "        <tr>\n",
       "            <th>midterm grade</th>\n",
       "        </tr>\n",
       "    </thead>\n",
       "    <tbody>\n",
       "        <tr>\n",
       "            <td>82           </td>\n",
       "        </tr>\n",
       "        <tr>\n",
       "            <td>86           </td>\n",
       "        </tr>\n",
       "        <tr>\n",
       "            <td>78           </td>\n",
       "        </tr>\n",
       "        <tr>\n",
       "            <td>80           </td>\n",
       "        </tr>\n",
       "        <tr>\n",
       "            <td>86           </td>\n",
       "        </tr>\n",
       "        <tr>\n",
       "            <td>80           </td>\n",
       "        </tr>\n",
       "        <tr>\n",
       "            <td>83           </td>\n",
       "        </tr>\n",
       "        <tr>\n",
       "            <td>71           </td>\n",
       "        </tr>\n",
       "        <tr>\n",
       "            <td>77           </td>\n",
       "        </tr>\n",
       "        <tr>\n",
       "            <td>75           </td>\n",
       "        </tr>\n",
       "    </tbody>\n",
       "</table>"
      ],
      "text/plain": [
       "midterm grade\n",
       "82\n",
       "86\n",
       "78\n",
       "80\n",
       "86\n",
       "80\n",
       "83\n",
       "71\n",
       "77\n",
       "75"
      ]
     },
     "execution_count": 159,
     "metadata": {},
     "output_type": "execute_result"
    }
   ],
   "source": [
    "# The values\n",
    "grade_table.select('midterm grade').take[:10]"
   ]
  },
  {
   "cell_type": "code",
   "execution_count": 160,
   "metadata": {},
   "outputs": [
    {
     "data": {
      "text/plain": [
       "79.44333333333333"
      ]
     },
     "execution_count": 160,
     "metadata": {},
     "output_type": "execute_result"
    }
   ],
   "source": [
    "#The mean:\n",
    "np.mean(grade_table.column('midterm grade'))"
   ]
  },
  {
   "cell_type": "markdown",
   "metadata": {},
   "source": [
    "Given the two above, calculate the standard deviation!"
   ]
  },
  {
   "cell_type": "markdown",
   "metadata": {},
   "source": [
    "### Using Python\n",
    "Python makes calculating measures of variance easy!  \n",
    "1) *Standard Deviation*: call np.std() on the table column of interest  \n",
    "The above is a shorthand for the above calculation, which we can prove below:"
   ]
  },
  {
   "cell_type": "code",
   "execution_count": 161,
   "metadata": {},
   "outputs": [
    {
     "name": "stdout",
     "output_type": "stream",
     "text": [
      "5.850936297342123\n",
      "5.850936297342123\n",
      "5.850936297342124\n"
     ]
    }
   ],
   "source": [
    "grades_list = grade_table.column('midterm grade')\n",
    "print(np.std(grades_list))\n",
    "print(np.sqrt(np.var(grades_list)))\n",
    "print(np.sqrt(sum((grades_list-np.mean(grades_list))**2)/(len(grades_list))))"
   ]
  },
  {
   "cell_type": "markdown",
   "metadata": {},
   "source": [
    "Let's review each of the functions used above:  \n",
    "* np.std(): calculate the standard deviation of a list  \n",
    "* np.sqrt(): calculate the square root of a value  \n",
    "* np.var(): calculate the variance of a list  \n",
    "* len(): calculate the number of items in a list (our *n*)"
   ]
  },
  {
   "cell_type": "markdown",
   "metadata": {},
   "source": [
    "## Distributions\n",
    "We have covered how to calculate the key statistics for a variable. Most often, these variables represent samples of larger distributions, or sets of values. Collecting data from an entire population is expensive, and so most data sets will be limited to samples of the population. However, a problem arises from this: we normally want the statistics for the overall population, not just the sample.\n",
    "\n",
    "For example, when determining presidential approval, surveys will create samples of 1-3,000 responses. However, we are rarely concerned with just the opinions of the survey respondents, but rather the broader American people. How can we determine the \"true\" statistical values for the population when we only have the sample values?"
   ]
  },
  {
   "cell_type": "markdown",
   "metadata": {},
   "source": [
    "### Central Limit Theorem"
   ]
  },
  {
   "cell_type": "markdown",
   "metadata": {},
   "source": [
    "In order to understand the central limit theorem, we should start with a simple example: rolling dice"
   ]
  },
  {
   "cell_type": "code",
   "execution_count": 203,
   "metadata": {},
   "outputs": [
    {
     "data": {
      "application/vnd.jupyter.widget-view+json": {
       "model_id": "3ebb7a938e4e4a2ca803b968621926da",
       "version_major": 2,
       "version_minor": 0
      },
      "text/plain": [
       "interactive(children=(IntSlider(value=500, description='center', max=1000), IntSlider(value=5500, description=…"
      ]
     },
     "metadata": {},
     "output_type": "display_data"
    }
   ],
   "source": [
    "#Central limit Theorem\n",
    "from ipywidgets import *\n",
    "def show_dist(dist_func):\n",
    "    def normal_dist(center, sample_size):\n",
    "        x = dist_func(center, size=sample_size)\n",
    "        sns.distplot(x, hist=False, color='0')\n",
    "        avg = np.mean(x)\n",
    "        std_dev = np.std(x)\n",
    "        for position in [avg - 1*std_dev, avg + 1*std_dev, avg - 2*std_dev, avg + 2*std_dev]:\n",
    "            plt.axvline(position, color='r')\n",
    "        plt.show();\n",
    "    interact(normal_dist,center=(0,1000), sample_size=(1000,10000))\n",
    "show_dist(np.random.normal)"
   ]
  },
  {
   "cell_type": "code",
   "execution_count": 191,
   "metadata": {},
   "outputs": [
    {
     "data": {
      "application/vnd.jupyter.widget-view+json": {
       "model_id": "5f2b5ba812f8467ea92f13abb5d97fef",
       "version_major": 2,
       "version_minor": 0
      },
      "text/plain": [
       "interactive(children=(IntSlider(value=505, description='rolls', max=1000, min=10), Output()), _dom_classes=('w…"
      ]
     },
     "metadata": {},
     "output_type": "display_data"
    },
    {
     "data": {
      "text/plain": [
       "<function __main__.<lambda>(rolls)>"
      ]
     },
     "execution_count": 191,
     "metadata": {},
     "output_type": "execute_result"
    }
   ],
   "source": [
    "#Dice rolling\n",
    "faces = [1,2,3,4,5,6]\n",
    "interact(lambda rolls : sns.distplot(np.random.choice(faces, rolls), kde=False, bins=6), rolls=(10,1000))"
   ]
  },
  {
   "cell_type": "code",
   "execution_count": 193,
   "metadata": {},
   "outputs": [
    {
     "data": {
      "application/vnd.jupyter.widget-view+json": {
       "model_id": "6709fd8b6b07454fa6daebe3028d1400",
       "version_major": 2,
       "version_minor": 0
      },
      "text/plain": [
       "interactive(children=(IntSlider(value=5050, description='num_distributions', max=10000, min=100), Output()), _…"
      ]
     },
     "metadata": {},
     "output_type": "display_data"
    },
    {
     "data": {
      "text/plain": [
       "<function __main__.mean_distribution(num_distributions)>"
      ]
     },
     "execution_count": 193,
     "metadata": {},
     "output_type": "execute_result"
    }
   ],
   "source": [
    "#Dice Rolling Average\n",
    "def mean_distribution(num_distributions):\n",
    "    average_values = []\n",
    "    for _ in range(num_distributions):\n",
    "        faces = [1,2,3,4,5,6]\n",
    "        rolls = np.random.choice(faces, 100)\n",
    "        average_value = np.mean(rolls)\n",
    "        average_values.append(average_value)\n",
    "    sns.distplot(average_values, hist=False)\n",
    "interact(mean_distribution, num_distributions=(100,10000))"
   ]
  },
  {
   "cell_type": "code",
   "execution_count": null,
   "metadata": {},
   "outputs": [],
   "source": []
  }
 ],
 "metadata": {
  "kernelspec": {
   "display_name": "Python 3",
   "language": "python",
   "name": "python3"
  },
  "language_info": {
   "codemirror_mode": {
    "name": "ipython",
    "version": 3
   },
   "file_extension": ".py",
   "mimetype": "text/x-python",
   "name": "python",
   "nbconvert_exporter": "python",
   "pygments_lexer": "ipython3",
   "version": "3.7.3"
  }
 },
 "nbformat": 4,
 "nbformat_minor": 2
}
