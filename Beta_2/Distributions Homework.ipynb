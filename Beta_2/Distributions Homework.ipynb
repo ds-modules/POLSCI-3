{
 "cells": [
  {
   "cell_type": "markdown",
   "metadata": {},
   "source": [
    "# Distributions Homework\n",
    "In this homework we will explore how distributions of data impact our ability to draw conclusions about observations. From weighted coins to polling responses, we will determine how much we can take away from our data.  \n",
    "\n",
    "**Outline:**  \n",
    "1) Generate distributions of data  \n",
    "2) Produce sampling distributions  \n",
    "3) Review concepts of sampling distributions  \n",
    "**TODO**"
   ]
  },
  {
   "cell_type": "code",
   "execution_count": 59,
   "metadata": {},
   "outputs": [],
   "source": [
    "import numpy as np\n",
    "import scipy.stats as stats\n",
    "import matplotlib.pyplot as plt"
   ]
  },
  {
   "cell_type": "markdown",
   "metadata": {},
   "source": [
    "## Generating Distributions\n",
    "To start, let's consider a probabilistic distribution. While the example uses the flip of a coin, you will be using the roll of a die. Below, we can simulate flipping the coin once using <code>np.random.choice</code>. Below, there are two options for outcomes of a coin flip: a 0 signifying tails or a 1 signifying heads."
   ]
  },
  {
   "cell_type": "code",
   "execution_count": 60,
   "metadata": {},
   "outputs": [
    {
     "data": {
      "text/plain": [
       "0"
      ]
     },
     "execution_count": 60,
     "metadata": {},
     "output_type": "execute_result"
    }
   ],
   "source": [
    "coin_choices = [0, 1]\n",
    "coin_flip = np.random.choice(coin_choices)\n",
    "coin_flip"
   ]
  },
  {
   "cell_type": "markdown",
   "metadata": {},
   "source": [
    "In the cell below, reproduce the roll of a die:"
   ]
  },
  {
   "cell_type": "code",
   "execution_count": 61,
   "metadata": {},
   "outputs": [
    {
     "data": {
      "text/plain": [
       "2"
      ]
     },
     "execution_count": 61,
     "metadata": {},
     "output_type": "execute_result"
    }
   ],
   "source": [
    "##Your Answer Here\n",
    "die_choices = [1,2,3,4,5,6]\n",
    "die_roll = np.random.choice(die_choices)\n",
    "die_roll"
   ]
  },
  {
   "cell_type": "markdown",
   "metadata": {},
   "source": [
    "By running the cell multiple times, you should see different outcomes: sometimes a 1, other times a 2, etc. We can reproduce this by adding a parameter to our previous function call: <code>size</code>. Below, we simulate flipping a coin 30 times."
   ]
  },
  {
   "cell_type": "code",
   "execution_count": 62,
   "metadata": {},
   "outputs": [
    {
     "data": {
      "text/plain": [
       "array([0, 1, 1, 0, 1, 1, 0, 1, 0, 1, 0, 0, 1, 0, 0, 1, 1, 0, 1, 1, 1, 0,\n",
       "       1, 0, 1, 1, 0, 1, 0, 1])"
      ]
     },
     "execution_count": 62,
     "metadata": {},
     "output_type": "execute_result"
    }
   ],
   "source": [
    "coin_flips = np.random.choice(coin_choices, size=30)\n",
    "coin_flips"
   ]
  },
  {
   "cell_type": "markdown",
   "metadata": {},
   "source": [
    "In the cell below, reproduce the roll of a die 100 times:"
   ]
  },
  {
   "cell_type": "code",
   "execution_count": 63,
   "metadata": {},
   "outputs": [
    {
     "data": {
      "text/plain": [
       "array([3, 5, 3, 2, 3, 2, 4, 3, 1, 6, 4, 6, 1, 2, 4, 6, 1, 5, 6, 2, 1, 2,\n",
       "       6, 5, 1, 4, 5, 5, 5, 5, 2, 1, 3, 6, 2, 2, 6, 6, 2, 1, 1, 2, 4, 5,\n",
       "       1, 6, 4, 6, 3, 3, 6, 2, 5, 3, 5, 6, 1, 6, 5, 5, 3, 3, 1, 4, 5, 5,\n",
       "       1, 6, 4, 5, 4, 2, 3, 4, 3, 2, 1, 3, 5, 6, 4, 3, 4, 4, 5, 6, 6, 3,\n",
       "       5, 6, 6, 6, 6, 2, 2, 1, 1, 1, 2, 1])"
      ]
     },
     "execution_count": 63,
     "metadata": {},
     "output_type": "execute_result"
    }
   ],
   "source": [
    "## Your Answer Here\n",
    "dice_rolls = np.random.choice(die_choices, size=100)\n",
    "dice_rolls"
   ]
  },
  {
   "cell_type": "markdown",
   "metadata": {},
   "source": [
    "To better understand our data, we will want to visualize it. The <code>plt.hist</code> function allows you to prduce a histogram of the data we produced. What do you notice about the ratio of heads to tails?"
   ]
  },
  {
   "cell_type": "code",
   "execution_count": 68,
   "metadata": {},
   "outputs": [
    {
     "data": {
      "text/plain": [
       "(array([13.,  0.,  0.,  0.,  0.,  0.,  0.,  0.,  0., 17.]),\n",
       " array([0. , 0.1, 0.2, 0.3, 0.4, 0.5, 0.6, 0.7, 0.8, 0.9, 1. ]),\n",
       " <a list of 10 Patch objects>)"
      ]
     },
     "execution_count": 68,
     "metadata": {},
     "output_type": "execute_result"
    },
    {
     "data": {
      "image/png": "[encoded data removed]",
      "text/plain": [
       "<Figure size 432x288 with 1 Axes>"
      ]
     },
     "metadata": {
      "needs_background": "light"
     },
     "output_type": "display_data"
    }
   ],
   "source": [
    "plt.hist(coin_flips)"
   ]
  },
  {
   "cell_type": "markdown",
   "metadata": {},
   "source": [
    "In the cell below, reproduce the histogram above with dice rolls:"
   ]
  },
  {
   "cell_type": "code",
   "execution_count": 69,
   "metadata": {},
   "outputs": [
    {
     "data": {
      "text/plain": [
       "(array([17.,  0., 16.,  0., 15.,  0., 13.,  0., 18., 21.]),\n",
       " array([1. , 1.5, 2. , 2.5, 3. , 3.5, 4. , 4.5, 5. , 5.5, 6. ]),\n",
       " <a list of 10 Patch objects>)"
      ]
     },
     "execution_count": 69,
     "metadata": {},
     "output_type": "execute_result"
    },
    {
     "data": {
      "image/png": "[encoded data removed]",
      "text/plain": [
       "<Figure size 432x288 with 1 Axes>"
      ]
     },
     "metadata": {
      "needs_background": "light"
     },
     "output_type": "display_data"
    }
   ],
   "source": [
    "## Your Code Here:\n",
    "plt.hist(dice_rolls)"
   ]
  },
  {
   "cell_type": "code",
   "execution_count": null,
   "metadata": {},
   "outputs": [],
   "source": []
  }
 ],
 "metadata": {
  "kernelspec": {
   "display_name": "Python 3",
   "language": "python",
   "name": "python3"
  },
  "language_info": {
   "codemirror_mode": {
    "name": "ipython",
    "version": 3
   },
   "file_extension": ".py",
   "mimetype": "text/x-python",
   "name": "python",
   "nbconvert_exporter": "python",
   "pygments_lexer": "ipython3",
   "version": "3.7.4"
  }
 },
 "nbformat": 4,
 "nbformat_minor": 2
}
