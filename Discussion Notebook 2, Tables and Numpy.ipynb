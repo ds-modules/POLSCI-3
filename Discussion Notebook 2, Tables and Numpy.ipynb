{
 "cells": [
  {
   "cell_type": "markdown",
   "metadata": {},
   "source": [
    "# POLSCI 3 Fall 2019\n",
    "\n",
    "## Discussion 2: Using Tables and Numpy\n",
    "\n",
    "In this notebook, we will cover additional material that Python provides. In the first notebook, we only used the built-in functionality that Python provides. However, we can also use *libaries*, which are packages of code that give us additional functionality. In this notebook, we will cover how to use <code>Numpy</code>, a library for calculating mathematical and statistical values quickly, and <code>datascience</code>, a library for working with tables."
   ]
  },
  {
   "cell_type": "markdown",
   "metadata": {},
   "source": [
    "## Numpy\n",
    "The basis for numpy is the numpy array. It allows us to store numeric values much more efficientially than standard Python arrays, and presents new functions for our lists. To start, we need to import the libary to be able to access it. In the cell below, we import numpy using a nickname, \"np\"."
   ]
  },
  {
   "cell_type": "code",
   "execution_count": 1,
   "metadata": {},
   "outputs": [],
   "source": [
    "import numpy as np"
   ]
  },
  {
   "cell_type": "markdown",
   "metadata": {},
   "source": [
    "Next, let's practice making numpy arrays. To create a numpy array, call <code>np.array()</code>, using a basic Python array as the input:"
   ]
  },
  {
   "cell_type": "code",
   "execution_count": 2,
   "metadata": {},
   "outputs": [
    {
     "data": {
      "text/plain": [
       "array([10,  9, 13])"
      ]
     },
     "execution_count": 2,
     "metadata": {},
     "output_type": "execute_result"
    }
   ],
   "source": [
    "x = 10\n",
    "y = 9\n",
    "z = 13\n",
    "numbers = [x, y, z] #The standard Python array\n",
    "np.array(numbers) #Converting the standard to Numpy"
   ]
  },
  {
   "cell_type": "markdown",
   "metadata": {},
   "source": [
    "To practice, create a numpy array called <code>more_numbers</code> that holds the values 1868, 538, and 435. "
   ]
  },
  {
   "cell_type": "code",
   "execution_count": 3,
   "metadata": {},
   "outputs": [
    {
     "data": {
      "text/plain": [
       "array([1868,  538,  435])"
      ]
     },
     "execution_count": 3,
     "metadata": {},
     "output_type": "execute_result"
    }
   ],
   "source": [
    "# YOUR CODE HERE: Delete this line and practice. If you struggle, ask your GSI for help!\n",
    "more_numbers = np.array([1868, 538, 435])\n",
    "more_numbers"
   ]
  },
  {
   "cell_type": "markdown",
   "metadata": {},
   "source": [
    "Unlike normal Python arrays, Numpy arrays allow us to perform mathematical operations on their contents. For example, we can square every value in <code>numbers</code> like so:"
   ]
  },
  {
   "cell_type": "code",
   "execution_count": 4,
   "metadata": {},
   "outputs": [
    {
     "data": {
      "text/plain": [
       "array([100,  81, 169], dtype=int32)"
      ]
     },
     "execution_count": 4,
     "metadata": {},
     "output_type": "execute_result"
    }
   ],
   "source": [
    "#Because numbers is a normal Python array, we need to pass it into np.array() first\n",
    "np.array(numbers)**2"
   ]
  },
  {
   "cell_type": "markdown",
   "metadata": {},
   "source": [
    "Try adding 3 to every value of <code>more_numbers</code>:"
   ]
  },
  {
   "cell_type": "code",
   "execution_count": 5,
   "metadata": {},
   "outputs": [
    {
     "data": {
      "text/plain": [
       "array([1871,  541,  438])"
      ]
     },
     "execution_count": 5,
     "metadata": {},
     "output_type": "execute_result"
    }
   ],
   "source": [
    "#Because more_numbers is already a numpy array, we don't need to pass it into the np.array() function\n",
    "more_numbers +3"
   ]
  },
  {
   "cell_type": "markdown",
   "metadata": {},
   "source": [
    "Just like with variables, we can perform multiple operations on a numpy array in one expression. Below, we triple every value of <code>numbers</code> and subtract 4:"
   ]
  },
  {
   "cell_type": "code",
   "execution_count": 6,
   "metadata": {
    "scrolled": true
   },
   "outputs": [
    {
     "data": {
      "text/plain": [
       "array([26, 23, 35])"
      ]
     },
     "execution_count": 6,
     "metadata": {},
     "output_type": "execute_result"
    }
   ],
   "source": [
    "np.array(numbers)*3 -4"
   ]
  },
  {
   "cell_type": "markdown",
   "metadata": {},
   "source": [
    "Try dividing every value of <code>more_numbers</code> by 6 and adding 8:"
   ]
  },
  {
   "cell_type": "code",
   "execution_count": 7,
   "metadata": {},
   "outputs": [
    {
     "data": {
      "text/plain": [
       "array([319.33333333,  97.66666667,  80.5       ])"
      ]
     },
     "execution_count": 7,
     "metadata": {},
     "output_type": "execute_result"
    }
   ],
   "source": [
    "more_numbers/6 +8"
   ]
  },
  {
   "cell_type": "markdown",
   "metadata": {},
   "source": [
    "Next, let's explore some of the functions that numpy gives us:  \n",
    "1) <code>np.mean()</code> calculates the mean of the input array.    \n",
    "2) <code>np.median()</code>  calculates the median of the input array.  \n",
    "3) <code>np.std()</code>  calculates the standard deviation of the input array.  \n",
    "4) <code>np.sqrt()</code>  calculates the square root of the input value.  \n",
    "5) <code>np.random.choice()</code> chooses one value at random from the input array."
   ]
  },
  {
   "cell_type": "markdown",
   "metadata": {},
   "source": [
    "### 1) np.mean()\n",
    "In the cell below, we calculate the average of the <code>numbers</code> array. In the cell below it, calculate the mean of the <code>more_numbers</code> array. What differences do you notice?"
   ]
  },
  {
   "cell_type": "code",
   "execution_count": 8,
   "metadata": {
    "scrolled": true
   },
   "outputs": [
    {
     "data": {
      "text/plain": [
       "10.666666666666666"
      ]
     },
     "execution_count": 8,
     "metadata": {},
     "output_type": "execute_result"
    }
   ],
   "source": [
    "np.mean(numbers)"
   ]
  },
  {
   "cell_type": "code",
   "execution_count": 9,
   "metadata": {},
   "outputs": [
    {
     "data": {
      "text/plain": [
       "947.0"
      ]
     },
     "execution_count": 9,
     "metadata": {},
     "output_type": "execute_result"
    }
   ],
   "source": [
    "np.mean(more_numbers)"
   ]
  },
  {
   "cell_type": "markdown",
   "metadata": {},
   "source": [
    "### 2) np.median()\n",
    "In the cell below, we calculate the median value of the <code>numbers</code> array. In the cell below it, calculate the median of the <code>more_numbers</code> array. What differences do you notice?"
   ]
  },
  {
   "cell_type": "code",
   "execution_count": 10,
   "metadata": {
    "scrolled": true
   },
   "outputs": [
    {
     "data": {
      "text/plain": [
       "10.0"
      ]
     },
     "execution_count": 10,
     "metadata": {},
     "output_type": "execute_result"
    }
   ],
   "source": [
    "np.median(numbers)"
   ]
  },
  {
   "cell_type": "code",
   "execution_count": 11,
   "metadata": {},
   "outputs": [
    {
     "data": {
      "text/plain": [
       "538.0"
      ]
     },
     "execution_count": 11,
     "metadata": {},
     "output_type": "execute_result"
    }
   ],
   "source": [
    "np.median(more_numbers)"
   ]
  },
  {
   "cell_type": "markdown",
   "metadata": {},
   "source": [
    "### 3) np.std()\n",
    "In the cell below, we calculate the standard deivation of the <code>numbers</code> array. In the cell below it, calculate the standard deviation of the <code>more_numbers</code> array. What differences do you notice?"
   ]
  },
  {
   "cell_type": "code",
   "execution_count": 12,
   "metadata": {
    "scrolled": true
   },
   "outputs": [
    {
     "data": {
      "text/plain": [
       "1.699673171197595"
      ]
     },
     "execution_count": 12,
     "metadata": {},
     "output_type": "execute_result"
    }
   ],
   "source": [
    "np.std(numbers)"
   ]
  },
  {
   "cell_type": "code",
   "execution_count": 13,
   "metadata": {},
   "outputs": [
    {
     "data": {
      "text/plain": [
       "652.6014608217382"
      ]
     },
     "execution_count": 13,
     "metadata": {},
     "output_type": "execute_result"
    }
   ],
   "source": [
    "np.std(more_numbers)"
   ]
  },
  {
   "cell_type": "markdown",
   "metadata": {},
   "source": [
    "### 4) np.sqrt()\n",
    "In the cell below, we calculate the square root of 9."
   ]
  },
  {
   "cell_type": "code",
   "execution_count": 14,
   "metadata": {
    "scrolled": true
   },
   "outputs": [
    {
     "data": {
      "text/plain": [
       "3.0"
      ]
     },
     "execution_count": 14,
     "metadata": {},
     "output_type": "execute_result"
    }
   ],
   "source": [
    "np.sqrt(9)"
   ]
  },
  {
   "cell_type": "markdown",
   "metadata": {},
   "source": [
    "Calculate the square root of the year the school was established. "
   ]
  },
  {
   "cell_type": "code",
   "execution_count": 15,
   "metadata": {},
   "outputs": [
    {
     "data": {
      "text/plain": [
       "43.22036556994862"
      ]
     },
     "execution_count": 15,
     "metadata": {},
     "output_type": "execute_result"
    }
   ],
   "source": [
    "np.sqrt(1868)"
   ]
  },
  {
   "cell_type": "markdown",
   "metadata": {},
   "source": [
    "### 5) np.random.choice()\n",
    "In the cell below, we select a random value from the <code>numbers</code> array. I"
   ]
  },
  {
   "cell_type": "code",
   "execution_count": 16,
   "metadata": {
    "scrolled": true
   },
   "outputs": [
    {
     "data": {
      "text/plain": [
       "9"
      ]
     },
     "execution_count": 16,
     "metadata": {},
     "output_type": "execute_result"
    }
   ],
   "source": [
    "np.random.choice(numbers)"
   ]
  },
  {
   "cell_type": "markdown",
   "metadata": {},
   "source": [
    "Choose a random value from the <code>more_numbers</code> array. What happens when you repeatedly run the cell?"
   ]
  },
  {
   "cell_type": "code",
   "execution_count": 17,
   "metadata": {},
   "outputs": [
    {
     "data": {
      "text/plain": [
       "538"
      ]
     },
     "execution_count": 17,
     "metadata": {},
     "output_type": "execute_result"
    }
   ],
   "source": [
    "np.random.choice(more_numbers)"
   ]
  },
  {
   "cell_type": "markdown",
   "metadata": {},
   "source": [
    "## Tables\n",
    "Using the <code>datascience</code> library, we can import Excel spreadsheets as CSVs. Python allows you to accomplish the same tasks as Excel faster, as well as providing even more extensive performance. To start, import the <code>Table</code> class from <code>datascience</code>:"
   ]
  },
  {
   "cell_type": "code",
   "execution_count": 18,
   "metadata": {},
   "outputs": [],
   "source": [
    "from datascience import Table"
   ]
  },
  {
   "cell_type": "markdown",
   "metadata": {},
   "source": [
    "To create a table, we call Table():"
   ]
  },
  {
   "cell_type": "code",
   "execution_count": 19,
   "metadata": {},
   "outputs": [
    {
     "data": {
      "text/html": [
       "<table border=\"1\" class=\"dataframe\">\n",
       "    <thead>\n",
       "        <tr>\n",
       "            \n",
       "        </tr>\n",
       "    </thead>\n",
       "    <tbody>\n",
       "    </tbody>\n",
       "</table>"
      ],
      "text/plain": []
     },
     "execution_count": 19,
     "metadata": {},
     "output_type": "execute_result"
    }
   ],
   "source": [
    "Table()"
   ]
  },
  {
   "cell_type": "markdown",
   "metadata": {},
   "source": [
    "Wait a second! This doesn't have any information. In order to add columns, we use the <code>.add_columns()</code> function:"
   ]
  },
  {
   "cell_type": "code",
   "execution_count": 20,
   "metadata": {},
   "outputs": [
    {
     "data": {
      "text/html": [
       "<table border=\"1\" class=\"dataframe\">\n",
       "    <thead>\n",
       "        <tr>\n",
       "            <th>First Column</th> <th>Second Column</th>\n",
       "        </tr>\n",
       "    </thead>\n",
       "    <tbody>\n",
       "        <tr>\n",
       "            <td>1           </td> <td>3            </td>\n",
       "        </tr>\n",
       "        <tr>\n",
       "            <td>2           </td> <td>4            </td>\n",
       "        </tr>\n",
       "    </tbody>\n",
       "</table>"
      ],
      "text/plain": [
       "First Column | Second Column\n",
       "1            | 3\n",
       "2            | 4"
      ]
     },
     "execution_count": 20,
     "metadata": {},
     "output_type": "execute_result"
    }
   ],
   "source": [
    "Table().with_columns(\n",
    "    'First Column', [1,2],\n",
    "    'Second Column', [3,4]\n",
    ")"
   ]
  },
  {
   "cell_type": "markdown",
   "metadata": {},
   "source": [
    "The above function works as a series of strings for column names followed by an array for the column values. To practice, create a table with 3 columns, titled \"Political Science\", \"Sociology\", and \"Legal Studies\". For each column, give it an array with 3 numeric values (you can choose any numbers you want!)."
   ]
  },
  {
   "cell_type": "code",
   "execution_count": 21,
   "metadata": {
    "scrolled": true
   },
   "outputs": [
    {
     "data": {
      "text/html": [
       "<table border=\"1\" class=\"dataframe\">\n",
       "    <thead>\n",
       "        <tr>\n",
       "            <th>Political Science</th> <th>Sociology</th> <th>Legal Studies</th>\n",
       "        </tr>\n",
       "    </thead>\n",
       "    <tbody>\n",
       "        <tr>\n",
       "            <td>1                </td> <td>4        </td> <td>7            </td>\n",
       "        </tr>\n",
       "        <tr>\n",
       "            <td>2                </td> <td>5        </td> <td>8            </td>\n",
       "        </tr>\n",
       "        <tr>\n",
       "            <td>3                </td> <td>6        </td> <td>9            </td>\n",
       "        </tr>\n",
       "    </tbody>\n",
       "</table>"
      ],
      "text/plain": [
       "Political Science | Sociology | Legal Studies\n",
       "1                 | 4         | 7\n",
       "2                 | 5         | 8\n",
       "3                 | 6         | 9"
      ]
     },
     "execution_count": 21,
     "metadata": {},
     "output_type": "execute_result"
    }
   ],
   "source": [
    "Table().with_columns(\n",
    "    'Political Science', [1,2,3],\n",
    "    'Sociology', [4,5,6],\n",
    "    'Legal Studies', [7,8,9]\n",
    ")"
   ]
  },
  {
   "cell_type": "markdown",
   "metadata": {},
   "source": [
    "### Interacting with Table Values\n",
    "Columns in these tables are secretly numpy arrays, which means that when we select single table columns, we can peform the same kind of operations as we can on numpy arrays. Below, we select the first column using <code>.column()</code>, with the column header as the input. "
   ]
  },
  {
   "cell_type": "code",
   "execution_count": 22,
   "metadata": {},
   "outputs": [
    {
     "data": {
      "text/plain": [
       "array([1, 2])"
      ]
     },
     "execution_count": 22,
     "metadata": {},
     "output_type": "execute_result"
    }
   ],
   "source": [
    "basic_table = Table().with_columns(\n",
    "    'First Column', [1,2],\n",
    "    'Second Column', [3,4]\n",
    ")\n",
    "basic_table.column('First Column')"
   ]
  },
  {
   "cell_type": "markdown",
   "metadata": {},
   "source": [
    "Let's calculate the average value, median, and standard deviation for each column:"
   ]
  },
  {
   "cell_type": "code",
   "execution_count": 23,
   "metadata": {},
   "outputs": [
    {
     "data": {
      "text/plain": [
       "(1.5, 1.5, 0.5)"
      ]
     },
     "execution_count": 23,
     "metadata": {},
     "output_type": "execute_result"
    }
   ],
   "source": [
    "first_mean = np.mean(basic_table.column('First Column')) \n",
    "first_median = np.median(basic_table.column('First Column'))\n",
    "first_standard_dev = np.std(basic_table.column('First Column'))\n",
    "first_mean, first_median, first_standard_dev"
   ]
  },
  {
   "cell_type": "code",
   "execution_count": 24,
   "metadata": {},
   "outputs": [
    {
     "data": {
      "text/plain": [
       "(3.5, 3.5, 0.5)"
      ]
     },
     "execution_count": 24,
     "metadata": {},
     "output_type": "execute_result"
    }
   ],
   "source": [
    "second_mean = np.mean(basic_table.column('Second Column')) \n",
    "second_median = np.median(basic_table.column('Second Column'))\n",
    "second_standard_dev = np.std(basic_table.column('Second Column'))\n",
    "second_mean, second_median, second_standard_dev"
   ]
  },
  {
   "cell_type": "markdown",
   "metadata": {},
   "source": [
    "In addition to creating our own tables, we can also import tables. Calling <code>Table.read_table()</code> with a folder address (e.g, \"C:\\Users\\user_name\\directory_1\\POLSCI-3\\data\\example.csv\") as the input enables us to read in existing spreadsheets. In the cell below, we read in a CSV file with data on country military spending:"
   ]
  },
  {
   "cell_type": "code",
   "execution_count": 26,
   "metadata": {},
   "outputs": [
    {
     "data": {
      "text/html": [
       "<table border=\"1\" class=\"dataframe\">\n",
       "    <thead>\n",
       "        <tr>\n",
       "            <th>nation</th> <th>milspend_pct</th> <th>year</th> <th>nat_num</th> <th>x</th> <th>counter</th>\n",
       "        </tr>\n",
       "    </thead>\n",
       "    <tbody>\n",
       "        <tr>\n",
       "            <td>Chad        </td> <td>1           </td> <td>2005</td> <td>27     </td> <td>0.142204 </td> <td>1      </td>\n",
       "        </tr>\n",
       "        <tr>\n",
       "            <td>Sierra Leone</td> <td>1           </td> <td>2005</td> <td>111    </td> <td>0.147076 </td> <td>2      </td>\n",
       "        </tr>\n",
       "        <tr>\n",
       "            <td>Bangladesh  </td> <td>1           </td> <td>2005</td> <td>12     </td> <td>0.0647808</td> <td>3      </td>\n",
       "        </tr>\n",
       "        <tr>\n",
       "            <td>Belgium     </td> <td>1.1         </td> <td>2005</td> <td>14     </td> <td>0.131931 </td> <td>4      </td>\n",
       "        </tr>\n",
       "        <tr>\n",
       "            <td>Lithuania   </td> <td>1.2         </td> <td>2005</td> <td>74     </td> <td>0.0682282</td> <td>5      </td>\n",
       "        </tr>\n",
       "        <tr>\n",
       "            <td>Uruguay     </td> <td>1.3         </td> <td>2005</td> <td>132    </td> <td>0.137965 </td> <td>6      </td>\n",
       "        </tr>\n",
       "        <tr>\n",
       "            <td>Congo       </td> <td>1.4         </td> <td>2005</td> <td>31     </td> <td>0.0904684</td> <td>7      </td>\n",
       "        </tr>\n",
       "        <tr>\n",
       "            <td>Peru        </td> <td>1.4         </td> <td>2005</td> <td>100    </td> <td>0.0550891</td> <td>8      </td>\n",
       "        </tr>\n",
       "        <tr>\n",
       "            <td>Albania     </td> <td>1.4         </td> <td>2005</td> <td>2      </td> <td>0.167394 </td> <td>9      </td>\n",
       "        </tr>\n",
       "        <tr>\n",
       "            <td>Germany     </td> <td>1.4         </td> <td>2005</td> <td>48     </td> <td>0.0502653</td> <td>10     </td>\n",
       "        </tr>\n",
       "    </tbody>\n",
       "</table>\n",
       "<p>... (12 rows omitted)</p>"
      ],
      "text/plain": [
       "nation       | milspend_pct | year | nat_num | x         | counter\n",
       "Chad         | 1            | 2005 | 27      | 0.142204  | 1\n",
       "Sierra Leone | 1            | 2005 | 111     | 0.147076  | 2\n",
       "Bangladesh   | 1            | 2005 | 12      | 0.0647808 | 3\n",
       "Belgium      | 1.1          | 2005 | 14      | 0.131931  | 4\n",
       "Lithuania    | 1.2          | 2005 | 74      | 0.0682282 | 5\n",
       "Uruguay      | 1.3          | 2005 | 132     | 0.137965  | 6\n",
       "Congo        | 1.4          | 2005 | 31      | 0.0904684 | 7\n",
       "Peru         | 1.4          | 2005 | 100     | 0.0550891 | 8\n",
       "Albania      | 1.4          | 2005 | 2       | 0.167394  | 9\n",
       "Germany      | 1.4          | 2005 | 48      | 0.0502653 | 10\n",
       "... (12 rows omitted)"
      ]
     },
     "execution_count": 26,
     "metadata": {},
     "output_type": "execute_result"
    }
   ],
   "source": [
    "military_spending = Table.read_table('data/milspend_pct_05.csv')\n",
    "military_spending"
   ]
  },
  {
   "cell_type": "markdown",
   "metadata": {},
   "source": [
    "The second column is the percentage of the budget that any country spent on their military. What is the average amount spent on the military?"
   ]
  },
  {
   "cell_type": "code",
   "execution_count": 27,
   "metadata": {},
   "outputs": [
    {
     "data": {
      "text/plain": [
       "2.0909090909090913"
      ]
     },
     "execution_count": 27,
     "metadata": {},
     "output_type": "execute_result"
    }
   ],
   "source": [
    "np.mean(military_spending.column('milspend_pct'))"
   ]
  },
  {
   "cell_type": "markdown",
   "metadata": {},
   "source": [
    "How do the median and mean military spending values differ?"
   ]
  },
  {
   "cell_type": "code",
   "execution_count": 28,
   "metadata": {},
   "outputs": [
    {
     "data": {
      "text/plain": [
       "0.6409090909090913"
      ]
     },
     "execution_count": 28,
     "metadata": {},
     "output_type": "execute_result"
    }
   ],
   "source": [
    "np.mean(military_spending.column('milspend_pct'))- np.median(military_spending.column('milspend_pct'))"
   ]
  },
  {
   "cell_type": "markdown",
   "metadata": {},
   "source": [
    "## Saving Your Notebook\n",
    "Now that you've finished the homework, we need to save it! To do this, click <code>File</code> $\\rightarrow$ <code>Download as</code> $\\rightarrow$ <code>PDF via Chrome</code>"
   ]
  },
  {
   "cell_type": "code",
   "execution_count": null,
   "metadata": {},
   "outputs": [],
   "source": []
  }
 ],
 "metadata": {
  "kernelspec": {
   "display_name": "Python 3",
   "language": "python",
   "name": "python3"
  },
  "language_info": {
   "codemirror_mode": {
    "name": "ipython",
    "version": 3
   },
   "file_extension": ".py",
   "mimetype": "text/x-python",
   "name": "python",
   "nbconvert_exporter": "python",
   "pygments_lexer": "ipython3",
   "version": "3.7.4"
  }
 },
 "nbformat": 4,
 "nbformat_minor": 2
}
